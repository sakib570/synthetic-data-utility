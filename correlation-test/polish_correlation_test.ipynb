{
 "cells": [
  {
   "cell_type": "code",
   "execution_count": 46,
   "id": "dbe54fe1",
   "metadata": {},
   "outputs": [
    {
     "data": {
      "text/html": [
       "<table class=\"dataframe\">\n",
       "<caption>A data.frame: 18 × 13</caption>\n",
       "<thead>\n",
       "\t<tr><th scope=col>Dataset</th><th scope=col>Method</th><th scope=col>Income.Classifcation</th><th scope=col>Male.education.Vocational.Grammar.m.1000</th><th scope=col>Male.education.Vocational.Grammar.m.10</th><th scope=col>Female.Income.1K.2K.m..1000</th><th scope=col>Female.Income.1K.2K.m.10..71.80.</th><th scope=col>Female.Income.1K.2K.m.10..811.820.</th><th scope=col>Married.alcabuse.Yes</th><th scope=col>CIO.Regression.Fits.Raab..2016..m.10</th><th scope=col>Average.KL.Dv.over.all.variables.and.normalized.using.sample</th><th scope=col>APO.above.90..Raab..2016..m.10</th><th scope=col>Deviation.from.Original</th></tr>\n",
       "\t<tr><th scope=col>&lt;chr&gt;</th><th scope=col>&lt;chr&gt;</th><th scope=col>&lt;dbl&gt;</th><th scope=col>&lt;dbl&gt;</th><th scope=col>&lt;dbl&gt;</th><th scope=col>&lt;dbl&gt;</th><th scope=col>&lt;dbl&gt;</th><th scope=col>&lt;dbl&gt;</th><th scope=col>&lt;dbl&gt;</th><th scope=col>&lt;dbl&gt;</th><th scope=col>&lt;dbl&gt;</th><th scope=col>&lt;dbl&gt;</th><th scope=col>&lt;dbl&gt;</th></tr>\n",
       "</thead>\n",
       "<tbody>\n",
       "\t<tr><td>Polish</td><td>Original       </td><td>46.480</td><td>17.80000</td><td>17.800</td><td>18.92000</td><td>18.920</td><td>18.920</td><td>3.540</td><td>   NA</td><td>  NA</td><td>   NA</td><td>    NA</td></tr>\n",
       "\t<tr><td>      </td><td>sdsPolishCatMC </td><td>46.496</td><td>17.79362</td><td>17.596</td><td>18.82652</td><td>18.996</td><td>18.656</td><td>3.570</td><td>0.890</td><td>1.03</td><td>0.575</td><td> 0.016</td></tr>\n",
       "\t<tr><td>      </td><td>sdsPolishCatMCT</td><td>46.340</td><td>17.80708</td><td>17.994</td><td>18.94630</td><td>19.058</td><td>18.806</td><td>3.712</td><td>0.870</td><td>2.10</td><td>0.475</td><td> 0.140</td></tr>\n",
       "\t<tr><td>      </td><td>sdsPolishCatMP </td><td>46.222</td><td>17.80060</td><td>17.460</td><td>18.20438</td><td>18.404</td><td>18.416</td><td>3.518</td><td>0.840</td><td>1.07</td><td>0.498</td><td> 0.258</td></tr>\n",
       "\t<tr><td>      </td><td>sdsPolishCatMPT</td><td>41.858</td><td>17.80318</td><td>18.156</td><td>18.20982</td><td>18.216</td><td>18.188</td><td>3.370</td><td>0.790</td><td>2.37</td><td>0.375</td><td> 4.622</td></tr>\n",
       "\t<tr><td>      </td><td>sdsPolishDecM  </td><td>46.772</td><td>17.30214</td><td>17.392</td><td>18.86950</td><td>18.918</td><td>18.874</td><td>3.614</td><td>0.875</td><td>1.06</td><td>0.498</td><td> 0.292</td></tr>\n",
       "\t<tr><td>      </td><td>sdsPolishDecMO </td><td>46.276</td><td>16.72618</td><td>16.644</td><td>18.37558</td><td>18.322</td><td>18.366</td><td>3.514</td><td>0.640</td><td>1.29</td><td>0.210</td><td> 0.204</td></tr>\n",
       "\t<tr><td>      </td><td>sdsPolishDecMOT</td><td>46.042</td><td>16.68600</td><td>17.018</td><td>18.92518</td><td>19.000</td><td>18.824</td><td>3.378</td><td>0.725</td><td>2.33</td><td>0.252</td><td> 0.438</td></tr>\n",
       "\t<tr><td>      </td><td>sdsPolishDecMT </td><td>46.402</td><td>17.51110</td><td>17.440</td><td>18.86456</td><td>19.296</td><td>18.980</td><td>3.310</td><td>0.847</td><td>2.28</td><td>0.435</td><td> 0.078</td></tr>\n",
       "\t<tr><td>      </td><td>sdsPolishDecMV </td><td>46.622</td><td>17.62920</td><td>17.564</td><td>18.88872</td><td>18.896</td><td>18.880</td><td>3.850</td><td>0.855</td><td>1.07</td><td>0.452</td><td> 0.142</td></tr>\n",
       "\t<tr><td>      </td><td>sdsPolishDecMVT</td><td>46.420</td><td>17.66116</td><td>17.492</td><td>18.88414</td><td>19.072</td><td>18.650</td><td>3.264</td><td>0.830</td><td>2.29</td><td>0.390</td><td> 0.060</td></tr>\n",
       "\t<tr><td>      </td><td>sdsPolishParM  </td><td>43.158</td><td>17.78866</td><td>17.670</td><td>19.68048</td><td>20.520</td><td>19.662</td><td>3.702</td><td>0.740</td><td>1.21</td><td>0.375</td><td> 3.322</td></tr>\n",
       "\t<tr><td>      </td><td>sdsPolishParMO </td><td>41.730</td><td>17.43634</td><td>17.392</td><td>20.18868</td><td>20.386</td><td>20.110</td><td>3.492</td><td>0.700</td><td>1.13</td><td>0.330</td><td> 4.750</td></tr>\n",
       "\t<tr><td>      </td><td>sdsPolishParMOT</td><td>41.006</td><td>17.42914</td><td>17.404</td><td>20.12706</td><td>20.012</td><td>20.254</td><td>3.410</td><td>0.680</td><td>1.86</td><td>0.290</td><td> 5.474</td></tr>\n",
       "\t<tr><td>      </td><td>sdsPolishParMT </td><td>42.766</td><td>17.78338</td><td>17.880</td><td>19.72164</td><td>19.824</td><td>19.808</td><td>3.680</td><td>0.730</td><td>1.96</td><td>0.340</td><td> 3.714</td></tr>\n",
       "\t<tr><td>      </td><td>sdsPolishParMV </td><td>42.804</td><td>17.83070</td><td>17.912</td><td>19.69568</td><td>19.644</td><td>19.866</td><td>3.720</td><td>0.740</td><td>1.23</td><td>0.388</td><td> 3.676</td></tr>\n",
       "\t<tr><td>      </td><td>sdsPolishParMVT</td><td>43.266</td><td>17.84566</td><td>17.794</td><td>19.72022</td><td>19.758</td><td>19.654</td><td>3.802</td><td>0.735</td><td>1.96</td><td>0.348</td><td> 3.214</td></tr>\n",
       "\t<tr><td>      </td><td>sdsPolishSamp  </td><td>34.958</td><td>14.09860</td><td>13.954</td><td>19.71134</td><td>19.446</td><td>19.750</td><td>3.744</td><td>0.200</td><td>1.00</td><td>0.050</td><td>11.522</td></tr>\n",
       "</tbody>\n",
       "</table>\n"
      ],
      "text/latex": [
       "A data.frame: 18 × 13\n",
       "\\begin{tabular}{lllllllllllll}\n",
       " Dataset & Method & Income.Classifcation & Male.education.Vocational.Grammar.m.1000 & Male.education.Vocational.Grammar.m.10 & Female.Income.1K.2K.m..1000 & Female.Income.1K.2K.m.10..71.80. & Female.Income.1K.2K.m.10..811.820. & Married.alcabuse.Yes & CIO.Regression.Fits.Raab..2016..m.10 & Average.KL.Dv.over.all.variables.and.normalized.using.sample & APO.above.90..Raab..2016..m.10 & Deviation.from.Original\\\\\n",
       " <chr> & <chr> & <dbl> & <dbl> & <dbl> & <dbl> & <dbl> & <dbl> & <dbl> & <dbl> & <dbl> & <dbl> & <dbl>\\\\\n",
       "\\hline\n",
       "\t Polish & Original        & 46.480 & 17.80000 & 17.800 & 18.92000 & 18.920 & 18.920 & 3.540 &    NA &   NA &    NA &     NA\\\\\n",
       "\t        & sdsPolishCatMC  & 46.496 & 17.79362 & 17.596 & 18.82652 & 18.996 & 18.656 & 3.570 & 0.890 & 1.03 & 0.575 &  0.016\\\\\n",
       "\t        & sdsPolishCatMCT & 46.340 & 17.80708 & 17.994 & 18.94630 & 19.058 & 18.806 & 3.712 & 0.870 & 2.10 & 0.475 &  0.140\\\\\n",
       "\t        & sdsPolishCatMP  & 46.222 & 17.80060 & 17.460 & 18.20438 & 18.404 & 18.416 & 3.518 & 0.840 & 1.07 & 0.498 &  0.258\\\\\n",
       "\t        & sdsPolishCatMPT & 41.858 & 17.80318 & 18.156 & 18.20982 & 18.216 & 18.188 & 3.370 & 0.790 & 2.37 & 0.375 &  4.622\\\\\n",
       "\t        & sdsPolishDecM   & 46.772 & 17.30214 & 17.392 & 18.86950 & 18.918 & 18.874 & 3.614 & 0.875 & 1.06 & 0.498 &  0.292\\\\\n",
       "\t        & sdsPolishDecMO  & 46.276 & 16.72618 & 16.644 & 18.37558 & 18.322 & 18.366 & 3.514 & 0.640 & 1.29 & 0.210 &  0.204\\\\\n",
       "\t        & sdsPolishDecMOT & 46.042 & 16.68600 & 17.018 & 18.92518 & 19.000 & 18.824 & 3.378 & 0.725 & 2.33 & 0.252 &  0.438\\\\\n",
       "\t        & sdsPolishDecMT  & 46.402 & 17.51110 & 17.440 & 18.86456 & 19.296 & 18.980 & 3.310 & 0.847 & 2.28 & 0.435 &  0.078\\\\\n",
       "\t        & sdsPolishDecMV  & 46.622 & 17.62920 & 17.564 & 18.88872 & 18.896 & 18.880 & 3.850 & 0.855 & 1.07 & 0.452 &  0.142\\\\\n",
       "\t        & sdsPolishDecMVT & 46.420 & 17.66116 & 17.492 & 18.88414 & 19.072 & 18.650 & 3.264 & 0.830 & 2.29 & 0.390 &  0.060\\\\\n",
       "\t        & sdsPolishParM   & 43.158 & 17.78866 & 17.670 & 19.68048 & 20.520 & 19.662 & 3.702 & 0.740 & 1.21 & 0.375 &  3.322\\\\\n",
       "\t        & sdsPolishParMO  & 41.730 & 17.43634 & 17.392 & 20.18868 & 20.386 & 20.110 & 3.492 & 0.700 & 1.13 & 0.330 &  4.750\\\\\n",
       "\t        & sdsPolishParMOT & 41.006 & 17.42914 & 17.404 & 20.12706 & 20.012 & 20.254 & 3.410 & 0.680 & 1.86 & 0.290 &  5.474\\\\\n",
       "\t        & sdsPolishParMT  & 42.766 & 17.78338 & 17.880 & 19.72164 & 19.824 & 19.808 & 3.680 & 0.730 & 1.96 & 0.340 &  3.714\\\\\n",
       "\t        & sdsPolishParMV  & 42.804 & 17.83070 & 17.912 & 19.69568 & 19.644 & 19.866 & 3.720 & 0.740 & 1.23 & 0.388 &  3.676\\\\\n",
       "\t        & sdsPolishParMVT & 43.266 & 17.84566 & 17.794 & 19.72022 & 19.758 & 19.654 & 3.802 & 0.735 & 1.96 & 0.348 &  3.214\\\\\n",
       "\t        & sdsPolishSamp   & 34.958 & 14.09860 & 13.954 & 19.71134 & 19.446 & 19.750 & 3.744 & 0.200 & 1.00 & 0.050 & 11.522\\\\\n",
       "\\end{tabular}\n"
      ],
      "text/markdown": [
       "\n",
       "A data.frame: 18 × 13\n",
       "\n",
       "| Dataset &lt;chr&gt; | Method &lt;chr&gt; | Income.Classifcation &lt;dbl&gt; | Male.education.Vocational.Grammar.m.1000 &lt;dbl&gt; | Male.education.Vocational.Grammar.m.10 &lt;dbl&gt; | Female.Income.1K.2K.m..1000 &lt;dbl&gt; | Female.Income.1K.2K.m.10..71.80. &lt;dbl&gt; | Female.Income.1K.2K.m.10..811.820. &lt;dbl&gt; | Married.alcabuse.Yes &lt;dbl&gt; | CIO.Regression.Fits.Raab..2016..m.10 &lt;dbl&gt; | Average.KL.Dv.over.all.variables.and.normalized.using.sample &lt;dbl&gt; | APO.above.90..Raab..2016..m.10 &lt;dbl&gt; | Deviation.from.Original &lt;dbl&gt; |\n",
       "|---|---|---|---|---|---|---|---|---|---|---|---|---|\n",
       "| Polish | Original        | 46.480 | 17.80000 | 17.800 | 18.92000 | 18.920 | 18.920 | 3.540 |    NA |   NA |    NA |     NA |\n",
       "| <!----> | sdsPolishCatMC  | 46.496 | 17.79362 | 17.596 | 18.82652 | 18.996 | 18.656 | 3.570 | 0.890 | 1.03 | 0.575 |  0.016 |\n",
       "| <!----> | sdsPolishCatMCT | 46.340 | 17.80708 | 17.994 | 18.94630 | 19.058 | 18.806 | 3.712 | 0.870 | 2.10 | 0.475 |  0.140 |\n",
       "| <!----> | sdsPolishCatMP  | 46.222 | 17.80060 | 17.460 | 18.20438 | 18.404 | 18.416 | 3.518 | 0.840 | 1.07 | 0.498 |  0.258 |\n",
       "| <!----> | sdsPolishCatMPT | 41.858 | 17.80318 | 18.156 | 18.20982 | 18.216 | 18.188 | 3.370 | 0.790 | 2.37 | 0.375 |  4.622 |\n",
       "| <!----> | sdsPolishDecM   | 46.772 | 17.30214 | 17.392 | 18.86950 | 18.918 | 18.874 | 3.614 | 0.875 | 1.06 | 0.498 |  0.292 |\n",
       "| <!----> | sdsPolishDecMO  | 46.276 | 16.72618 | 16.644 | 18.37558 | 18.322 | 18.366 | 3.514 | 0.640 | 1.29 | 0.210 |  0.204 |\n",
       "| <!----> | sdsPolishDecMOT | 46.042 | 16.68600 | 17.018 | 18.92518 | 19.000 | 18.824 | 3.378 | 0.725 | 2.33 | 0.252 |  0.438 |\n",
       "| <!----> | sdsPolishDecMT  | 46.402 | 17.51110 | 17.440 | 18.86456 | 19.296 | 18.980 | 3.310 | 0.847 | 2.28 | 0.435 |  0.078 |\n",
       "| <!----> | sdsPolishDecMV  | 46.622 | 17.62920 | 17.564 | 18.88872 | 18.896 | 18.880 | 3.850 | 0.855 | 1.07 | 0.452 |  0.142 |\n",
       "| <!----> | sdsPolishDecMVT | 46.420 | 17.66116 | 17.492 | 18.88414 | 19.072 | 18.650 | 3.264 | 0.830 | 2.29 | 0.390 |  0.060 |\n",
       "| <!----> | sdsPolishParM   | 43.158 | 17.78866 | 17.670 | 19.68048 | 20.520 | 19.662 | 3.702 | 0.740 | 1.21 | 0.375 |  3.322 |\n",
       "| <!----> | sdsPolishParMO  | 41.730 | 17.43634 | 17.392 | 20.18868 | 20.386 | 20.110 | 3.492 | 0.700 | 1.13 | 0.330 |  4.750 |\n",
       "| <!----> | sdsPolishParMOT | 41.006 | 17.42914 | 17.404 | 20.12706 | 20.012 | 20.254 | 3.410 | 0.680 | 1.86 | 0.290 |  5.474 |\n",
       "| <!----> | sdsPolishParMT  | 42.766 | 17.78338 | 17.880 | 19.72164 | 19.824 | 19.808 | 3.680 | 0.730 | 1.96 | 0.340 |  3.714 |\n",
       "| <!----> | sdsPolishParMV  | 42.804 | 17.83070 | 17.912 | 19.69568 | 19.644 | 19.866 | 3.720 | 0.740 | 1.23 | 0.388 |  3.676 |\n",
       "| <!----> | sdsPolishParMVT | 43.266 | 17.84566 | 17.794 | 19.72022 | 19.758 | 19.654 | 3.802 | 0.735 | 1.96 | 0.348 |  3.214 |\n",
       "| <!----> | sdsPolishSamp   | 34.958 | 14.09860 | 13.954 | 19.71134 | 19.446 | 19.750 | 3.744 | 0.200 | 1.00 | 0.050 | 11.522 |\n",
       "\n"
      ],
      "text/plain": [
       "   Dataset Method          Income.Classifcation\n",
       "1  Polish  Original        46.480              \n",
       "2          sdsPolishCatMC  46.496              \n",
       "3          sdsPolishCatMCT 46.340              \n",
       "4          sdsPolishCatMP  46.222              \n",
       "5          sdsPolishCatMPT 41.858              \n",
       "6          sdsPolishDecM   46.772              \n",
       "7          sdsPolishDecMO  46.276              \n",
       "8          sdsPolishDecMOT 46.042              \n",
       "9          sdsPolishDecMT  46.402              \n",
       "10         sdsPolishDecMV  46.622              \n",
       "11         sdsPolishDecMVT 46.420              \n",
       "12         sdsPolishParM   43.158              \n",
       "13         sdsPolishParMO  41.730              \n",
       "14         sdsPolishParMOT 41.006              \n",
       "15         sdsPolishParMT  42.766              \n",
       "16         sdsPolishParMV  42.804              \n",
       "17         sdsPolishParMVT 43.266              \n",
       "18         sdsPolishSamp   34.958              \n",
       "   Male.education.Vocational.Grammar.m.1000\n",
       "1  17.80000                                \n",
       "2  17.79362                                \n",
       "3  17.80708                                \n",
       "4  17.80060                                \n",
       "5  17.80318                                \n",
       "6  17.30214                                \n",
       "7  16.72618                                \n",
       "8  16.68600                                \n",
       "9  17.51110                                \n",
       "10 17.62920                                \n",
       "11 17.66116                                \n",
       "12 17.78866                                \n",
       "13 17.43634                                \n",
       "14 17.42914                                \n",
       "15 17.78338                                \n",
       "16 17.83070                                \n",
       "17 17.84566                                \n",
       "18 14.09860                                \n",
       "   Male.education.Vocational.Grammar.m.10 Female.Income.1K.2K.m..1000\n",
       "1  17.800                                 18.92000                   \n",
       "2  17.596                                 18.82652                   \n",
       "3  17.994                                 18.94630                   \n",
       "4  17.460                                 18.20438                   \n",
       "5  18.156                                 18.20982                   \n",
       "6  17.392                                 18.86950                   \n",
       "7  16.644                                 18.37558                   \n",
       "8  17.018                                 18.92518                   \n",
       "9  17.440                                 18.86456                   \n",
       "10 17.564                                 18.88872                   \n",
       "11 17.492                                 18.88414                   \n",
       "12 17.670                                 19.68048                   \n",
       "13 17.392                                 20.18868                   \n",
       "14 17.404                                 20.12706                   \n",
       "15 17.880                                 19.72164                   \n",
       "16 17.912                                 19.69568                   \n",
       "17 17.794                                 19.72022                   \n",
       "18 13.954                                 19.71134                   \n",
       "   Female.Income.1K.2K.m.10..71.80. Female.Income.1K.2K.m.10..811.820.\n",
       "1  18.920                           18.920                            \n",
       "2  18.996                           18.656                            \n",
       "3  19.058                           18.806                            \n",
       "4  18.404                           18.416                            \n",
       "5  18.216                           18.188                            \n",
       "6  18.918                           18.874                            \n",
       "7  18.322                           18.366                            \n",
       "8  19.000                           18.824                            \n",
       "9  19.296                           18.980                            \n",
       "10 18.896                           18.880                            \n",
       "11 19.072                           18.650                            \n",
       "12 20.520                           19.662                            \n",
       "13 20.386                           20.110                            \n",
       "14 20.012                           20.254                            \n",
       "15 19.824                           19.808                            \n",
       "16 19.644                           19.866                            \n",
       "17 19.758                           19.654                            \n",
       "18 19.446                           19.750                            \n",
       "   Married.alcabuse.Yes CIO.Regression.Fits.Raab..2016..m.10\n",
       "1  3.540                   NA                               \n",
       "2  3.570                0.890                               \n",
       "3  3.712                0.870                               \n",
       "4  3.518                0.840                               \n",
       "5  3.370                0.790                               \n",
       "6  3.614                0.875                               \n",
       "7  3.514                0.640                               \n",
       "8  3.378                0.725                               \n",
       "9  3.310                0.847                               \n",
       "10 3.850                0.855                               \n",
       "11 3.264                0.830                               \n",
       "12 3.702                0.740                               \n",
       "13 3.492                0.700                               \n",
       "14 3.410                0.680                               \n",
       "15 3.680                0.730                               \n",
       "16 3.720                0.740                               \n",
       "17 3.802                0.735                               \n",
       "18 3.744                0.200                               \n",
       "   Average.KL.Dv.over.all.variables.and.normalized.using.sample\n",
       "1    NA                                                        \n",
       "2  1.03                                                        \n",
       "3  2.10                                                        \n",
       "4  1.07                                                        \n",
       "5  2.37                                                        \n",
       "6  1.06                                                        \n",
       "7  1.29                                                        \n",
       "8  2.33                                                        \n",
       "9  2.28                                                        \n",
       "10 1.07                                                        \n",
       "11 2.29                                                        \n",
       "12 1.21                                                        \n",
       "13 1.13                                                        \n",
       "14 1.86                                                        \n",
       "15 1.96                                                        \n",
       "16 1.23                                                        \n",
       "17 1.96                                                        \n",
       "18 1.00                                                        \n",
       "   APO.above.90..Raab..2016..m.10 Deviation.from.Original\n",
       "1     NA                              NA                 \n",
       "2  0.575                           0.016                 \n",
       "3  0.475                           0.140                 \n",
       "4  0.498                           0.258                 \n",
       "5  0.375                           4.622                 \n",
       "6  0.498                           0.292                 \n",
       "7  0.210                           0.204                 \n",
       "8  0.252                           0.438                 \n",
       "9  0.435                           0.078                 \n",
       "10 0.452                           0.142                 \n",
       "11 0.390                           0.060                 \n",
       "12 0.375                           3.322                 \n",
       "13 0.330                           4.750                 \n",
       "14 0.290                           5.474                 \n",
       "15 0.340                           3.714                 \n",
       "16 0.388                           3.676                 \n",
       "17 0.348                           3.214                 \n",
       "18 0.050                          11.522                 "
      ]
     },
     "metadata": {},
     "output_type": "display_data"
    }
   ],
   "source": [
    "# Read results\n",
    "polish_result <- read.csv('../data/results_csv_files/polish_correlation_data.csv')\n",
    "polish_result"
   ]
  },
  {
   "cell_type": "code",
   "execution_count": 47,
   "id": "620725ca",
   "metadata": {},
   "outputs": [
    {
     "data": {
      "text/html": [
       "<table class=\"dataframe\">\n",
       "<caption>A data.frame: 17 × 13</caption>\n",
       "<thead>\n",
       "\t<tr><th></th><th scope=col>Dataset</th><th scope=col>Method</th><th scope=col>Income.Classifcation</th><th scope=col>Male.education.Vocational.Grammar.m.1000</th><th scope=col>Male.education.Vocational.Grammar.m.10</th><th scope=col>Female.Income.1K.2K.m..1000</th><th scope=col>Female.Income.1K.2K.m.10..71.80.</th><th scope=col>Female.Income.1K.2K.m.10..811.820.</th><th scope=col>Married.alcabuse.Yes</th><th scope=col>CIO.Regression.Fits.Raab..2016..m.10</th><th scope=col>Average.KL.Dv.over.all.variables.and.normalized.using.sample</th><th scope=col>APO.above.90..Raab..2016..m.10</th><th scope=col>Deviation.from.Original</th></tr>\n",
       "\t<tr><th></th><th scope=col>&lt;chr&gt;</th><th scope=col>&lt;chr&gt;</th><th scope=col>&lt;dbl&gt;</th><th scope=col>&lt;dbl&gt;</th><th scope=col>&lt;dbl&gt;</th><th scope=col>&lt;dbl&gt;</th><th scope=col>&lt;dbl&gt;</th><th scope=col>&lt;dbl&gt;</th><th scope=col>&lt;dbl&gt;</th><th scope=col>&lt;dbl&gt;</th><th scope=col>&lt;dbl&gt;</th><th scope=col>&lt;dbl&gt;</th><th scope=col>&lt;dbl&gt;</th></tr>\n",
       "</thead>\n",
       "<tbody>\n",
       "\t<tr><th scope=row>1</th><td>Polish</td><td>Original       </td><td>46.480</td><td>17.80000</td><td>17.800</td><td>18.92000</td><td>18.920</td><td>18.920</td><td>3.540</td><td>   NA</td><td>  NA</td><td>   NA</td><td>   NA</td></tr>\n",
       "\t<tr><th scope=row>2</th><td>      </td><td>sdsPolishCatMC </td><td>46.496</td><td>17.79362</td><td>17.596</td><td>18.82652</td><td>18.996</td><td>18.656</td><td>3.570</td><td>0.890</td><td>1.03</td><td>0.575</td><td>0.016</td></tr>\n",
       "\t<tr><th scope=row>3</th><td>      </td><td>sdsPolishCatMCT</td><td>46.340</td><td>17.80708</td><td>17.994</td><td>18.94630</td><td>19.058</td><td>18.806</td><td>3.712</td><td>0.870</td><td>2.10</td><td>0.475</td><td>0.140</td></tr>\n",
       "\t<tr><th scope=row>4</th><td>      </td><td>sdsPolishCatMP </td><td>46.222</td><td>17.80060</td><td>17.460</td><td>18.20438</td><td>18.404</td><td>18.416</td><td>3.518</td><td>0.840</td><td>1.07</td><td>0.498</td><td>0.258</td></tr>\n",
       "\t<tr><th scope=row>5</th><td>      </td><td>sdsPolishCatMPT</td><td>41.858</td><td>17.80318</td><td>18.156</td><td>18.20982</td><td>18.216</td><td>18.188</td><td>3.370</td><td>0.790</td><td>2.37</td><td>0.375</td><td>4.622</td></tr>\n",
       "\t<tr><th scope=row>6</th><td>      </td><td>sdsPolishDecM  </td><td>46.772</td><td>17.30214</td><td>17.392</td><td>18.86950</td><td>18.918</td><td>18.874</td><td>3.614</td><td>0.875</td><td>1.06</td><td>0.498</td><td>0.292</td></tr>\n",
       "\t<tr><th scope=row>7</th><td>      </td><td>sdsPolishDecMO </td><td>46.276</td><td>16.72618</td><td>16.644</td><td>18.37558</td><td>18.322</td><td>18.366</td><td>3.514</td><td>0.640</td><td>1.29</td><td>0.210</td><td>0.204</td></tr>\n",
       "\t<tr><th scope=row>8</th><td>      </td><td>sdsPolishDecMOT</td><td>46.042</td><td>16.68600</td><td>17.018</td><td>18.92518</td><td>19.000</td><td>18.824</td><td>3.378</td><td>0.725</td><td>2.33</td><td>0.252</td><td>0.438</td></tr>\n",
       "\t<tr><th scope=row>9</th><td>      </td><td>sdsPolishDecMT </td><td>46.402</td><td>17.51110</td><td>17.440</td><td>18.86456</td><td>19.296</td><td>18.980</td><td>3.310</td><td>0.847</td><td>2.28</td><td>0.435</td><td>0.078</td></tr>\n",
       "\t<tr><th scope=row>10</th><td>      </td><td>sdsPolishDecMV </td><td>46.622</td><td>17.62920</td><td>17.564</td><td>18.88872</td><td>18.896</td><td>18.880</td><td>3.850</td><td>0.855</td><td>1.07</td><td>0.452</td><td>0.142</td></tr>\n",
       "\t<tr><th scope=row>11</th><td>      </td><td>sdsPolishDecMVT</td><td>46.420</td><td>17.66116</td><td>17.492</td><td>18.88414</td><td>19.072</td><td>18.650</td><td>3.264</td><td>0.830</td><td>2.29</td><td>0.390</td><td>0.060</td></tr>\n",
       "\t<tr><th scope=row>12</th><td>      </td><td>sdsPolishParM  </td><td>43.158</td><td>17.78866</td><td>17.670</td><td>19.68048</td><td>20.520</td><td>19.662</td><td>3.702</td><td>0.740</td><td>1.21</td><td>0.375</td><td>3.322</td></tr>\n",
       "\t<tr><th scope=row>13</th><td>      </td><td>sdsPolishParMO </td><td>41.730</td><td>17.43634</td><td>17.392</td><td>20.18868</td><td>20.386</td><td>20.110</td><td>3.492</td><td>0.700</td><td>1.13</td><td>0.330</td><td>4.750</td></tr>\n",
       "\t<tr><th scope=row>14</th><td>      </td><td>sdsPolishParMOT</td><td>41.006</td><td>17.42914</td><td>17.404</td><td>20.12706</td><td>20.012</td><td>20.254</td><td>3.410</td><td>0.680</td><td>1.86</td><td>0.290</td><td>5.474</td></tr>\n",
       "\t<tr><th scope=row>15</th><td>      </td><td>sdsPolishParMT </td><td>42.766</td><td>17.78338</td><td>17.880</td><td>19.72164</td><td>19.824</td><td>19.808</td><td>3.680</td><td>0.730</td><td>1.96</td><td>0.340</td><td>3.714</td></tr>\n",
       "\t<tr><th scope=row>16</th><td>      </td><td>sdsPolishParMV </td><td>42.804</td><td>17.83070</td><td>17.912</td><td>19.69568</td><td>19.644</td><td>19.866</td><td>3.720</td><td>0.740</td><td>1.23</td><td>0.388</td><td>3.676</td></tr>\n",
       "\t<tr><th scope=row>17</th><td>      </td><td>sdsPolishParMVT</td><td>43.266</td><td>17.84566</td><td>17.794</td><td>19.72022</td><td>19.758</td><td>19.654</td><td>3.802</td><td>0.735</td><td>1.96</td><td>0.348</td><td>3.214</td></tr>\n",
       "</tbody>\n",
       "</table>\n"
      ],
      "text/latex": [
       "A data.frame: 17 × 13\n",
       "\\begin{tabular}{r|lllllllllllll}\n",
       "  & Dataset & Method & Income.Classifcation & Male.education.Vocational.Grammar.m.1000 & Male.education.Vocational.Grammar.m.10 & Female.Income.1K.2K.m..1000 & Female.Income.1K.2K.m.10..71.80. & Female.Income.1K.2K.m.10..811.820. & Married.alcabuse.Yes & CIO.Regression.Fits.Raab..2016..m.10 & Average.KL.Dv.over.all.variables.and.normalized.using.sample & APO.above.90..Raab..2016..m.10 & Deviation.from.Original\\\\\n",
       "  & <chr> & <chr> & <dbl> & <dbl> & <dbl> & <dbl> & <dbl> & <dbl> & <dbl> & <dbl> & <dbl> & <dbl> & <dbl>\\\\\n",
       "\\hline\n",
       "\t1 & Polish & Original        & 46.480 & 17.80000 & 17.800 & 18.92000 & 18.920 & 18.920 & 3.540 &    NA &   NA &    NA &    NA\\\\\n",
       "\t2 &        & sdsPolishCatMC  & 46.496 & 17.79362 & 17.596 & 18.82652 & 18.996 & 18.656 & 3.570 & 0.890 & 1.03 & 0.575 & 0.016\\\\\n",
       "\t3 &        & sdsPolishCatMCT & 46.340 & 17.80708 & 17.994 & 18.94630 & 19.058 & 18.806 & 3.712 & 0.870 & 2.10 & 0.475 & 0.140\\\\\n",
       "\t4 &        & sdsPolishCatMP  & 46.222 & 17.80060 & 17.460 & 18.20438 & 18.404 & 18.416 & 3.518 & 0.840 & 1.07 & 0.498 & 0.258\\\\\n",
       "\t5 &        & sdsPolishCatMPT & 41.858 & 17.80318 & 18.156 & 18.20982 & 18.216 & 18.188 & 3.370 & 0.790 & 2.37 & 0.375 & 4.622\\\\\n",
       "\t6 &        & sdsPolishDecM   & 46.772 & 17.30214 & 17.392 & 18.86950 & 18.918 & 18.874 & 3.614 & 0.875 & 1.06 & 0.498 & 0.292\\\\\n",
       "\t7 &        & sdsPolishDecMO  & 46.276 & 16.72618 & 16.644 & 18.37558 & 18.322 & 18.366 & 3.514 & 0.640 & 1.29 & 0.210 & 0.204\\\\\n",
       "\t8 &        & sdsPolishDecMOT & 46.042 & 16.68600 & 17.018 & 18.92518 & 19.000 & 18.824 & 3.378 & 0.725 & 2.33 & 0.252 & 0.438\\\\\n",
       "\t9 &        & sdsPolishDecMT  & 46.402 & 17.51110 & 17.440 & 18.86456 & 19.296 & 18.980 & 3.310 & 0.847 & 2.28 & 0.435 & 0.078\\\\\n",
       "\t10 &        & sdsPolishDecMV  & 46.622 & 17.62920 & 17.564 & 18.88872 & 18.896 & 18.880 & 3.850 & 0.855 & 1.07 & 0.452 & 0.142\\\\\n",
       "\t11 &        & sdsPolishDecMVT & 46.420 & 17.66116 & 17.492 & 18.88414 & 19.072 & 18.650 & 3.264 & 0.830 & 2.29 & 0.390 & 0.060\\\\\n",
       "\t12 &        & sdsPolishParM   & 43.158 & 17.78866 & 17.670 & 19.68048 & 20.520 & 19.662 & 3.702 & 0.740 & 1.21 & 0.375 & 3.322\\\\\n",
       "\t13 &        & sdsPolishParMO  & 41.730 & 17.43634 & 17.392 & 20.18868 & 20.386 & 20.110 & 3.492 & 0.700 & 1.13 & 0.330 & 4.750\\\\\n",
       "\t14 &        & sdsPolishParMOT & 41.006 & 17.42914 & 17.404 & 20.12706 & 20.012 & 20.254 & 3.410 & 0.680 & 1.86 & 0.290 & 5.474\\\\\n",
       "\t15 &        & sdsPolishParMT  & 42.766 & 17.78338 & 17.880 & 19.72164 & 19.824 & 19.808 & 3.680 & 0.730 & 1.96 & 0.340 & 3.714\\\\\n",
       "\t16 &        & sdsPolishParMV  & 42.804 & 17.83070 & 17.912 & 19.69568 & 19.644 & 19.866 & 3.720 & 0.740 & 1.23 & 0.388 & 3.676\\\\\n",
       "\t17 &        & sdsPolishParMVT & 43.266 & 17.84566 & 17.794 & 19.72022 & 19.758 & 19.654 & 3.802 & 0.735 & 1.96 & 0.348 & 3.214\\\\\n",
       "\\end{tabular}\n"
      ],
      "text/markdown": [
       "\n",
       "A data.frame: 17 × 13\n",
       "\n",
       "| <!--/--> | Dataset &lt;chr&gt; | Method &lt;chr&gt; | Income.Classifcation &lt;dbl&gt; | Male.education.Vocational.Grammar.m.1000 &lt;dbl&gt; | Male.education.Vocational.Grammar.m.10 &lt;dbl&gt; | Female.Income.1K.2K.m..1000 &lt;dbl&gt; | Female.Income.1K.2K.m.10..71.80. &lt;dbl&gt; | Female.Income.1K.2K.m.10..811.820. &lt;dbl&gt; | Married.alcabuse.Yes &lt;dbl&gt; | CIO.Regression.Fits.Raab..2016..m.10 &lt;dbl&gt; | Average.KL.Dv.over.all.variables.and.normalized.using.sample &lt;dbl&gt; | APO.above.90..Raab..2016..m.10 &lt;dbl&gt; | Deviation.from.Original &lt;dbl&gt; |\n",
       "|---|---|---|---|---|---|---|---|---|---|---|---|---|---|\n",
       "| 1 | Polish | Original        | 46.480 | 17.80000 | 17.800 | 18.92000 | 18.920 | 18.920 | 3.540 |    NA |   NA |    NA |    NA |\n",
       "| 2 | <!----> | sdsPolishCatMC  | 46.496 | 17.79362 | 17.596 | 18.82652 | 18.996 | 18.656 | 3.570 | 0.890 | 1.03 | 0.575 | 0.016 |\n",
       "| 3 | <!----> | sdsPolishCatMCT | 46.340 | 17.80708 | 17.994 | 18.94630 | 19.058 | 18.806 | 3.712 | 0.870 | 2.10 | 0.475 | 0.140 |\n",
       "| 4 | <!----> | sdsPolishCatMP  | 46.222 | 17.80060 | 17.460 | 18.20438 | 18.404 | 18.416 | 3.518 | 0.840 | 1.07 | 0.498 | 0.258 |\n",
       "| 5 | <!----> | sdsPolishCatMPT | 41.858 | 17.80318 | 18.156 | 18.20982 | 18.216 | 18.188 | 3.370 | 0.790 | 2.37 | 0.375 | 4.622 |\n",
       "| 6 | <!----> | sdsPolishDecM   | 46.772 | 17.30214 | 17.392 | 18.86950 | 18.918 | 18.874 | 3.614 | 0.875 | 1.06 | 0.498 | 0.292 |\n",
       "| 7 | <!----> | sdsPolishDecMO  | 46.276 | 16.72618 | 16.644 | 18.37558 | 18.322 | 18.366 | 3.514 | 0.640 | 1.29 | 0.210 | 0.204 |\n",
       "| 8 | <!----> | sdsPolishDecMOT | 46.042 | 16.68600 | 17.018 | 18.92518 | 19.000 | 18.824 | 3.378 | 0.725 | 2.33 | 0.252 | 0.438 |\n",
       "| 9 | <!----> | sdsPolishDecMT  | 46.402 | 17.51110 | 17.440 | 18.86456 | 19.296 | 18.980 | 3.310 | 0.847 | 2.28 | 0.435 | 0.078 |\n",
       "| 10 | <!----> | sdsPolishDecMV  | 46.622 | 17.62920 | 17.564 | 18.88872 | 18.896 | 18.880 | 3.850 | 0.855 | 1.07 | 0.452 | 0.142 |\n",
       "| 11 | <!----> | sdsPolishDecMVT | 46.420 | 17.66116 | 17.492 | 18.88414 | 19.072 | 18.650 | 3.264 | 0.830 | 2.29 | 0.390 | 0.060 |\n",
       "| 12 | <!----> | sdsPolishParM   | 43.158 | 17.78866 | 17.670 | 19.68048 | 20.520 | 19.662 | 3.702 | 0.740 | 1.21 | 0.375 | 3.322 |\n",
       "| 13 | <!----> | sdsPolishParMO  | 41.730 | 17.43634 | 17.392 | 20.18868 | 20.386 | 20.110 | 3.492 | 0.700 | 1.13 | 0.330 | 4.750 |\n",
       "| 14 | <!----> | sdsPolishParMOT | 41.006 | 17.42914 | 17.404 | 20.12706 | 20.012 | 20.254 | 3.410 | 0.680 | 1.86 | 0.290 | 5.474 |\n",
       "| 15 | <!----> | sdsPolishParMT  | 42.766 | 17.78338 | 17.880 | 19.72164 | 19.824 | 19.808 | 3.680 | 0.730 | 1.96 | 0.340 | 3.714 |\n",
       "| 16 | <!----> | sdsPolishParMV  | 42.804 | 17.83070 | 17.912 | 19.69568 | 19.644 | 19.866 | 3.720 | 0.740 | 1.23 | 0.388 | 3.676 |\n",
       "| 17 | <!----> | sdsPolishParMVT | 43.266 | 17.84566 | 17.794 | 19.72022 | 19.758 | 19.654 | 3.802 | 0.735 | 1.96 | 0.348 | 3.214 |\n",
       "\n"
      ],
      "text/plain": [
       "   Dataset Method          Income.Classifcation\n",
       "1  Polish  Original        46.480              \n",
       "2          sdsPolishCatMC  46.496              \n",
       "3          sdsPolishCatMCT 46.340              \n",
       "4          sdsPolishCatMP  46.222              \n",
       "5          sdsPolishCatMPT 41.858              \n",
       "6          sdsPolishDecM   46.772              \n",
       "7          sdsPolishDecMO  46.276              \n",
       "8          sdsPolishDecMOT 46.042              \n",
       "9          sdsPolishDecMT  46.402              \n",
       "10         sdsPolishDecMV  46.622              \n",
       "11         sdsPolishDecMVT 46.420              \n",
       "12         sdsPolishParM   43.158              \n",
       "13         sdsPolishParMO  41.730              \n",
       "14         sdsPolishParMOT 41.006              \n",
       "15         sdsPolishParMT  42.766              \n",
       "16         sdsPolishParMV  42.804              \n",
       "17         sdsPolishParMVT 43.266              \n",
       "   Male.education.Vocational.Grammar.m.1000\n",
       "1  17.80000                                \n",
       "2  17.79362                                \n",
       "3  17.80708                                \n",
       "4  17.80060                                \n",
       "5  17.80318                                \n",
       "6  17.30214                                \n",
       "7  16.72618                                \n",
       "8  16.68600                                \n",
       "9  17.51110                                \n",
       "10 17.62920                                \n",
       "11 17.66116                                \n",
       "12 17.78866                                \n",
       "13 17.43634                                \n",
       "14 17.42914                                \n",
       "15 17.78338                                \n",
       "16 17.83070                                \n",
       "17 17.84566                                \n",
       "   Male.education.Vocational.Grammar.m.10 Female.Income.1K.2K.m..1000\n",
       "1  17.800                                 18.92000                   \n",
       "2  17.596                                 18.82652                   \n",
       "3  17.994                                 18.94630                   \n",
       "4  17.460                                 18.20438                   \n",
       "5  18.156                                 18.20982                   \n",
       "6  17.392                                 18.86950                   \n",
       "7  16.644                                 18.37558                   \n",
       "8  17.018                                 18.92518                   \n",
       "9  17.440                                 18.86456                   \n",
       "10 17.564                                 18.88872                   \n",
       "11 17.492                                 18.88414                   \n",
       "12 17.670                                 19.68048                   \n",
       "13 17.392                                 20.18868                   \n",
       "14 17.404                                 20.12706                   \n",
       "15 17.880                                 19.72164                   \n",
       "16 17.912                                 19.69568                   \n",
       "17 17.794                                 19.72022                   \n",
       "   Female.Income.1K.2K.m.10..71.80. Female.Income.1K.2K.m.10..811.820.\n",
       "1  18.920                           18.920                            \n",
       "2  18.996                           18.656                            \n",
       "3  19.058                           18.806                            \n",
       "4  18.404                           18.416                            \n",
       "5  18.216                           18.188                            \n",
       "6  18.918                           18.874                            \n",
       "7  18.322                           18.366                            \n",
       "8  19.000                           18.824                            \n",
       "9  19.296                           18.980                            \n",
       "10 18.896                           18.880                            \n",
       "11 19.072                           18.650                            \n",
       "12 20.520                           19.662                            \n",
       "13 20.386                           20.110                            \n",
       "14 20.012                           20.254                            \n",
       "15 19.824                           19.808                            \n",
       "16 19.644                           19.866                            \n",
       "17 19.758                           19.654                            \n",
       "   Married.alcabuse.Yes CIO.Regression.Fits.Raab..2016..m.10\n",
       "1  3.540                   NA                               \n",
       "2  3.570                0.890                               \n",
       "3  3.712                0.870                               \n",
       "4  3.518                0.840                               \n",
       "5  3.370                0.790                               \n",
       "6  3.614                0.875                               \n",
       "7  3.514                0.640                               \n",
       "8  3.378                0.725                               \n",
       "9  3.310                0.847                               \n",
       "10 3.850                0.855                               \n",
       "11 3.264                0.830                               \n",
       "12 3.702                0.740                               \n",
       "13 3.492                0.700                               \n",
       "14 3.410                0.680                               \n",
       "15 3.680                0.730                               \n",
       "16 3.720                0.740                               \n",
       "17 3.802                0.735                               \n",
       "   Average.KL.Dv.over.all.variables.and.normalized.using.sample\n",
       "1    NA                                                        \n",
       "2  1.03                                                        \n",
       "3  2.10                                                        \n",
       "4  1.07                                                        \n",
       "5  2.37                                                        \n",
       "6  1.06                                                        \n",
       "7  1.29                                                        \n",
       "8  2.33                                                        \n",
       "9  2.28                                                        \n",
       "10 1.07                                                        \n",
       "11 2.29                                                        \n",
       "12 1.21                                                        \n",
       "13 1.13                                                        \n",
       "14 1.86                                                        \n",
       "15 1.96                                                        \n",
       "16 1.23                                                        \n",
       "17 1.96                                                        \n",
       "   APO.above.90..Raab..2016..m.10 Deviation.from.Original\n",
       "1     NA                             NA                  \n",
       "2  0.575                          0.016                  \n",
       "3  0.475                          0.140                  \n",
       "4  0.498                          0.258                  \n",
       "5  0.375                          4.622                  \n",
       "6  0.498                          0.292                  \n",
       "7  0.210                          0.204                  \n",
       "8  0.252                          0.438                  \n",
       "9  0.435                          0.078                  \n",
       "10 0.452                          0.142                  \n",
       "11 0.390                          0.060                  \n",
       "12 0.375                          3.322                  \n",
       "13 0.330                          4.750                  \n",
       "14 0.290                          5.474                  \n",
       "15 0.340                          3.714                  \n",
       "16 0.388                          3.676                  \n",
       "17 0.348                          3.214                  "
      ]
     },
     "metadata": {},
     "output_type": "display_data"
    }
   ],
   "source": [
    "# For testing without Sample synthesizer results\n",
    "polish_result <- polish_result[-c(18),] \n",
    "polish_result"
   ]
  },
  {
   "cell_type": "code",
   "execution_count": 48,
   "id": "3fdf8f1e",
   "metadata": {},
   "outputs": [
    {
     "data": {
      "text/html": [
       "<table class=\"dataframe\">\n",
       "<caption>A data.frame: 17 × 17</caption>\n",
       "<thead>\n",
       "\t<tr><th></th><th scope=col>Dataset</th><th scope=col>Method</th><th scope=col>Income.Classifcation</th><th scope=col>Male.education.Vocational.Grammar.m.1000</th><th scope=col>Male.education.Vocational.Grammar.m.10</th><th scope=col>Female.Income.1K.2K.m..1000</th><th scope=col>Female.Income.1K.2K.m.10..71.80.</th><th scope=col>Female.Income.1K.2K.m.10..811.820.</th><th scope=col>Married.alcabuse.Yes</th><th scope=col>CIO.Regression.Fits.Raab..2016..m.10</th><th scope=col>Average.KL.Dv.over.all.variables.and.normalized.using.sample</th><th scope=col>APO.above.90..Raab..2016..m.10</th><th scope=col>Deviation.from.Original</th><th scope=col>Dev_Org_MEVG</th><th scope=col>Dev_Org_FI1Kto2K_71_80</th><th scope=col>Dev_Org_FI1Kto2K_811_820</th><th scope=col>Dev_Org_Mar_Alcabuse_Yes</th></tr>\n",
       "\t<tr><th></th><th scope=col>&lt;chr&gt;</th><th scope=col>&lt;chr&gt;</th><th scope=col>&lt;dbl&gt;</th><th scope=col>&lt;dbl&gt;</th><th scope=col>&lt;dbl&gt;</th><th scope=col>&lt;dbl&gt;</th><th scope=col>&lt;dbl&gt;</th><th scope=col>&lt;dbl&gt;</th><th scope=col>&lt;dbl&gt;</th><th scope=col>&lt;dbl&gt;</th><th scope=col>&lt;dbl&gt;</th><th scope=col>&lt;dbl&gt;</th><th scope=col>&lt;dbl&gt;</th><th scope=col>&lt;dbl&gt;</th><th scope=col>&lt;dbl&gt;</th><th scope=col>&lt;dbl&gt;</th><th scope=col>&lt;dbl&gt;</th></tr>\n",
       "</thead>\n",
       "<tbody>\n",
       "\t<tr><th scope=row>1</th><td>Polish</td><td>Original       </td><td>46.480</td><td>17.80000</td><td>17.800</td><td>18.92000</td><td>18.920</td><td>18.920</td><td>3.540</td><td>   NA</td><td>  NA</td><td>   NA</td><td>   NA</td><td>0.000</td><td>0.000</td><td>0.000</td><td>0.000</td></tr>\n",
       "\t<tr><th scope=row>2</th><td>      </td><td>sdsPolishCatMC </td><td>46.496</td><td>17.79362</td><td>17.596</td><td>18.82652</td><td>18.996</td><td>18.656</td><td>3.570</td><td>0.890</td><td>1.03</td><td>0.575</td><td>0.016</td><td>0.204</td><td>0.076</td><td>0.264</td><td>0.030</td></tr>\n",
       "\t<tr><th scope=row>3</th><td>      </td><td>sdsPolishCatMCT</td><td>46.340</td><td>17.80708</td><td>17.994</td><td>18.94630</td><td>19.058</td><td>18.806</td><td>3.712</td><td>0.870</td><td>2.10</td><td>0.475</td><td>0.140</td><td>0.194</td><td>0.138</td><td>0.114</td><td>0.172</td></tr>\n",
       "\t<tr><th scope=row>4</th><td>      </td><td>sdsPolishCatMP </td><td>46.222</td><td>17.80060</td><td>17.460</td><td>18.20438</td><td>18.404</td><td>18.416</td><td>3.518</td><td>0.840</td><td>1.07</td><td>0.498</td><td>0.258</td><td>0.340</td><td>0.516</td><td>0.504</td><td>0.022</td></tr>\n",
       "\t<tr><th scope=row>5</th><td>      </td><td>sdsPolishCatMPT</td><td>41.858</td><td>17.80318</td><td>18.156</td><td>18.20982</td><td>18.216</td><td>18.188</td><td>3.370</td><td>0.790</td><td>2.37</td><td>0.375</td><td>4.622</td><td>0.356</td><td>0.704</td><td>0.732</td><td>0.170</td></tr>\n",
       "\t<tr><th scope=row>6</th><td>      </td><td>sdsPolishDecM  </td><td>46.772</td><td>17.30214</td><td>17.392</td><td>18.86950</td><td>18.918</td><td>18.874</td><td>3.614</td><td>0.875</td><td>1.06</td><td>0.498</td><td>0.292</td><td>0.408</td><td>0.002</td><td>0.046</td><td>0.074</td></tr>\n",
       "\t<tr><th scope=row>7</th><td>      </td><td>sdsPolishDecMO </td><td>46.276</td><td>16.72618</td><td>16.644</td><td>18.37558</td><td>18.322</td><td>18.366</td><td>3.514</td><td>0.640</td><td>1.29</td><td>0.210</td><td>0.204</td><td>1.156</td><td>0.598</td><td>0.554</td><td>0.026</td></tr>\n",
       "\t<tr><th scope=row>8</th><td>      </td><td>sdsPolishDecMOT</td><td>46.042</td><td>16.68600</td><td>17.018</td><td>18.92518</td><td>19.000</td><td>18.824</td><td>3.378</td><td>0.725</td><td>2.33</td><td>0.252</td><td>0.438</td><td>0.782</td><td>0.080</td><td>0.096</td><td>0.162</td></tr>\n",
       "\t<tr><th scope=row>9</th><td>      </td><td>sdsPolishDecMT </td><td>46.402</td><td>17.51110</td><td>17.440</td><td>18.86456</td><td>19.296</td><td>18.980</td><td>3.310</td><td>0.847</td><td>2.28</td><td>0.435</td><td>0.078</td><td>0.360</td><td>0.376</td><td>0.060</td><td>0.230</td></tr>\n",
       "\t<tr><th scope=row>10</th><td>      </td><td>sdsPolishDecMV </td><td>46.622</td><td>17.62920</td><td>17.564</td><td>18.88872</td><td>18.896</td><td>18.880</td><td>3.850</td><td>0.855</td><td>1.07</td><td>0.452</td><td>0.142</td><td>0.236</td><td>0.024</td><td>0.040</td><td>0.310</td></tr>\n",
       "\t<tr><th scope=row>11</th><td>      </td><td>sdsPolishDecMVT</td><td>46.420</td><td>17.66116</td><td>17.492</td><td>18.88414</td><td>19.072</td><td>18.650</td><td>3.264</td><td>0.830</td><td>2.29</td><td>0.390</td><td>0.060</td><td>0.308</td><td>0.152</td><td>0.270</td><td>0.276</td></tr>\n",
       "\t<tr><th scope=row>12</th><td>      </td><td>sdsPolishParM  </td><td>43.158</td><td>17.78866</td><td>17.670</td><td>19.68048</td><td>20.520</td><td>19.662</td><td>3.702</td><td>0.740</td><td>1.21</td><td>0.375</td><td>3.322</td><td>0.130</td><td>1.600</td><td>0.742</td><td>0.162</td></tr>\n",
       "\t<tr><th scope=row>13</th><td>      </td><td>sdsPolishParMO </td><td>41.730</td><td>17.43634</td><td>17.392</td><td>20.18868</td><td>20.386</td><td>20.110</td><td>3.492</td><td>0.700</td><td>1.13</td><td>0.330</td><td>4.750</td><td>0.408</td><td>1.466</td><td>1.190</td><td>0.048</td></tr>\n",
       "\t<tr><th scope=row>14</th><td>      </td><td>sdsPolishParMOT</td><td>41.006</td><td>17.42914</td><td>17.404</td><td>20.12706</td><td>20.012</td><td>20.254</td><td>3.410</td><td>0.680</td><td>1.86</td><td>0.290</td><td>5.474</td><td>0.396</td><td>1.092</td><td>1.334</td><td>0.130</td></tr>\n",
       "\t<tr><th scope=row>15</th><td>      </td><td>sdsPolishParMT </td><td>42.766</td><td>17.78338</td><td>17.880</td><td>19.72164</td><td>19.824</td><td>19.808</td><td>3.680</td><td>0.730</td><td>1.96</td><td>0.340</td><td>3.714</td><td>0.080</td><td>0.904</td><td>0.888</td><td>0.140</td></tr>\n",
       "\t<tr><th scope=row>16</th><td>      </td><td>sdsPolishParMV </td><td>42.804</td><td>17.83070</td><td>17.912</td><td>19.69568</td><td>19.644</td><td>19.866</td><td>3.720</td><td>0.740</td><td>1.23</td><td>0.388</td><td>3.676</td><td>0.112</td><td>0.724</td><td>0.946</td><td>0.180</td></tr>\n",
       "\t<tr><th scope=row>17</th><td>      </td><td>sdsPolishParMVT</td><td>43.266</td><td>17.84566</td><td>17.794</td><td>19.72022</td><td>19.758</td><td>19.654</td><td>3.802</td><td>0.735</td><td>1.96</td><td>0.348</td><td>3.214</td><td>0.006</td><td>0.838</td><td>0.734</td><td>0.262</td></tr>\n",
       "</tbody>\n",
       "</table>\n"
      ],
      "text/latex": [
       "A data.frame: 17 × 17\n",
       "\\begin{tabular}{r|lllllllllllllllll}\n",
       "  & Dataset & Method & Income.Classifcation & Male.education.Vocational.Grammar.m.1000 & Male.education.Vocational.Grammar.m.10 & Female.Income.1K.2K.m..1000 & Female.Income.1K.2K.m.10..71.80. & Female.Income.1K.2K.m.10..811.820. & Married.alcabuse.Yes & CIO.Regression.Fits.Raab..2016..m.10 & Average.KL.Dv.over.all.variables.and.normalized.using.sample & APO.above.90..Raab..2016..m.10 & Deviation.from.Original & Dev\\_Org\\_MEVG & Dev\\_Org\\_FI1Kto2K\\_71\\_80 & Dev\\_Org\\_FI1Kto2K\\_811\\_820 & Dev\\_Org\\_Mar\\_Alcabuse\\_Yes\\\\\n",
       "  & <chr> & <chr> & <dbl> & <dbl> & <dbl> & <dbl> & <dbl> & <dbl> & <dbl> & <dbl> & <dbl> & <dbl> & <dbl> & <dbl> & <dbl> & <dbl> & <dbl>\\\\\n",
       "\\hline\n",
       "\t1 & Polish & Original        & 46.480 & 17.80000 & 17.800 & 18.92000 & 18.920 & 18.920 & 3.540 &    NA &   NA &    NA &    NA & 0.000 & 0.000 & 0.000 & 0.000\\\\\n",
       "\t2 &        & sdsPolishCatMC  & 46.496 & 17.79362 & 17.596 & 18.82652 & 18.996 & 18.656 & 3.570 & 0.890 & 1.03 & 0.575 & 0.016 & 0.204 & 0.076 & 0.264 & 0.030\\\\\n",
       "\t3 &        & sdsPolishCatMCT & 46.340 & 17.80708 & 17.994 & 18.94630 & 19.058 & 18.806 & 3.712 & 0.870 & 2.10 & 0.475 & 0.140 & 0.194 & 0.138 & 0.114 & 0.172\\\\\n",
       "\t4 &        & sdsPolishCatMP  & 46.222 & 17.80060 & 17.460 & 18.20438 & 18.404 & 18.416 & 3.518 & 0.840 & 1.07 & 0.498 & 0.258 & 0.340 & 0.516 & 0.504 & 0.022\\\\\n",
       "\t5 &        & sdsPolishCatMPT & 41.858 & 17.80318 & 18.156 & 18.20982 & 18.216 & 18.188 & 3.370 & 0.790 & 2.37 & 0.375 & 4.622 & 0.356 & 0.704 & 0.732 & 0.170\\\\\n",
       "\t6 &        & sdsPolishDecM   & 46.772 & 17.30214 & 17.392 & 18.86950 & 18.918 & 18.874 & 3.614 & 0.875 & 1.06 & 0.498 & 0.292 & 0.408 & 0.002 & 0.046 & 0.074\\\\\n",
       "\t7 &        & sdsPolishDecMO  & 46.276 & 16.72618 & 16.644 & 18.37558 & 18.322 & 18.366 & 3.514 & 0.640 & 1.29 & 0.210 & 0.204 & 1.156 & 0.598 & 0.554 & 0.026\\\\\n",
       "\t8 &        & sdsPolishDecMOT & 46.042 & 16.68600 & 17.018 & 18.92518 & 19.000 & 18.824 & 3.378 & 0.725 & 2.33 & 0.252 & 0.438 & 0.782 & 0.080 & 0.096 & 0.162\\\\\n",
       "\t9 &        & sdsPolishDecMT  & 46.402 & 17.51110 & 17.440 & 18.86456 & 19.296 & 18.980 & 3.310 & 0.847 & 2.28 & 0.435 & 0.078 & 0.360 & 0.376 & 0.060 & 0.230\\\\\n",
       "\t10 &        & sdsPolishDecMV  & 46.622 & 17.62920 & 17.564 & 18.88872 & 18.896 & 18.880 & 3.850 & 0.855 & 1.07 & 0.452 & 0.142 & 0.236 & 0.024 & 0.040 & 0.310\\\\\n",
       "\t11 &        & sdsPolishDecMVT & 46.420 & 17.66116 & 17.492 & 18.88414 & 19.072 & 18.650 & 3.264 & 0.830 & 2.29 & 0.390 & 0.060 & 0.308 & 0.152 & 0.270 & 0.276\\\\\n",
       "\t12 &        & sdsPolishParM   & 43.158 & 17.78866 & 17.670 & 19.68048 & 20.520 & 19.662 & 3.702 & 0.740 & 1.21 & 0.375 & 3.322 & 0.130 & 1.600 & 0.742 & 0.162\\\\\n",
       "\t13 &        & sdsPolishParMO  & 41.730 & 17.43634 & 17.392 & 20.18868 & 20.386 & 20.110 & 3.492 & 0.700 & 1.13 & 0.330 & 4.750 & 0.408 & 1.466 & 1.190 & 0.048\\\\\n",
       "\t14 &        & sdsPolishParMOT & 41.006 & 17.42914 & 17.404 & 20.12706 & 20.012 & 20.254 & 3.410 & 0.680 & 1.86 & 0.290 & 5.474 & 0.396 & 1.092 & 1.334 & 0.130\\\\\n",
       "\t15 &        & sdsPolishParMT  & 42.766 & 17.78338 & 17.880 & 19.72164 & 19.824 & 19.808 & 3.680 & 0.730 & 1.96 & 0.340 & 3.714 & 0.080 & 0.904 & 0.888 & 0.140\\\\\n",
       "\t16 &        & sdsPolishParMV  & 42.804 & 17.83070 & 17.912 & 19.69568 & 19.644 & 19.866 & 3.720 & 0.740 & 1.23 & 0.388 & 3.676 & 0.112 & 0.724 & 0.946 & 0.180\\\\\n",
       "\t17 &        & sdsPolishParMVT & 43.266 & 17.84566 & 17.794 & 19.72022 & 19.758 & 19.654 & 3.802 & 0.735 & 1.96 & 0.348 & 3.214 & 0.006 & 0.838 & 0.734 & 0.262\\\\\n",
       "\\end{tabular}\n"
      ],
      "text/markdown": [
       "\n",
       "A data.frame: 17 × 17\n",
       "\n",
       "| <!--/--> | Dataset &lt;chr&gt; | Method &lt;chr&gt; | Income.Classifcation &lt;dbl&gt; | Male.education.Vocational.Grammar.m.1000 &lt;dbl&gt; | Male.education.Vocational.Grammar.m.10 &lt;dbl&gt; | Female.Income.1K.2K.m..1000 &lt;dbl&gt; | Female.Income.1K.2K.m.10..71.80. &lt;dbl&gt; | Female.Income.1K.2K.m.10..811.820. &lt;dbl&gt; | Married.alcabuse.Yes &lt;dbl&gt; | CIO.Regression.Fits.Raab..2016..m.10 &lt;dbl&gt; | Average.KL.Dv.over.all.variables.and.normalized.using.sample &lt;dbl&gt; | APO.above.90..Raab..2016..m.10 &lt;dbl&gt; | Deviation.from.Original &lt;dbl&gt; | Dev_Org_MEVG &lt;dbl&gt; | Dev_Org_FI1Kto2K_71_80 &lt;dbl&gt; | Dev_Org_FI1Kto2K_811_820 &lt;dbl&gt; | Dev_Org_Mar_Alcabuse_Yes &lt;dbl&gt; |\n",
       "|---|---|---|---|---|---|---|---|---|---|---|---|---|---|---|---|---|---|\n",
       "| 1 | Polish | Original        | 46.480 | 17.80000 | 17.800 | 18.92000 | 18.920 | 18.920 | 3.540 |    NA |   NA |    NA |    NA | 0.000 | 0.000 | 0.000 | 0.000 |\n",
       "| 2 | <!----> | sdsPolishCatMC  | 46.496 | 17.79362 | 17.596 | 18.82652 | 18.996 | 18.656 | 3.570 | 0.890 | 1.03 | 0.575 | 0.016 | 0.204 | 0.076 | 0.264 | 0.030 |\n",
       "| 3 | <!----> | sdsPolishCatMCT | 46.340 | 17.80708 | 17.994 | 18.94630 | 19.058 | 18.806 | 3.712 | 0.870 | 2.10 | 0.475 | 0.140 | 0.194 | 0.138 | 0.114 | 0.172 |\n",
       "| 4 | <!----> | sdsPolishCatMP  | 46.222 | 17.80060 | 17.460 | 18.20438 | 18.404 | 18.416 | 3.518 | 0.840 | 1.07 | 0.498 | 0.258 | 0.340 | 0.516 | 0.504 | 0.022 |\n",
       "| 5 | <!----> | sdsPolishCatMPT | 41.858 | 17.80318 | 18.156 | 18.20982 | 18.216 | 18.188 | 3.370 | 0.790 | 2.37 | 0.375 | 4.622 | 0.356 | 0.704 | 0.732 | 0.170 |\n",
       "| 6 | <!----> | sdsPolishDecM   | 46.772 | 17.30214 | 17.392 | 18.86950 | 18.918 | 18.874 | 3.614 | 0.875 | 1.06 | 0.498 | 0.292 | 0.408 | 0.002 | 0.046 | 0.074 |\n",
       "| 7 | <!----> | sdsPolishDecMO  | 46.276 | 16.72618 | 16.644 | 18.37558 | 18.322 | 18.366 | 3.514 | 0.640 | 1.29 | 0.210 | 0.204 | 1.156 | 0.598 | 0.554 | 0.026 |\n",
       "| 8 | <!----> | sdsPolishDecMOT | 46.042 | 16.68600 | 17.018 | 18.92518 | 19.000 | 18.824 | 3.378 | 0.725 | 2.33 | 0.252 | 0.438 | 0.782 | 0.080 | 0.096 | 0.162 |\n",
       "| 9 | <!----> | sdsPolishDecMT  | 46.402 | 17.51110 | 17.440 | 18.86456 | 19.296 | 18.980 | 3.310 | 0.847 | 2.28 | 0.435 | 0.078 | 0.360 | 0.376 | 0.060 | 0.230 |\n",
       "| 10 | <!----> | sdsPolishDecMV  | 46.622 | 17.62920 | 17.564 | 18.88872 | 18.896 | 18.880 | 3.850 | 0.855 | 1.07 | 0.452 | 0.142 | 0.236 | 0.024 | 0.040 | 0.310 |\n",
       "| 11 | <!----> | sdsPolishDecMVT | 46.420 | 17.66116 | 17.492 | 18.88414 | 19.072 | 18.650 | 3.264 | 0.830 | 2.29 | 0.390 | 0.060 | 0.308 | 0.152 | 0.270 | 0.276 |\n",
       "| 12 | <!----> | sdsPolishParM   | 43.158 | 17.78866 | 17.670 | 19.68048 | 20.520 | 19.662 | 3.702 | 0.740 | 1.21 | 0.375 | 3.322 | 0.130 | 1.600 | 0.742 | 0.162 |\n",
       "| 13 | <!----> | sdsPolishParMO  | 41.730 | 17.43634 | 17.392 | 20.18868 | 20.386 | 20.110 | 3.492 | 0.700 | 1.13 | 0.330 | 4.750 | 0.408 | 1.466 | 1.190 | 0.048 |\n",
       "| 14 | <!----> | sdsPolishParMOT | 41.006 | 17.42914 | 17.404 | 20.12706 | 20.012 | 20.254 | 3.410 | 0.680 | 1.86 | 0.290 | 5.474 | 0.396 | 1.092 | 1.334 | 0.130 |\n",
       "| 15 | <!----> | sdsPolishParMT  | 42.766 | 17.78338 | 17.880 | 19.72164 | 19.824 | 19.808 | 3.680 | 0.730 | 1.96 | 0.340 | 3.714 | 0.080 | 0.904 | 0.888 | 0.140 |\n",
       "| 16 | <!----> | sdsPolishParMV  | 42.804 | 17.83070 | 17.912 | 19.69568 | 19.644 | 19.866 | 3.720 | 0.740 | 1.23 | 0.388 | 3.676 | 0.112 | 0.724 | 0.946 | 0.180 |\n",
       "| 17 | <!----> | sdsPolishParMVT | 43.266 | 17.84566 | 17.794 | 19.72022 | 19.758 | 19.654 | 3.802 | 0.735 | 1.96 | 0.348 | 3.214 | 0.006 | 0.838 | 0.734 | 0.262 |\n",
       "\n"
      ],
      "text/plain": [
       "   Dataset Method          Income.Classifcation\n",
       "1  Polish  Original        46.480              \n",
       "2          sdsPolishCatMC  46.496              \n",
       "3          sdsPolishCatMCT 46.340              \n",
       "4          sdsPolishCatMP  46.222              \n",
       "5          sdsPolishCatMPT 41.858              \n",
       "6          sdsPolishDecM   46.772              \n",
       "7          sdsPolishDecMO  46.276              \n",
       "8          sdsPolishDecMOT 46.042              \n",
       "9          sdsPolishDecMT  46.402              \n",
       "10         sdsPolishDecMV  46.622              \n",
       "11         sdsPolishDecMVT 46.420              \n",
       "12         sdsPolishParM   43.158              \n",
       "13         sdsPolishParMO  41.730              \n",
       "14         sdsPolishParMOT 41.006              \n",
       "15         sdsPolishParMT  42.766              \n",
       "16         sdsPolishParMV  42.804              \n",
       "17         sdsPolishParMVT 43.266              \n",
       "   Male.education.Vocational.Grammar.m.1000\n",
       "1  17.80000                                \n",
       "2  17.79362                                \n",
       "3  17.80708                                \n",
       "4  17.80060                                \n",
       "5  17.80318                                \n",
       "6  17.30214                                \n",
       "7  16.72618                                \n",
       "8  16.68600                                \n",
       "9  17.51110                                \n",
       "10 17.62920                                \n",
       "11 17.66116                                \n",
       "12 17.78866                                \n",
       "13 17.43634                                \n",
       "14 17.42914                                \n",
       "15 17.78338                                \n",
       "16 17.83070                                \n",
       "17 17.84566                                \n",
       "   Male.education.Vocational.Grammar.m.10 Female.Income.1K.2K.m..1000\n",
       "1  17.800                                 18.92000                   \n",
       "2  17.596                                 18.82652                   \n",
       "3  17.994                                 18.94630                   \n",
       "4  17.460                                 18.20438                   \n",
       "5  18.156                                 18.20982                   \n",
       "6  17.392                                 18.86950                   \n",
       "7  16.644                                 18.37558                   \n",
       "8  17.018                                 18.92518                   \n",
       "9  17.440                                 18.86456                   \n",
       "10 17.564                                 18.88872                   \n",
       "11 17.492                                 18.88414                   \n",
       "12 17.670                                 19.68048                   \n",
       "13 17.392                                 20.18868                   \n",
       "14 17.404                                 20.12706                   \n",
       "15 17.880                                 19.72164                   \n",
       "16 17.912                                 19.69568                   \n",
       "17 17.794                                 19.72022                   \n",
       "   Female.Income.1K.2K.m.10..71.80. Female.Income.1K.2K.m.10..811.820.\n",
       "1  18.920                           18.920                            \n",
       "2  18.996                           18.656                            \n",
       "3  19.058                           18.806                            \n",
       "4  18.404                           18.416                            \n",
       "5  18.216                           18.188                            \n",
       "6  18.918                           18.874                            \n",
       "7  18.322                           18.366                            \n",
       "8  19.000                           18.824                            \n",
       "9  19.296                           18.980                            \n",
       "10 18.896                           18.880                            \n",
       "11 19.072                           18.650                            \n",
       "12 20.520                           19.662                            \n",
       "13 20.386                           20.110                            \n",
       "14 20.012                           20.254                            \n",
       "15 19.824                           19.808                            \n",
       "16 19.644                           19.866                            \n",
       "17 19.758                           19.654                            \n",
       "   Married.alcabuse.Yes CIO.Regression.Fits.Raab..2016..m.10\n",
       "1  3.540                   NA                               \n",
       "2  3.570                0.890                               \n",
       "3  3.712                0.870                               \n",
       "4  3.518                0.840                               \n",
       "5  3.370                0.790                               \n",
       "6  3.614                0.875                               \n",
       "7  3.514                0.640                               \n",
       "8  3.378                0.725                               \n",
       "9  3.310                0.847                               \n",
       "10 3.850                0.855                               \n",
       "11 3.264                0.830                               \n",
       "12 3.702                0.740                               \n",
       "13 3.492                0.700                               \n",
       "14 3.410                0.680                               \n",
       "15 3.680                0.730                               \n",
       "16 3.720                0.740                               \n",
       "17 3.802                0.735                               \n",
       "   Average.KL.Dv.over.all.variables.and.normalized.using.sample\n",
       "1    NA                                                        \n",
       "2  1.03                                                        \n",
       "3  2.10                                                        \n",
       "4  1.07                                                        \n",
       "5  2.37                                                        \n",
       "6  1.06                                                        \n",
       "7  1.29                                                        \n",
       "8  2.33                                                        \n",
       "9  2.28                                                        \n",
       "10 1.07                                                        \n",
       "11 2.29                                                        \n",
       "12 1.21                                                        \n",
       "13 1.13                                                        \n",
       "14 1.86                                                        \n",
       "15 1.96                                                        \n",
       "16 1.23                                                        \n",
       "17 1.96                                                        \n",
       "   APO.above.90..Raab..2016..m.10 Deviation.from.Original Dev_Org_MEVG\n",
       "1     NA                             NA                   0.000       \n",
       "2  0.575                          0.016                   0.204       \n",
       "3  0.475                          0.140                   0.194       \n",
       "4  0.498                          0.258                   0.340       \n",
       "5  0.375                          4.622                   0.356       \n",
       "6  0.498                          0.292                   0.408       \n",
       "7  0.210                          0.204                   1.156       \n",
       "8  0.252                          0.438                   0.782       \n",
       "9  0.435                          0.078                   0.360       \n",
       "10 0.452                          0.142                   0.236       \n",
       "11 0.390                          0.060                   0.308       \n",
       "12 0.375                          3.322                   0.130       \n",
       "13 0.330                          4.750                   0.408       \n",
       "14 0.290                          5.474                   0.396       \n",
       "15 0.340                          3.714                   0.080       \n",
       "16 0.388                          3.676                   0.112       \n",
       "17 0.348                          3.214                   0.006       \n",
       "   Dev_Org_FI1Kto2K_71_80 Dev_Org_FI1Kto2K_811_820 Dev_Org_Mar_Alcabuse_Yes\n",
       "1  0.000                  0.000                    0.000                   \n",
       "2  0.076                  0.264                    0.030                   \n",
       "3  0.138                  0.114                    0.172                   \n",
       "4  0.516                  0.504                    0.022                   \n",
       "5  0.704                  0.732                    0.170                   \n",
       "6  0.002                  0.046                    0.074                   \n",
       "7  0.598                  0.554                    0.026                   \n",
       "8  0.080                  0.096                    0.162                   \n",
       "9  0.376                  0.060                    0.230                   \n",
       "10 0.024                  0.040                    0.310                   \n",
       "11 0.152                  0.270                    0.276                   \n",
       "12 1.600                  0.742                    0.162                   \n",
       "13 1.466                  1.190                    0.048                   \n",
       "14 1.092                  1.334                    0.130                   \n",
       "15 0.904                  0.888                    0.140                   \n",
       "16 0.724                  0.946                    0.180                   \n",
       "17 0.838                  0.734                    0.262                   "
      ]
     },
     "metadata": {},
     "output_type": "display_data"
    }
   ],
   "source": [
    "# Calculate deviance from oriignal\n",
    "library(tidyverse)\n",
    "\n",
    "polish_result <- polish_result %>% mutate(Dev_Org_MEVG = abs(Male.education.Vocational.Grammar.m.10 - Male.education.Vocational.Grammar.m.10[Method == \"Original\"]))\n",
    "polish_result <- polish_result %>% mutate(Dev_Org_FI1Kto2K_71_80 = abs(Female.Income.1K.2K.m.10..71.80. - Female.Income.1K.2K.m.10..71.80.[Method == \"Original\"]))\n",
    "polish_result <- polish_result %>% mutate(Dev_Org_FI1Kto2K_811_820 = abs(Female.Income.1K.2K.m.10..811.820. - Female.Income.1K.2K.m.10..811.820.[Method == \"Original\"]))\n",
    "polish_result <- polish_result %>% mutate(Dev_Org_Mar_Alcabuse_Yes = abs(Married.alcabuse.Yes - Married.alcabuse.Yes[Method == \"Original\"]))\n",
    "polish_result"
   ]
  },
  {
   "cell_type": "code",
   "execution_count": 35,
   "id": "5b4c715d",
   "metadata": {},
   "outputs": [
    {
     "data": {
      "text/plain": [
       "\n",
       "\tPearson's product-moment correlation\n",
       "\n",
       "data:  polish_result$Deviation.from.Original and polish_result$CIO.Regression.Fits.Raab..2016..m.10\n",
       "t = -2.8324, df = 14, p-value = 0.0133\n",
       "alternative hypothesis: true correlation is not equal to 0\n",
       "95 percent confidence interval:\n",
       " -0.8461151 -0.1538922\n",
       "sample estimates:\n",
       "       cor \n",
       "-0.6035552 \n"
      ]
     },
     "metadata": {},
     "output_type": "display_data"
    }
   ],
   "source": [
    "# Correlation income & CIO\n",
    "income_cio <- cor.test(polish_result$Deviation.from.Original, polish_result$CIO.Regression.Fits.Raab..2016..m.10, \n",
    "                    method = \"pearson\")\n",
    "income_cio"
   ]
  },
  {
   "cell_type": "code",
   "execution_count": 11,
   "id": "9ccd1867",
   "metadata": {},
   "outputs": [
    {
     "data": {
      "text/plain": [
       "\n",
       "\tPearson's product-moment correlation\n",
       "\n",
       "data:  polish_result$Deviation.from.Original and polish_result$APO.above.90..Raab..2016..m.10\n",
       "t = -3.8603, df = 15, p-value = 0.001541\n",
       "alternative hypothesis: true correlation is not equal to 0\n",
       "95 percent confidence interval:\n",
       " -0.8859738 -0.3410153\n",
       "sample estimates:\n",
       "       cor \n",
       "-0.7059498 \n"
      ]
     },
     "metadata": {},
     "output_type": "display_data"
    }
   ],
   "source": [
    "# Correlation income & APO\n",
    "income_apo <- cor.test(polish_result$Deviation.from.Original, polish_result$APO.above.90..Raab..2016..m.10, \n",
    "                    method = \"pearson\")\n",
    "income_apo"
   ]
  },
  {
   "cell_type": "code",
   "execution_count": 49,
   "id": "13b4d6d2",
   "metadata": {},
   "outputs": [
    {
     "data": {
      "text/plain": [
       "\n",
       "\tPearson's product-moment correlation\n",
       "\n",
       "data:  polish_result$Deviation.from.Original and polish_result$Average.KL.Dv.over.all.variables.and.normalized.using.sample\n",
       "t = 0.31342, df = 14, p-value = 0.7586\n",
       "alternative hypothesis: true correlation is not equal to 0\n",
       "95 percent confidence interval:\n",
       " -0.4300259  0.5561654\n",
       "sample estimates:\n",
       "       cor \n",
       "0.08347307 \n"
      ]
     },
     "metadata": {},
     "output_type": "display_data"
    }
   ],
   "source": [
    "# Correlation income & KL-divegence\n",
    "income_kl <- cor.test(polish_result$Deviation.from.Original, polish_result$Average.KL.Dv.over.all.variables.and.normalized.using.sample, \n",
    "                    method = \"pearson\")\n",
    "income_kl"
   ]
  },
  {
   "cell_type": "code",
   "execution_count": 17,
   "id": "2cad0bb3",
   "metadata": {},
   "outputs": [
    {
     "data": {
      "text/plain": [
       "\n",
       "\tPearson's product-moment correlation\n",
       "\n",
       "data:  polish_result$CIO.Regression.Fits.Raab..2016..m.10 and polish_result$APO.above.90..Raab..2016..m.10\n",
       "t = 8.4845, df = 15, p-value = 4.144e-07\n",
       "alternative hypothesis: true correlation is not equal to 0\n",
       "95 percent confidence interval:\n",
       " 0.7624229 0.9673707\n",
       "sample estimates:\n",
       "      cor \n",
       "0.9097029 \n"
      ]
     },
     "metadata": {},
     "output_type": "display_data"
    }
   ],
   "source": [
    "# Correlation CIO & APO\n",
    "cio_apo <- cor.test(polish_result$CIO.Regression.Fits.Raab..2016..m.10, polish_result$APO.above.90..Raab..2016..m.10, \n",
    "                    method = \"pearson\")\n",
    "cio_apo"
   ]
  },
  {
   "cell_type": "code",
   "execution_count": 37,
   "id": "157532f0",
   "metadata": {},
   "outputs": [
    {
     "data": {
      "text/plain": [
       "\n",
       "\tPearson's product-moment correlation\n",
       "\n",
       "data:  polish_result$CIO.Regression.Fits.Raab..2016..m.10 and polish_result$Average.KL.Dv.over.all.variables.and.normalized.using.sample\n",
       "t = -0.24728, df = 14, p-value = 0.8083\n",
       "alternative hypothesis: true correlation is not equal to 0\n",
       "95 percent confidence interval:\n",
       " -0.5438705  0.4442849\n",
       "sample estimates:\n",
       "        cor \n",
       "-0.06594347 \n"
      ]
     },
     "metadata": {},
     "output_type": "display_data"
    }
   ],
   "source": [
    "# Correlation CIO & KL-divergence\n",
    "cio_kl <- cor.test(polish_result$CIO.Regression.Fits.Raab..2016..m.10, polish_result$Average.KL.Dv.over.all.variables.and.normalized.using.sample, \n",
    "                    method = \"pearson\")\n",
    "cio_kl"
   ]
  },
  {
   "cell_type": "code",
   "execution_count": 38,
   "id": "3abc235d",
   "metadata": {},
   "outputs": [
    {
     "data": {
      "text/plain": [
       "\n",
       "\tPearson's product-moment correlation\n",
       "\n",
       "data:  polish_result$Average.KL.Dv.over.all.variables.and.normalized.using.sample and polish_result$APO.above.90..Raab..2016..m.10\n",
       "t = -1.3186, df = 14, p-value = 0.2085\n",
       "alternative hypothesis: true correlation is not equal to 0\n",
       "95 percent confidence interval:\n",
       " -0.7109401  0.1955584\n",
       "sample estimates:\n",
       "       cor \n",
       "-0.3323663 \n"
      ]
     },
     "metadata": {},
     "output_type": "display_data"
    }
   ],
   "source": [
    "# Correlation APO & KL-divergence\n",
    "kl_apo <- cor.test(polish_result$Average.KL.Dv.over.all.variables.and.normalized.using.sample, polish_result$APO.above.90..Raab..2016..m.10, \n",
    "                    method = \"pearson\")\n",
    "kl_apo"
   ]
  },
  {
   "cell_type": "code",
   "execution_count": 21,
   "id": "023e9f30",
   "metadata": {},
   "outputs": [
    {
     "data": {
      "text/plain": [
       "\n",
       "\tPearson's product-moment correlation\n",
       "\n",
       "data:  polish_result$CIO.Regression.Fits.Raab..2016..m.10 and polish_result$Dev_Org_MEVG\n",
       "t = -7.8192, df = 15, p-value = 1.14e-06\n",
       "alternative hypothesis: true correlation is not equal to 0\n",
       "95 percent confidence interval:\n",
       " -0.9622834 -0.7297709\n",
       "sample estimates:\n",
       "       cor \n",
       "-0.8960993 \n"
      ]
     },
     "metadata": {},
     "output_type": "display_data"
    }
   ],
   "source": [
    "# Correlation CIO & Male Edu Voc/Gramm\n",
    "cio_dev_MEVG <- cor.test(polish_result$CIO.Regression.Fits.Raab..2016..m.10, polish_result$Dev_Org_MEVG, \n",
    "                    method = \"pearson\")\n",
    "cio_dev_MEVG"
   ]
  },
  {
   "cell_type": "code",
   "execution_count": 29,
   "id": "bd2a9a48",
   "metadata": {},
   "outputs": [
    {
     "data": {
      "text/plain": [
       "\n",
       "\tPearson's product-moment correlation\n",
       "\n",
       "data:  polish_result$APO.above.90..Raab..2016..m.10 and polish_result$Dev_Org_MEVG\n",
       "t = -4.4375, df = 15, p-value = 0.0004795\n",
       "alternative hypothesis: true correlation is not equal to 0\n",
       "95 percent confidence interval:\n",
       " -0.9059778 -0.4276076\n",
       "sample estimates:\n",
       "       cor \n",
       "-0.7534067 \n"
      ]
     },
     "metadata": {},
     "output_type": "display_data"
    }
   ],
   "source": [
    "# Correlation APO & Male <50K US\n",
    "apo_dev_MEVG <- cor.test(polish_result$APO.above.90..Raab..2016..m.10, polish_result$Dev_Org_MEVG, \n",
    "                    method = \"pearson\")\n",
    "apo_dev_MEVG"
   ]
  },
  {
   "cell_type": "code",
   "execution_count": 39,
   "id": "d4408d84",
   "metadata": {},
   "outputs": [
    {
     "data": {
      "text/plain": [
       "\n",
       "\tPearson's product-moment correlation\n",
       "\n",
       "data:  polish_result$Average.KL.Dv.over.all.variables.and.normalized.using.sample and polish_result$Dev_Org_MEVG\n",
       "t = 0.048899, df = 14, p-value = 0.9617\n",
       "alternative hypothesis: true correlation is not equal to 0\n",
       "95 percent confidence interval:\n",
       " -0.4857844  0.5054985\n",
       "sample estimates:\n",
       "      cor \n",
       "0.0130677 \n"
      ]
     },
     "metadata": {},
     "output_type": "display_data"
    }
   ],
   "source": [
    "# Correlation KL-divergence & Male <50K US\n",
    "kl_dev_MEVG <- cor.test(polish_result$Average.KL.Dv.over.all.variables.and.normalized.using.sample, polish_result$Dev_Org_MEVG, \n",
    "                    method = \"pearson\")\n",
    "kl_dev_MEVG"
   ]
  },
  {
   "cell_type": "code",
   "execution_count": 22,
   "id": "a5f1e90c",
   "metadata": {},
   "outputs": [
    {
     "data": {
      "text/plain": [
       "\n",
       "\tPearson's product-moment correlation\n",
       "\n",
       "data:  polish_result$CIO.Regression.Fits.Raab..2016..m.10 and polish_result$Dev_Org_FI1Kto2K\n",
       "t = -1.1951, df = 15, p-value = 0.2506\n",
       "alternative hypothesis: true correlation is not equal to 0\n",
       "95 percent confidence interval:\n",
       " -0.6792430  0.2164586\n",
       "sample estimates:\n",
       "       cor \n",
       "-0.2948637 \n"
      ]
     },
     "metadata": {},
     "output_type": "display_data"
    }
   ],
   "source": [
    "# Correlation CIO & Female Income 1Kto2K\n",
    "cio_dev_FI1Kto2K <- cor.test(polish_result$CIO.Regression.Fits.Raab..2016..m.10, polish_result$Dev_Org_FI1Kto2K, \n",
    "                    method = \"pearson\")\n",
    "cio_dev_FI1Kto2K"
   ]
  },
  {
   "cell_type": "code",
   "execution_count": 23,
   "id": "25811bc7",
   "metadata": {},
   "outputs": [
    {
     "data": {
      "text/plain": [
       "\n",
       "\tPearson's product-moment correlation\n",
       "\n",
       "data:  polish_result$CIO.Regression.Fits.Raab..2016..m.10 and polish_result$Dev_Org_FI1Kto2K_811_820\n",
       "t = -2.1628, df = 15, p-value = 0.04712\n",
       "alternative hypothesis: true correlation is not equal to 0\n",
       "95 percent confidence interval:\n",
       " -0.784388119 -0.009030388\n",
       "sample estimates:\n",
       "       cor \n",
       "-0.4875589 \n"
      ]
     },
     "metadata": {},
     "output_type": "display_data"
    }
   ],
   "source": [
    "# Correlation CIO & Female Income 1Kto2K\n",
    "cio_dev_FI1Kto2K_test <- cor.test(polish_result$CIO.Regression.Fits.Raab..2016..m.10, polish_result$Dev_Org_FI1Kto2K_811_820, \n",
    "                    method = \"pearson\")\n",
    "cio_dev_FI1Kto2K_test"
   ]
  },
  {
   "cell_type": "code",
   "execution_count": 24,
   "id": "2fe3abbc",
   "metadata": {},
   "outputs": [
    {
     "data": {
      "text/plain": [
       "\n",
       "\tPearson's product-moment correlation\n",
       "\n",
       "data:  polish_result$APO.above.90..Raab..2016..m.10 and polish_result$Dev_Org_FI1Kto2K_811_820\n",
       "t = -2.0128, df = 15, p-value = 0.06245\n",
       "alternative hypothesis: true correlation is not equal to 0\n",
       "95 percent confidence interval:\n",
       " -0.77091741  0.02505437\n",
       "sample estimates:\n",
       "       cor \n",
       "-0.4611436 \n"
      ]
     },
     "metadata": {},
     "output_type": "display_data"
    }
   ],
   "source": [
    "# Correlation APO & Female Income 1Kto2K\n",
    "apo_dev_FI1Kto2K <- cor.test(polish_result$APO.above.90..Raab..2016..m.10, polish_result$Dev_Org_FI1Kto2K_811_820, \n",
    "                    method = \"pearson\")\n",
    "apo_dev_FI1Kto2K"
   ]
  },
  {
   "cell_type": "code",
   "execution_count": 40,
   "id": "4519305f",
   "metadata": {},
   "outputs": [
    {
     "data": {
      "text/plain": [
       "\n",
       "\tPearson's product-moment correlation\n",
       "\n",
       "data:  polish_result$Average.KL.Dv.over.all.variables.and.normalized.using.sample and polish_result$Dev_Org_FI1Kto2K_811_820\n",
       "t = -0.35511, df = 14, p-value = 0.7278\n",
       "alternative hypothesis: true correlation is not equal to 0\n",
       "95 percent confidence interval:\n",
       " -0.5637830  0.4209374\n",
       "sample estimates:\n",
       "        cor \n",
       "-0.09448278 \n"
      ]
     },
     "metadata": {},
     "output_type": "display_data"
    }
   ],
   "source": [
    "# Correlation KL-divergence & Female Income 1Kto2K\n",
    "kl_dev_FI1Kto2K <- cor.test(polish_result$Average.KL.Dv.over.all.variables.and.normalized.using.sample, polish_result$Dev_Org_FI1Kto2K_811_820, \n",
    "                    method = \"pearson\")\n",
    "kl_dev_FI1Kto2K"
   ]
  },
  {
   "cell_type": "code",
   "execution_count": 25,
   "id": "9e445ca4",
   "metadata": {},
   "outputs": [
    {
     "data": {
      "text/plain": [
       "\n",
       "\tPearson's product-moment correlation\n",
       "\n",
       "data:  polish_result$CIO.Regression.Fits.Raab..2016..m.10 and polish_result$Dev_Org_Mar_Alcabuse_Yes\n",
       "t = -0.19171, df = 15, p-value = 0.8505\n",
       "alternative hypothesis: true correlation is not equal to 0\n",
       "95 percent confidence interval:\n",
       " -0.5177801  0.4417016\n",
       "sample estimates:\n",
       "        cor \n",
       "-0.04943915 \n"
      ]
     },
     "metadata": {},
     "output_type": "display_data"
    }
   ],
   "source": [
    "# Correlation CIO & Married alcabuse Yes\n",
    "cio_dev_mar_alcabuse_yes <- cor.test(polish_result$CIO.Regression.Fits.Raab..2016..m.10, polish_result$Dev_Org_Mar_Alcabuse_Yes, \n",
    "                    method = \"pearson\")\n",
    "cio_dev_mar_alcabuse_yes"
   ]
  },
  {
   "cell_type": "code",
   "execution_count": 26,
   "id": "a7f2061e",
   "metadata": {},
   "outputs": [
    {
     "data": {
      "text/plain": [
       "\n",
       "\tPearson's product-moment correlation\n",
       "\n",
       "data:  polish_result$APO.above.90..Raab..2016..m.10 and polish_result$Dev_Org_Mar_Alcabuse_Yes\n",
       "t = -0.48479, df = 15, p-value = 0.6348\n",
       "alternative hypothesis: true correlation is not equal to 0\n",
       "95 percent confidence interval:\n",
       " -0.5707746  0.3790706\n",
       "sample estimates:\n",
       "       cor \n",
       "-0.1242039 \n"
      ]
     },
     "metadata": {},
     "output_type": "display_data"
    }
   ],
   "source": [
    "# Correlation APO & Married alcabuse Yes\n",
    "apo_dev_mar_alcabuse_yes <- cor.test(polish_result$APO.above.90..Raab..2016..m.10, polish_result$Dev_Org_Mar_Alcabuse_Yes, \n",
    "                    method = \"pearson\")\n",
    "apo_dev_mar_alcabuse_yes"
   ]
  },
  {
   "cell_type": "code",
   "execution_count": 41,
   "id": "e4f36260",
   "metadata": {},
   "outputs": [
    {
     "data": {
      "text/plain": [
       "\n",
       "\tPearson's product-moment correlation\n",
       "\n",
       "data:  polish_result$APO.above.90..Raab..2016..m.10 and polish_result$Dev_Org_Mar_Alcabuse_Yes\n",
       "t = -0.13563, df = 14, p-value = 0.894\n",
       "alternative hypothesis: true correlation is not equal to 0\n",
       "95 percent confidence interval:\n",
       " -0.5225471  0.4678819\n",
       "sample estimates:\n",
       "        cor \n",
       "-0.03622518 \n"
      ]
     },
     "metadata": {},
     "output_type": "display_data"
    }
   ],
   "source": [
    "# Correlation KL-divergence & Married alcabuse Yes\n",
    "kl_dev_mar_alcabuse_yes <- cor.test(polish_result$APO.above.90..Raab..2016..m.10, polish_result$Dev_Org_Mar_Alcabuse_Yes, \n",
    "                    method = \"pearson\")\n",
    "kl_dev_mar_alcabuse_yes"
   ]
  },
  {
   "cell_type": "code",
   "execution_count": 42,
   "id": "ac431125",
   "metadata": {},
   "outputs": [],
   "source": [
    "# Read units results\n",
    "polish_units_result <- read.csv('../data/results_csv_files/polish_income_units_counts.csv')"
   ]
  },
  {
   "cell_type": "code",
   "execution_count": 43,
   "id": "e5bbf0bb",
   "metadata": {},
   "outputs": [
    {
     "data": {
      "text/html": [
       "<table class=\"dataframe\">\n",
       "<caption>A data.frame: 17 × 8</caption>\n",
       "<thead>\n",
       "\t<tr><th></th><th scope=col>Dataset</th><th scope=col>Method</th><th scope=col>No.income</th><th scope=col>below.1K</th><th scope=col>X1K.to.2K</th><th scope=col>X2K.to.3K</th><th scope=col>X3K.to.4K</th><th scope=col>above.4K</th></tr>\n",
       "\t<tr><th></th><th scope=col>&lt;chr&gt;</th><th scope=col>&lt;chr&gt;</th><th scope=col>&lt;int&gt;</th><th scope=col>&lt;int&gt;</th><th scope=col>&lt;int&gt;</th><th scope=col>&lt;int&gt;</th><th scope=col>&lt;int&gt;</th><th scope=col>&lt;int&gt;</th></tr>\n",
       "</thead>\n",
       "<tbody>\n",
       "\t<tr><th scope=row>1</th><td>Polish</td><td>Original       </td><td>1286</td><td>1229</td><td>1749</td><td>472</td><td>133</td><td>131</td></tr>\n",
       "\t<tr><th scope=row>2</th><td>      </td><td>sdsPolishCatMC </td><td>1297</td><td>1222</td><td>1740</td><td>469</td><td>130</td><td>141</td></tr>\n",
       "\t<tr><th scope=row>3</th><td>      </td><td>sdsPolishCatMCT</td><td>1282</td><td>1236</td><td>1732</td><td>479</td><td>135</td><td>136</td></tr>\n",
       "\t<tr><th scope=row>4</th><td>      </td><td>sdsPolishCatMP </td><td>1293</td><td>1237</td><td>1731</td><td>473</td><td>134</td><td>132</td></tr>\n",
       "\t<tr><th scope=row>5</th><td>      </td><td>sdsPolishCatMPT</td><td>1288</td><td>1240</td><td>1739</td><td>472</td><td>129</td><td>131</td></tr>\n",
       "\t<tr><th scope=row>6</th><td>      </td><td>sdsPolishDecM  </td><td>1288</td><td>1229</td><td>1750</td><td>477</td><td>129</td><td>128</td></tr>\n",
       "\t<tr><th scope=row>7</th><td>      </td><td>sdsPolishDecMO </td><td>1282</td><td>1220</td><td>1751</td><td>479</td><td>135</td><td>132</td></tr>\n",
       "\t<tr><th scope=row>8</th><td>      </td><td>sdsPolishDecMOT</td><td>1262</td><td>1242</td><td>1761</td><td>458</td><td>137</td><td>140</td></tr>\n",
       "\t<tr><th scope=row>9</th><td>      </td><td>sdsPolishDecMT </td><td>1304</td><td>1217</td><td>1759</td><td>460</td><td>126</td><td>134</td></tr>\n",
       "\t<tr><th scope=row>10</th><td>      </td><td>sdsPolishDecMV </td><td>1302</td><td>1235</td><td>1730</td><td>470</td><td>136</td><td>128</td></tr>\n",
       "\t<tr><th scope=row>11</th><td>      </td><td>sdsPolishDecMVT</td><td>1258</td><td>1247</td><td>1729</td><td>498</td><td>134</td><td>135</td></tr>\n",
       "\t<tr><th scope=row>12</th><td>      </td><td>sdsPolishParM  </td><td>1163</td><td>1307</td><td>1856</td><td>458</td><td>115</td><td>102</td></tr>\n",
       "\t<tr><th scope=row>13</th><td>      </td><td>sdsPolishParMO </td><td>1151</td><td>1317</td><td>1849</td><td>466</td><td>122</td><td> 95</td></tr>\n",
       "\t<tr><th scope=row>14</th><td>      </td><td>sdsPolishParMOT</td><td>1156</td><td>1279</td><td>1875</td><td>467</td><td>120</td><td>104</td></tr>\n",
       "\t<tr><th scope=row>15</th><td>      </td><td>sdsPolishParMT </td><td>1153</td><td>1297</td><td>1853</td><td>475</td><td>120</td><td>101</td></tr>\n",
       "\t<tr><th scope=row>16</th><td>      </td><td>sdsPolishParMV </td><td>1150</td><td>1295</td><td>1876</td><td>460</td><td>119</td><td>100</td></tr>\n",
       "\t<tr><th scope=row>17</th><td>      </td><td>sdsPolishParMVT</td><td>1166</td><td>1310</td><td>1854</td><td>451</td><td>116</td><td>103</td></tr>\n",
       "</tbody>\n",
       "</table>\n"
      ],
      "text/latex": [
       "A data.frame: 17 × 8\n",
       "\\begin{tabular}{r|llllllll}\n",
       "  & Dataset & Method & No.income & below.1K & X1K.to.2K & X2K.to.3K & X3K.to.4K & above.4K\\\\\n",
       "  & <chr> & <chr> & <int> & <int> & <int> & <int> & <int> & <int>\\\\\n",
       "\\hline\n",
       "\t1 & Polish & Original        & 1286 & 1229 & 1749 & 472 & 133 & 131\\\\\n",
       "\t2 &        & sdsPolishCatMC  & 1297 & 1222 & 1740 & 469 & 130 & 141\\\\\n",
       "\t3 &        & sdsPolishCatMCT & 1282 & 1236 & 1732 & 479 & 135 & 136\\\\\n",
       "\t4 &        & sdsPolishCatMP  & 1293 & 1237 & 1731 & 473 & 134 & 132\\\\\n",
       "\t5 &        & sdsPolishCatMPT & 1288 & 1240 & 1739 & 472 & 129 & 131\\\\\n",
       "\t6 &        & sdsPolishDecM   & 1288 & 1229 & 1750 & 477 & 129 & 128\\\\\n",
       "\t7 &        & sdsPolishDecMO  & 1282 & 1220 & 1751 & 479 & 135 & 132\\\\\n",
       "\t8 &        & sdsPolishDecMOT & 1262 & 1242 & 1761 & 458 & 137 & 140\\\\\n",
       "\t9 &        & sdsPolishDecMT  & 1304 & 1217 & 1759 & 460 & 126 & 134\\\\\n",
       "\t10 &        & sdsPolishDecMV  & 1302 & 1235 & 1730 & 470 & 136 & 128\\\\\n",
       "\t11 &        & sdsPolishDecMVT & 1258 & 1247 & 1729 & 498 & 134 & 135\\\\\n",
       "\t12 &        & sdsPolishParM   & 1163 & 1307 & 1856 & 458 & 115 & 102\\\\\n",
       "\t13 &        & sdsPolishParMO  & 1151 & 1317 & 1849 & 466 & 122 &  95\\\\\n",
       "\t14 &        & sdsPolishParMOT & 1156 & 1279 & 1875 & 467 & 120 & 104\\\\\n",
       "\t15 &        & sdsPolishParMT  & 1153 & 1297 & 1853 & 475 & 120 & 101\\\\\n",
       "\t16 &        & sdsPolishParMV  & 1150 & 1295 & 1876 & 460 & 119 & 100\\\\\n",
       "\t17 &        & sdsPolishParMVT & 1166 & 1310 & 1854 & 451 & 116 & 103\\\\\n",
       "\\end{tabular}\n"
      ],
      "text/markdown": [
       "\n",
       "A data.frame: 17 × 8\n",
       "\n",
       "| <!--/--> | Dataset &lt;chr&gt; | Method &lt;chr&gt; | No.income &lt;int&gt; | below.1K &lt;int&gt; | X1K.to.2K &lt;int&gt; | X2K.to.3K &lt;int&gt; | X3K.to.4K &lt;int&gt; | above.4K &lt;int&gt; |\n",
       "|---|---|---|---|---|---|---|---|---|\n",
       "| 1 | Polish | Original        | 1286 | 1229 | 1749 | 472 | 133 | 131 |\n",
       "| 2 | <!----> | sdsPolishCatMC  | 1297 | 1222 | 1740 | 469 | 130 | 141 |\n",
       "| 3 | <!----> | sdsPolishCatMCT | 1282 | 1236 | 1732 | 479 | 135 | 136 |\n",
       "| 4 | <!----> | sdsPolishCatMP  | 1293 | 1237 | 1731 | 473 | 134 | 132 |\n",
       "| 5 | <!----> | sdsPolishCatMPT | 1288 | 1240 | 1739 | 472 | 129 | 131 |\n",
       "| 6 | <!----> | sdsPolishDecM   | 1288 | 1229 | 1750 | 477 | 129 | 128 |\n",
       "| 7 | <!----> | sdsPolishDecMO  | 1282 | 1220 | 1751 | 479 | 135 | 132 |\n",
       "| 8 | <!----> | sdsPolishDecMOT | 1262 | 1242 | 1761 | 458 | 137 | 140 |\n",
       "| 9 | <!----> | sdsPolishDecMT  | 1304 | 1217 | 1759 | 460 | 126 | 134 |\n",
       "| 10 | <!----> | sdsPolishDecMV  | 1302 | 1235 | 1730 | 470 | 136 | 128 |\n",
       "| 11 | <!----> | sdsPolishDecMVT | 1258 | 1247 | 1729 | 498 | 134 | 135 |\n",
       "| 12 | <!----> | sdsPolishParM   | 1163 | 1307 | 1856 | 458 | 115 | 102 |\n",
       "| 13 | <!----> | sdsPolishParMO  | 1151 | 1317 | 1849 | 466 | 122 |  95 |\n",
       "| 14 | <!----> | sdsPolishParMOT | 1156 | 1279 | 1875 | 467 | 120 | 104 |\n",
       "| 15 | <!----> | sdsPolishParMT  | 1153 | 1297 | 1853 | 475 | 120 | 101 |\n",
       "| 16 | <!----> | sdsPolishParMV  | 1150 | 1295 | 1876 | 460 | 119 | 100 |\n",
       "| 17 | <!----> | sdsPolishParMVT | 1166 | 1310 | 1854 | 451 | 116 | 103 |\n",
       "\n"
      ],
      "text/plain": [
       "   Dataset Method          No.income below.1K X1K.to.2K X2K.to.3K X3K.to.4K\n",
       "1  Polish  Original        1286      1229     1749      472       133      \n",
       "2          sdsPolishCatMC  1297      1222     1740      469       130      \n",
       "3          sdsPolishCatMCT 1282      1236     1732      479       135      \n",
       "4          sdsPolishCatMP  1293      1237     1731      473       134      \n",
       "5          sdsPolishCatMPT 1288      1240     1739      472       129      \n",
       "6          sdsPolishDecM   1288      1229     1750      477       129      \n",
       "7          sdsPolishDecMO  1282      1220     1751      479       135      \n",
       "8          sdsPolishDecMOT 1262      1242     1761      458       137      \n",
       "9          sdsPolishDecMT  1304      1217     1759      460       126      \n",
       "10         sdsPolishDecMV  1302      1235     1730      470       136      \n",
       "11         sdsPolishDecMVT 1258      1247     1729      498       134      \n",
       "12         sdsPolishParM   1163      1307     1856      458       115      \n",
       "13         sdsPolishParMO  1151      1317     1849      466       122      \n",
       "14         sdsPolishParMOT 1156      1279     1875      467       120      \n",
       "15         sdsPolishParMT  1153      1297     1853      475       120      \n",
       "16         sdsPolishParMV  1150      1295     1876      460       119      \n",
       "17         sdsPolishParMVT 1166      1310     1854      451       116      \n",
       "   above.4K\n",
       "1  131     \n",
       "2  141     \n",
       "3  136     \n",
       "4  132     \n",
       "5  131     \n",
       "6  128     \n",
       "7  132     \n",
       "8  140     \n",
       "9  134     \n",
       "10 128     \n",
       "11 135     \n",
       "12 102     \n",
       "13  95     \n",
       "14 104     \n",
       "15 101     \n",
       "16 100     \n",
       "17 103     "
      ]
     },
     "metadata": {},
     "output_type": "display_data"
    }
   ],
   "source": [
    "# For testing without Sample synthesizer results\n",
    "polish_units_result <- polish_units_result[-c(18),] \n",
    "polish_units_result"
   ]
  },
  {
   "cell_type": "code",
   "execution_count": 44,
   "id": "83f04427",
   "metadata": {},
   "outputs": [
    {
     "data": {
      "text/html": [
       "<table class=\"dataframe\">\n",
       "<caption>A data.frame: 17 × 14</caption>\n",
       "<thead>\n",
       "\t<tr><th></th><th scope=col>Dataset</th><th scope=col>Method</th><th scope=col>No.income</th><th scope=col>below.1K</th><th scope=col>X1K.to.2K</th><th scope=col>X2K.to.3K</th><th scope=col>X3K.to.4K</th><th scope=col>above.4K</th><th scope=col>Dev_Org_No_Income</th><th scope=col>Dev_Org_below_1K</th><th scope=col>Dev_Org_1K_to_2K</th><th scope=col>Dev_Org_2K_to_3K</th><th scope=col>Dev_Org_3K_to_4K</th><th scope=col>Dev_Org_above_4K</th></tr>\n",
       "\t<tr><th></th><th scope=col>&lt;chr&gt;</th><th scope=col>&lt;chr&gt;</th><th scope=col>&lt;int&gt;</th><th scope=col>&lt;int&gt;</th><th scope=col>&lt;int&gt;</th><th scope=col>&lt;int&gt;</th><th scope=col>&lt;int&gt;</th><th scope=col>&lt;int&gt;</th><th scope=col>&lt;int&gt;</th><th scope=col>&lt;int&gt;</th><th scope=col>&lt;int&gt;</th><th scope=col>&lt;int&gt;</th><th scope=col>&lt;int&gt;</th><th scope=col>&lt;int&gt;</th></tr>\n",
       "</thead>\n",
       "<tbody>\n",
       "\t<tr><th scope=row>1</th><td>Polish</td><td>Original       </td><td>1286</td><td>1229</td><td>1749</td><td>472</td><td>133</td><td>131</td><td>  0</td><td> 0</td><td>  0</td><td> 0</td><td> 0</td><td> 0</td></tr>\n",
       "\t<tr><th scope=row>2</th><td>      </td><td>sdsPolishCatMC </td><td>1297</td><td>1222</td><td>1740</td><td>469</td><td>130</td><td>141</td><td> 11</td><td> 7</td><td>  9</td><td> 3</td><td> 3</td><td>10</td></tr>\n",
       "\t<tr><th scope=row>3</th><td>      </td><td>sdsPolishCatMCT</td><td>1282</td><td>1236</td><td>1732</td><td>479</td><td>135</td><td>136</td><td>  4</td><td> 7</td><td> 17</td><td> 7</td><td> 2</td><td> 5</td></tr>\n",
       "\t<tr><th scope=row>4</th><td>      </td><td>sdsPolishCatMP </td><td>1293</td><td>1237</td><td>1731</td><td>473</td><td>134</td><td>132</td><td>  7</td><td> 8</td><td> 18</td><td> 1</td><td> 1</td><td> 1</td></tr>\n",
       "\t<tr><th scope=row>5</th><td>      </td><td>sdsPolishCatMPT</td><td>1288</td><td>1240</td><td>1739</td><td>472</td><td>129</td><td>131</td><td>  2</td><td>11</td><td> 10</td><td> 0</td><td> 4</td><td> 0</td></tr>\n",
       "\t<tr><th scope=row>6</th><td>      </td><td>sdsPolishDecM  </td><td>1288</td><td>1229</td><td>1750</td><td>477</td><td>129</td><td>128</td><td>  2</td><td> 0</td><td>  1</td><td> 5</td><td> 4</td><td> 3</td></tr>\n",
       "\t<tr><th scope=row>7</th><td>      </td><td>sdsPolishDecMO </td><td>1282</td><td>1220</td><td>1751</td><td>479</td><td>135</td><td>132</td><td>  4</td><td> 9</td><td>  2</td><td> 7</td><td> 2</td><td> 1</td></tr>\n",
       "\t<tr><th scope=row>8</th><td>      </td><td>sdsPolishDecMOT</td><td>1262</td><td>1242</td><td>1761</td><td>458</td><td>137</td><td>140</td><td> 24</td><td>13</td><td> 12</td><td>14</td><td> 4</td><td> 9</td></tr>\n",
       "\t<tr><th scope=row>9</th><td>      </td><td>sdsPolishDecMT </td><td>1304</td><td>1217</td><td>1759</td><td>460</td><td>126</td><td>134</td><td> 18</td><td>12</td><td> 10</td><td>12</td><td> 7</td><td> 3</td></tr>\n",
       "\t<tr><th scope=row>10</th><td>      </td><td>sdsPolishDecMV </td><td>1302</td><td>1235</td><td>1730</td><td>470</td><td>136</td><td>128</td><td> 16</td><td> 6</td><td> 19</td><td> 2</td><td> 3</td><td> 3</td></tr>\n",
       "\t<tr><th scope=row>11</th><td>      </td><td>sdsPolishDecMVT</td><td>1258</td><td>1247</td><td>1729</td><td>498</td><td>134</td><td>135</td><td> 28</td><td>18</td><td> 20</td><td>26</td><td> 1</td><td> 4</td></tr>\n",
       "\t<tr><th scope=row>12</th><td>      </td><td>sdsPolishParM  </td><td>1163</td><td>1307</td><td>1856</td><td>458</td><td>115</td><td>102</td><td>123</td><td>78</td><td>107</td><td>14</td><td>18</td><td>29</td></tr>\n",
       "\t<tr><th scope=row>13</th><td>      </td><td>sdsPolishParMO </td><td>1151</td><td>1317</td><td>1849</td><td>466</td><td>122</td><td> 95</td><td>135</td><td>88</td><td>100</td><td> 6</td><td>11</td><td>36</td></tr>\n",
       "\t<tr><th scope=row>14</th><td>      </td><td>sdsPolishParMOT</td><td>1156</td><td>1279</td><td>1875</td><td>467</td><td>120</td><td>104</td><td>130</td><td>50</td><td>126</td><td> 5</td><td>13</td><td>27</td></tr>\n",
       "\t<tr><th scope=row>15</th><td>      </td><td>sdsPolishParMT </td><td>1153</td><td>1297</td><td>1853</td><td>475</td><td>120</td><td>101</td><td>133</td><td>68</td><td>104</td><td> 3</td><td>13</td><td>30</td></tr>\n",
       "\t<tr><th scope=row>16</th><td>      </td><td>sdsPolishParMV </td><td>1150</td><td>1295</td><td>1876</td><td>460</td><td>119</td><td>100</td><td>136</td><td>66</td><td>127</td><td>12</td><td>14</td><td>31</td></tr>\n",
       "\t<tr><th scope=row>17</th><td>      </td><td>sdsPolishParMVT</td><td>1166</td><td>1310</td><td>1854</td><td>451</td><td>116</td><td>103</td><td>120</td><td>81</td><td>105</td><td>21</td><td>17</td><td>28</td></tr>\n",
       "</tbody>\n",
       "</table>\n"
      ],
      "text/latex": [
       "A data.frame: 17 × 14\n",
       "\\begin{tabular}{r|llllllllllllll}\n",
       "  & Dataset & Method & No.income & below.1K & X1K.to.2K & X2K.to.3K & X3K.to.4K & above.4K & Dev\\_Org\\_No\\_Income & Dev\\_Org\\_below\\_1K & Dev\\_Org\\_1K\\_to\\_2K & Dev\\_Org\\_2K\\_to\\_3K & Dev\\_Org\\_3K\\_to\\_4K & Dev\\_Org\\_above\\_4K\\\\\n",
       "  & <chr> & <chr> & <int> & <int> & <int> & <int> & <int> & <int> & <int> & <int> & <int> & <int> & <int> & <int>\\\\\n",
       "\\hline\n",
       "\t1 & Polish & Original        & 1286 & 1229 & 1749 & 472 & 133 & 131 &   0 &  0 &   0 &  0 &  0 &  0\\\\\n",
       "\t2 &        & sdsPolishCatMC  & 1297 & 1222 & 1740 & 469 & 130 & 141 &  11 &  7 &   9 &  3 &  3 & 10\\\\\n",
       "\t3 &        & sdsPolishCatMCT & 1282 & 1236 & 1732 & 479 & 135 & 136 &   4 &  7 &  17 &  7 &  2 &  5\\\\\n",
       "\t4 &        & sdsPolishCatMP  & 1293 & 1237 & 1731 & 473 & 134 & 132 &   7 &  8 &  18 &  1 &  1 &  1\\\\\n",
       "\t5 &        & sdsPolishCatMPT & 1288 & 1240 & 1739 & 472 & 129 & 131 &   2 & 11 &  10 &  0 &  4 &  0\\\\\n",
       "\t6 &        & sdsPolishDecM   & 1288 & 1229 & 1750 & 477 & 129 & 128 &   2 &  0 &   1 &  5 &  4 &  3\\\\\n",
       "\t7 &        & sdsPolishDecMO  & 1282 & 1220 & 1751 & 479 & 135 & 132 &   4 &  9 &   2 &  7 &  2 &  1\\\\\n",
       "\t8 &        & sdsPolishDecMOT & 1262 & 1242 & 1761 & 458 & 137 & 140 &  24 & 13 &  12 & 14 &  4 &  9\\\\\n",
       "\t9 &        & sdsPolishDecMT  & 1304 & 1217 & 1759 & 460 & 126 & 134 &  18 & 12 &  10 & 12 &  7 &  3\\\\\n",
       "\t10 &        & sdsPolishDecMV  & 1302 & 1235 & 1730 & 470 & 136 & 128 &  16 &  6 &  19 &  2 &  3 &  3\\\\\n",
       "\t11 &        & sdsPolishDecMVT & 1258 & 1247 & 1729 & 498 & 134 & 135 &  28 & 18 &  20 & 26 &  1 &  4\\\\\n",
       "\t12 &        & sdsPolishParM   & 1163 & 1307 & 1856 & 458 & 115 & 102 & 123 & 78 & 107 & 14 & 18 & 29\\\\\n",
       "\t13 &        & sdsPolishParMO  & 1151 & 1317 & 1849 & 466 & 122 &  95 & 135 & 88 & 100 &  6 & 11 & 36\\\\\n",
       "\t14 &        & sdsPolishParMOT & 1156 & 1279 & 1875 & 467 & 120 & 104 & 130 & 50 & 126 &  5 & 13 & 27\\\\\n",
       "\t15 &        & sdsPolishParMT  & 1153 & 1297 & 1853 & 475 & 120 & 101 & 133 & 68 & 104 &  3 & 13 & 30\\\\\n",
       "\t16 &        & sdsPolishParMV  & 1150 & 1295 & 1876 & 460 & 119 & 100 & 136 & 66 & 127 & 12 & 14 & 31\\\\\n",
       "\t17 &        & sdsPolishParMVT & 1166 & 1310 & 1854 & 451 & 116 & 103 & 120 & 81 & 105 & 21 & 17 & 28\\\\\n",
       "\\end{tabular}\n"
      ],
      "text/markdown": [
       "\n",
       "A data.frame: 17 × 14\n",
       "\n",
       "| <!--/--> | Dataset &lt;chr&gt; | Method &lt;chr&gt; | No.income &lt;int&gt; | below.1K &lt;int&gt; | X1K.to.2K &lt;int&gt; | X2K.to.3K &lt;int&gt; | X3K.to.4K &lt;int&gt; | above.4K &lt;int&gt; | Dev_Org_No_Income &lt;int&gt; | Dev_Org_below_1K &lt;int&gt; | Dev_Org_1K_to_2K &lt;int&gt; | Dev_Org_2K_to_3K &lt;int&gt; | Dev_Org_3K_to_4K &lt;int&gt; | Dev_Org_above_4K &lt;int&gt; |\n",
       "|---|---|---|---|---|---|---|---|---|---|---|---|---|---|---|\n",
       "| 1 | Polish | Original        | 1286 | 1229 | 1749 | 472 | 133 | 131 |   0 |  0 |   0 |  0 |  0 |  0 |\n",
       "| 2 | <!----> | sdsPolishCatMC  | 1297 | 1222 | 1740 | 469 | 130 | 141 |  11 |  7 |   9 |  3 |  3 | 10 |\n",
       "| 3 | <!----> | sdsPolishCatMCT | 1282 | 1236 | 1732 | 479 | 135 | 136 |   4 |  7 |  17 |  7 |  2 |  5 |\n",
       "| 4 | <!----> | sdsPolishCatMP  | 1293 | 1237 | 1731 | 473 | 134 | 132 |   7 |  8 |  18 |  1 |  1 |  1 |\n",
       "| 5 | <!----> | sdsPolishCatMPT | 1288 | 1240 | 1739 | 472 | 129 | 131 |   2 | 11 |  10 |  0 |  4 |  0 |\n",
       "| 6 | <!----> | sdsPolishDecM   | 1288 | 1229 | 1750 | 477 | 129 | 128 |   2 |  0 |   1 |  5 |  4 |  3 |\n",
       "| 7 | <!----> | sdsPolishDecMO  | 1282 | 1220 | 1751 | 479 | 135 | 132 |   4 |  9 |   2 |  7 |  2 |  1 |\n",
       "| 8 | <!----> | sdsPolishDecMOT | 1262 | 1242 | 1761 | 458 | 137 | 140 |  24 | 13 |  12 | 14 |  4 |  9 |\n",
       "| 9 | <!----> | sdsPolishDecMT  | 1304 | 1217 | 1759 | 460 | 126 | 134 |  18 | 12 |  10 | 12 |  7 |  3 |\n",
       "| 10 | <!----> | sdsPolishDecMV  | 1302 | 1235 | 1730 | 470 | 136 | 128 |  16 |  6 |  19 |  2 |  3 |  3 |\n",
       "| 11 | <!----> | sdsPolishDecMVT | 1258 | 1247 | 1729 | 498 | 134 | 135 |  28 | 18 |  20 | 26 |  1 |  4 |\n",
       "| 12 | <!----> | sdsPolishParM   | 1163 | 1307 | 1856 | 458 | 115 | 102 | 123 | 78 | 107 | 14 | 18 | 29 |\n",
       "| 13 | <!----> | sdsPolishParMO  | 1151 | 1317 | 1849 | 466 | 122 |  95 | 135 | 88 | 100 |  6 | 11 | 36 |\n",
       "| 14 | <!----> | sdsPolishParMOT | 1156 | 1279 | 1875 | 467 | 120 | 104 | 130 | 50 | 126 |  5 | 13 | 27 |\n",
       "| 15 | <!----> | sdsPolishParMT  | 1153 | 1297 | 1853 | 475 | 120 | 101 | 133 | 68 | 104 |  3 | 13 | 30 |\n",
       "| 16 | <!----> | sdsPolishParMV  | 1150 | 1295 | 1876 | 460 | 119 | 100 | 136 | 66 | 127 | 12 | 14 | 31 |\n",
       "| 17 | <!----> | sdsPolishParMVT | 1166 | 1310 | 1854 | 451 | 116 | 103 | 120 | 81 | 105 | 21 | 17 | 28 |\n",
       "\n"
      ],
      "text/plain": [
       "   Dataset Method          No.income below.1K X1K.to.2K X2K.to.3K X3K.to.4K\n",
       "1  Polish  Original        1286      1229     1749      472       133      \n",
       "2          sdsPolishCatMC  1297      1222     1740      469       130      \n",
       "3          sdsPolishCatMCT 1282      1236     1732      479       135      \n",
       "4          sdsPolishCatMP  1293      1237     1731      473       134      \n",
       "5          sdsPolishCatMPT 1288      1240     1739      472       129      \n",
       "6          sdsPolishDecM   1288      1229     1750      477       129      \n",
       "7          sdsPolishDecMO  1282      1220     1751      479       135      \n",
       "8          sdsPolishDecMOT 1262      1242     1761      458       137      \n",
       "9          sdsPolishDecMT  1304      1217     1759      460       126      \n",
       "10         sdsPolishDecMV  1302      1235     1730      470       136      \n",
       "11         sdsPolishDecMVT 1258      1247     1729      498       134      \n",
       "12         sdsPolishParM   1163      1307     1856      458       115      \n",
       "13         sdsPolishParMO  1151      1317     1849      466       122      \n",
       "14         sdsPolishParMOT 1156      1279     1875      467       120      \n",
       "15         sdsPolishParMT  1153      1297     1853      475       120      \n",
       "16         sdsPolishParMV  1150      1295     1876      460       119      \n",
       "17         sdsPolishParMVT 1166      1310     1854      451       116      \n",
       "   above.4K Dev_Org_No_Income Dev_Org_below_1K Dev_Org_1K_to_2K\n",
       "1  131        0                0                 0             \n",
       "2  141       11                7                 9             \n",
       "3  136        4                7                17             \n",
       "4  132        7                8                18             \n",
       "5  131        2               11                10             \n",
       "6  128        2                0                 1             \n",
       "7  132        4                9                 2             \n",
       "8  140       24               13                12             \n",
       "9  134       18               12                10             \n",
       "10 128       16                6                19             \n",
       "11 135       28               18                20             \n",
       "12 102      123               78               107             \n",
       "13  95      135               88               100             \n",
       "14 104      130               50               126             \n",
       "15 101      133               68               104             \n",
       "16 100      136               66               127             \n",
       "17 103      120               81               105             \n",
       "   Dev_Org_2K_to_3K Dev_Org_3K_to_4K Dev_Org_above_4K\n",
       "1   0                0                0              \n",
       "2   3                3               10              \n",
       "3   7                2                5              \n",
       "4   1                1                1              \n",
       "5   0                4                0              \n",
       "6   5                4                3              \n",
       "7   7                2                1              \n",
       "8  14                4                9              \n",
       "9  12                7                3              \n",
       "10  2                3                3              \n",
       "11 26                1                4              \n",
       "12 14               18               29              \n",
       "13  6               11               36              \n",
       "14  5               13               27              \n",
       "15  3               13               30              \n",
       "16 12               14               31              \n",
       "17 21               17               28              "
      ]
     },
     "metadata": {},
     "output_type": "display_data"
    }
   ],
   "source": [
    "# Calculate devitain from original\n",
    "polish_units_result <- polish_units_result %>% mutate(Dev_Org_No_Income = abs(No.income - No.income[Method == \"Original\"]))\n",
    "polish_units_result <- polish_units_result %>% mutate(Dev_Org_below_1K = abs(below.1K - below.1K[Method == \"Original\"]))\n",
    "polish_units_result <- polish_units_result %>% mutate(Dev_Org_1K_to_2K = abs(X1K.to.2K - X1K.to.2K[Method == \"Original\"]))\n",
    "polish_units_result <- polish_units_result %>% mutate(Dev_Org_2K_to_3K = abs(X2K.to.3K - X2K.to.3K[Method == \"Original\"]))\n",
    "polish_units_result <- polish_units_result %>% mutate(Dev_Org_3K_to_4K = abs(X3K.to.4K - X3K.to.4K[Method == \"Original\"]))\n",
    "polish_units_result <- polish_units_result %>% mutate(Dev_Org_above_4K = abs(above.4K - above.4K[Method == \"Original\"]))\n",
    "polish_units_result"
   ]
  },
  {
   "cell_type": "code",
   "execution_count": 29,
   "id": "947e98f2",
   "metadata": {},
   "outputs": [
    {
     "data": {
      "text/plain": [
       "\n",
       "\tPearson's product-moment correlation\n",
       "\n",
       "data:  polish_units_result$Dev_Org_No_Income and polish_result$CIO.Regression.Fits.Raab..2016..m.10\n",
       "t = -0.35062, df = 15, p-value = 0.7308\n",
       "alternative hypothesis: true correlation is not equal to 0\n",
       "95 percent confidence interval:\n",
       " -0.5470965  0.4081728\n",
       "sample estimates:\n",
       "        cor \n",
       "-0.09016015 \n"
      ]
     },
     "metadata": {},
     "output_type": "display_data"
    }
   ],
   "source": [
    "# Correlation CIO & Units No Income\n",
    "units_noincome_cio <- cor.test(polish_units_result$Dev_Org_No_Income, polish_result$CIO.Regression.Fits.Raab..2016..m.10, \n",
    "                    method = \"pearson\")\n",
    "units_noincome_cio"
   ]
  },
  {
   "cell_type": "code",
   "execution_count": 30,
   "id": "606ef660",
   "metadata": {},
   "outputs": [
    {
     "data": {
      "text/plain": [
       "\n",
       "\tPearson's product-moment correlation\n",
       "\n",
       "data:  polish_units_result$Dev_Org_No_Income and polish_result$APO.above.90..Raab..2016..m.10\n",
       "t = -0.546, df = 15, p-value = 0.5931\n",
       "alternative hypothesis: true correlation is not equal to 0\n",
       "95 percent confidence interval:\n",
       " -0.5812418  0.3655776\n",
       "sample estimates:\n",
       "      cor \n",
       "-0.139596 \n"
      ]
     },
     "metadata": {},
     "output_type": "display_data"
    }
   ],
   "source": [
    "# Correlation APO & Units No Income\n",
    "units_noincome_apo <- cor.test(polish_units_result$Dev_Org_No_Income, polish_result$APO.above.90..Raab..2016..m.10, \n",
    "                    method = \"pearson\")\n",
    "units_noincome_apo"
   ]
  },
  {
   "cell_type": "code",
   "execution_count": 45,
   "id": "b226fdaf",
   "metadata": {},
   "outputs": [
    {
     "data": {
      "text/plain": [
       "\n",
       "\tPearson's product-moment correlation\n",
       "\n",
       "data:  polish_units_result$Dev_Org_No_Income and polish_result$Average.KL.Dv.over.all.variables.and.normalized.using.sample\n",
       "t = -0.31635, df = 14, p-value = 0.7564\n",
       "alternative hypothesis: true correlation is not equal to 0\n",
       "95 percent confidence interval:\n",
       " -0.5567041  0.4293896\n",
       "sample estimates:\n",
       "        cor \n",
       "-0.08424794 \n"
      ]
     },
     "metadata": {},
     "output_type": "display_data"
    }
   ],
   "source": [
    "# Correlation KL-divergence & Units No Income\n",
    "units_noincome_kl <- cor.test(polish_units_result$Dev_Org_No_Income, polish_result$Average.KL.Dv.over.all.variables.and.normalized.using.sample, \n",
    "                    method = \"pearson\")\n",
    "units_noincome_kl"
   ]
  }
 ],
 "metadata": {
  "kernelspec": {
   "display_name": "R",
   "language": "R",
   "name": "ir"
  },
  "language_info": {
   "codemirror_mode": "r",
   "file_extension": ".r",
   "mimetype": "text/x-r-source",
   "name": "R",
   "pygments_lexer": "r",
   "version": "4.0.5"
  }
 },
 "nbformat": 4,
 "nbformat_minor": 5
}
