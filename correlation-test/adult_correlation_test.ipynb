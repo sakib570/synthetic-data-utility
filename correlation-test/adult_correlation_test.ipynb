{
 "cells": [
  {
   "cell_type": "code",
   "execution_count": 137,
   "id": "dbe54fe1",
   "metadata": {},
   "outputs": [],
   "source": [
    "# Read results\n",
    "adult_result <- read.csv('..//data//results_csv_files//adult_correlation_data.csv')"
   ]
  },
  {
   "cell_type": "code",
   "execution_count": 138,
   "id": "4272cf05",
   "metadata": {},
   "outputs": [
    {
     "data": {
      "text/html": [
       "<table class=\"dataframe\">\n",
       "<caption>A data.frame: 17 × 11</caption>\n",
       "<thead>\n",
       "\t<tr><th></th><th scope=col>Dataset</th><th scope=col>Method</th><th scope=col>Income.Classifcation</th><th scope=col>Male.with.Income...50K.and.US.Nationality.m.1000</th><th scope=col>Male.with.Income...50K.and.US.Nationality.m.10</th><th scope=col>White.above.50K</th><th scope=col>White.below.50K</th><th scope=col>CIO.Regression.Fits.Raab..2016..m.10</th><th scope=col>Average.KL.Dv.over.all.variables.and.normalized.using.sample</th><th scope=col>APO.above.90..Raab..2016..m.10</th><th scope=col>Deviation.from.Original</th></tr>\n",
       "\t<tr><th></th><th scope=col>&lt;chr&gt;</th><th scope=col>&lt;chr&gt;</th><th scope=col>&lt;dbl&gt;</th><th scope=col>&lt;dbl&gt;</th><th scope=col>&lt;dbl&gt;</th><th scope=col>&lt;dbl&gt;</th><th scope=col>&lt;dbl&gt;</th><th scope=col>&lt;dbl&gt;</th><th scope=col>&lt;dbl&gt;</th><th scope=col>&lt;dbl&gt;</th><th scope=col>&lt;dbl&gt;</th></tr>\n",
       "</thead>\n",
       "<tbody>\n",
       "\t<tr><th scope=row>1</th><td>Adult</td><td>Original      </td><td>79.500</td><td>46.63000</td><td>46.63000</td><td>22.450</td><td>63.570</td><td>   NA</td><td>   NA</td><td>   NA</td><td>   NA</td></tr>\n",
       "\t<tr><th scope=row>2</th><td>     </td><td>sdsAdultCatMC </td><td>79.729</td><td>46.63585</td><td>46.68949</td><td>22.361</td><td>63.371</td><td>0.840</td><td> 1.00</td><td>0.510</td><td>0.229</td></tr>\n",
       "\t<tr><th scope=row>3</th><td>     </td><td>sdsAdultCatMCT</td><td>79.664</td><td>46.61136</td><td>46.56033</td><td>22.469</td><td>63.506</td><td>0.820</td><td> 2.03</td><td>0.405</td><td>0.164</td></tr>\n",
       "\t<tr><th scope=row>4</th><td>     </td><td>sdsAdultCatMP </td><td>79.397</td><td>46.62162</td><td>46.51278</td><td>22.370</td><td>63.563</td><td>0.838</td><td> 1.06</td><td>0.512</td><td>0.103</td></tr>\n",
       "\t<tr><th scope=row>5</th><td>     </td><td>sdsAdultCatMPT</td><td>79.191</td><td>46.59021</td><td>46.44136</td><td>22.328</td><td>63.762</td><td>0.810</td><td> 2.48</td><td>0.405</td><td>0.309</td></tr>\n",
       "\t<tr><th scope=row>6</th><td>     </td><td>sdsAdultDecM  </td><td>79.300</td><td>46.96512</td><td>46.71321</td><td>22.284</td><td>63.669</td><td>0.770</td><td> 1.04</td><td>0.270</td><td>0.200</td></tr>\n",
       "\t<tr><th scope=row>7</th><td>     </td><td>sdsAdultDecMH </td><td>79.874</td><td>47.20706</td><td>47.12840</td><td>21.971</td><td>63.809</td><td>0.720</td><td> 1.05</td><td>0.240</td><td>0.374</td></tr>\n",
       "\t<tr><th scope=row>8</th><td>     </td><td>sdsAdultDecMHT</td><td>79.324</td><td>47.14201</td><td>47.20944</td><td>22.367</td><td>64.087</td><td>0.748</td><td> 2.21</td><td>0.250</td><td>0.176</td></tr>\n",
       "\t<tr><th scope=row>9</th><td>     </td><td>sdsAdultDecML </td><td>79.576</td><td>47.20706</td><td>47.12840</td><td>21.971</td><td>63.809</td><td>0.780</td><td> 1.05</td><td>0.310</td><td>0.076</td></tr>\n",
       "\t<tr><th scope=row>10</th><td>     </td><td>sdsAdultDecMLT</td><td>79.593</td><td>47.14201</td><td>47.20944</td><td>22.367</td><td>64.087</td><td>0.790</td><td> 2.12</td><td>0.330</td><td>0.093</td></tr>\n",
       "\t<tr><th scope=row>11</th><td>     </td><td>sdsAdultDecMT </td><td>79.573</td><td>46.94135</td><td>47.08229</td><td>22.006</td><td>63.547</td><td>0.770</td><td> 2.17</td><td>0.283</td><td>0.073</td></tr>\n",
       "\t<tr><th scope=row>12</th><td>     </td><td>sdsAdultParM  </td><td>78.841</td><td>49.22065</td><td>49.14590</td><td>19.440</td><td>66.204</td><td>0.710</td><td> 9.50</td><td>0.290</td><td>0.659</td></tr>\n",
       "\t<tr><th scope=row>13</th><td>     </td><td>sdsAdultParMH </td><td>78.146</td><td>46.42447</td><td>46.45796</td><td>22.370</td><td>63.186</td><td>0.740</td><td> 4.72</td><td>0.315</td><td>1.354</td></tr>\n",
       "\t<tr><th scope=row>14</th><td>     </td><td>sdsAdultParMHT</td><td>78.317</td><td>46.32897</td><td>46.27217</td><td>22.642</td><td>63.121</td><td>0.730</td><td> 5.62</td><td>0.280</td><td>1.183</td></tr>\n",
       "\t<tr><th scope=row>15</th><td>     </td><td>sdsAdultParML </td><td>78.394</td><td>46.42447</td><td>46.45796</td><td>22.370</td><td>63.186</td><td>0.680</td><td>16.92</td><td>0.260</td><td>1.106</td></tr>\n",
       "\t<tr><th scope=row>16</th><td>     </td><td>sdsAdultParMLT</td><td>78.141</td><td>46.32897</td><td>46.27217</td><td>22.642</td><td>63.121</td><td>0.665</td><td>17.21</td><td>0.225</td><td>1.359</td></tr>\n",
       "\t<tr><th scope=row>17</th><td>     </td><td>sdsAdultParMT </td><td>78.841</td><td>49.33869</td><td>49.09560</td><td>19.586</td><td>65.850</td><td>0.675</td><td>10.17</td><td>0.225</td><td>0.659</td></tr>\n",
       "</tbody>\n",
       "</table>\n"
      ],
      "text/latex": [
       "A data.frame: 17 × 11\n",
       "\\begin{tabular}{r|lllllllllll}\n",
       "  & Dataset & Method & Income.Classifcation & Male.with.Income...50K.and.US.Nationality.m.1000 & Male.with.Income...50K.and.US.Nationality.m.10 & White.above.50K & White.below.50K & CIO.Regression.Fits.Raab..2016..m.10 & Average.KL.Dv.over.all.variables.and.normalized.using.sample & APO.above.90..Raab..2016..m.10 & Deviation.from.Original\\\\\n",
       "  & <chr> & <chr> & <dbl> & <dbl> & <dbl> & <dbl> & <dbl> & <dbl> & <dbl> & <dbl> & <dbl>\\\\\n",
       "\\hline\n",
       "\t1 & Adult & Original       & 79.500 & 46.63000 & 46.63000 & 22.450 & 63.570 &    NA &    NA &    NA &    NA\\\\\n",
       "\t2 &       & sdsAdultCatMC  & 79.729 & 46.63585 & 46.68949 & 22.361 & 63.371 & 0.840 &  1.00 & 0.510 & 0.229\\\\\n",
       "\t3 &       & sdsAdultCatMCT & 79.664 & 46.61136 & 46.56033 & 22.469 & 63.506 & 0.820 &  2.03 & 0.405 & 0.164\\\\\n",
       "\t4 &       & sdsAdultCatMP  & 79.397 & 46.62162 & 46.51278 & 22.370 & 63.563 & 0.838 &  1.06 & 0.512 & 0.103\\\\\n",
       "\t5 &       & sdsAdultCatMPT & 79.191 & 46.59021 & 46.44136 & 22.328 & 63.762 & 0.810 &  2.48 & 0.405 & 0.309\\\\\n",
       "\t6 &       & sdsAdultDecM   & 79.300 & 46.96512 & 46.71321 & 22.284 & 63.669 & 0.770 &  1.04 & 0.270 & 0.200\\\\\n",
       "\t7 &       & sdsAdultDecMH  & 79.874 & 47.20706 & 47.12840 & 21.971 & 63.809 & 0.720 &  1.05 & 0.240 & 0.374\\\\\n",
       "\t8 &       & sdsAdultDecMHT & 79.324 & 47.14201 & 47.20944 & 22.367 & 64.087 & 0.748 &  2.21 & 0.250 & 0.176\\\\\n",
       "\t9 &       & sdsAdultDecML  & 79.576 & 47.20706 & 47.12840 & 21.971 & 63.809 & 0.780 &  1.05 & 0.310 & 0.076\\\\\n",
       "\t10 &       & sdsAdultDecMLT & 79.593 & 47.14201 & 47.20944 & 22.367 & 64.087 & 0.790 &  2.12 & 0.330 & 0.093\\\\\n",
       "\t11 &       & sdsAdultDecMT  & 79.573 & 46.94135 & 47.08229 & 22.006 & 63.547 & 0.770 &  2.17 & 0.283 & 0.073\\\\\n",
       "\t12 &       & sdsAdultParM   & 78.841 & 49.22065 & 49.14590 & 19.440 & 66.204 & 0.710 &  9.50 & 0.290 & 0.659\\\\\n",
       "\t13 &       & sdsAdultParMH  & 78.146 & 46.42447 & 46.45796 & 22.370 & 63.186 & 0.740 &  4.72 & 0.315 & 1.354\\\\\n",
       "\t14 &       & sdsAdultParMHT & 78.317 & 46.32897 & 46.27217 & 22.642 & 63.121 & 0.730 &  5.62 & 0.280 & 1.183\\\\\n",
       "\t15 &       & sdsAdultParML  & 78.394 & 46.42447 & 46.45796 & 22.370 & 63.186 & 0.680 & 16.92 & 0.260 & 1.106\\\\\n",
       "\t16 &       & sdsAdultParMLT & 78.141 & 46.32897 & 46.27217 & 22.642 & 63.121 & 0.665 & 17.21 & 0.225 & 1.359\\\\\n",
       "\t17 &       & sdsAdultParMT  & 78.841 & 49.33869 & 49.09560 & 19.586 & 65.850 & 0.675 & 10.17 & 0.225 & 0.659\\\\\n",
       "\\end{tabular}\n"
      ],
      "text/markdown": [
       "\n",
       "A data.frame: 17 × 11\n",
       "\n",
       "| <!--/--> | Dataset &lt;chr&gt; | Method &lt;chr&gt; | Income.Classifcation &lt;dbl&gt; | Male.with.Income...50K.and.US.Nationality.m.1000 &lt;dbl&gt; | Male.with.Income...50K.and.US.Nationality.m.10 &lt;dbl&gt; | White.above.50K &lt;dbl&gt; | White.below.50K &lt;dbl&gt; | CIO.Regression.Fits.Raab..2016..m.10 &lt;dbl&gt; | Average.KL.Dv.over.all.variables.and.normalized.using.sample &lt;dbl&gt; | APO.above.90..Raab..2016..m.10 &lt;dbl&gt; | Deviation.from.Original &lt;dbl&gt; |\n",
       "|---|---|---|---|---|---|---|---|---|---|---|---|\n",
       "| 1 | Adult | Original       | 79.500 | 46.63000 | 46.63000 | 22.450 | 63.570 |    NA |    NA |    NA |    NA |\n",
       "| 2 | <!----> | sdsAdultCatMC  | 79.729 | 46.63585 | 46.68949 | 22.361 | 63.371 | 0.840 |  1.00 | 0.510 | 0.229 |\n",
       "| 3 | <!----> | sdsAdultCatMCT | 79.664 | 46.61136 | 46.56033 | 22.469 | 63.506 | 0.820 |  2.03 | 0.405 | 0.164 |\n",
       "| 4 | <!----> | sdsAdultCatMP  | 79.397 | 46.62162 | 46.51278 | 22.370 | 63.563 | 0.838 |  1.06 | 0.512 | 0.103 |\n",
       "| 5 | <!----> | sdsAdultCatMPT | 79.191 | 46.59021 | 46.44136 | 22.328 | 63.762 | 0.810 |  2.48 | 0.405 | 0.309 |\n",
       "| 6 | <!----> | sdsAdultDecM   | 79.300 | 46.96512 | 46.71321 | 22.284 | 63.669 | 0.770 |  1.04 | 0.270 | 0.200 |\n",
       "| 7 | <!----> | sdsAdultDecMH  | 79.874 | 47.20706 | 47.12840 | 21.971 | 63.809 | 0.720 |  1.05 | 0.240 | 0.374 |\n",
       "| 8 | <!----> | sdsAdultDecMHT | 79.324 | 47.14201 | 47.20944 | 22.367 | 64.087 | 0.748 |  2.21 | 0.250 | 0.176 |\n",
       "| 9 | <!----> | sdsAdultDecML  | 79.576 | 47.20706 | 47.12840 | 21.971 | 63.809 | 0.780 |  1.05 | 0.310 | 0.076 |\n",
       "| 10 | <!----> | sdsAdultDecMLT | 79.593 | 47.14201 | 47.20944 | 22.367 | 64.087 | 0.790 |  2.12 | 0.330 | 0.093 |\n",
       "| 11 | <!----> | sdsAdultDecMT  | 79.573 | 46.94135 | 47.08229 | 22.006 | 63.547 | 0.770 |  2.17 | 0.283 | 0.073 |\n",
       "| 12 | <!----> | sdsAdultParM   | 78.841 | 49.22065 | 49.14590 | 19.440 | 66.204 | 0.710 |  9.50 | 0.290 | 0.659 |\n",
       "| 13 | <!----> | sdsAdultParMH  | 78.146 | 46.42447 | 46.45796 | 22.370 | 63.186 | 0.740 |  4.72 | 0.315 | 1.354 |\n",
       "| 14 | <!----> | sdsAdultParMHT | 78.317 | 46.32897 | 46.27217 | 22.642 | 63.121 | 0.730 |  5.62 | 0.280 | 1.183 |\n",
       "| 15 | <!----> | sdsAdultParML  | 78.394 | 46.42447 | 46.45796 | 22.370 | 63.186 | 0.680 | 16.92 | 0.260 | 1.106 |\n",
       "| 16 | <!----> | sdsAdultParMLT | 78.141 | 46.32897 | 46.27217 | 22.642 | 63.121 | 0.665 | 17.21 | 0.225 | 1.359 |\n",
       "| 17 | <!----> | sdsAdultParMT  | 78.841 | 49.33869 | 49.09560 | 19.586 | 65.850 | 0.675 | 10.17 | 0.225 | 0.659 |\n",
       "\n"
      ],
      "text/plain": [
       "   Dataset Method         Income.Classifcation\n",
       "1  Adult   Original       79.500              \n",
       "2          sdsAdultCatMC  79.729              \n",
       "3          sdsAdultCatMCT 79.664              \n",
       "4          sdsAdultCatMP  79.397              \n",
       "5          sdsAdultCatMPT 79.191              \n",
       "6          sdsAdultDecM   79.300              \n",
       "7          sdsAdultDecMH  79.874              \n",
       "8          sdsAdultDecMHT 79.324              \n",
       "9          sdsAdultDecML  79.576              \n",
       "10         sdsAdultDecMLT 79.593              \n",
       "11         sdsAdultDecMT  79.573              \n",
       "12         sdsAdultParM   78.841              \n",
       "13         sdsAdultParMH  78.146              \n",
       "14         sdsAdultParMHT 78.317              \n",
       "15         sdsAdultParML  78.394              \n",
       "16         sdsAdultParMLT 78.141              \n",
       "17         sdsAdultParMT  78.841              \n",
       "   Male.with.Income...50K.and.US.Nationality.m.1000\n",
       "1  46.63000                                        \n",
       "2  46.63585                                        \n",
       "3  46.61136                                        \n",
       "4  46.62162                                        \n",
       "5  46.59021                                        \n",
       "6  46.96512                                        \n",
       "7  47.20706                                        \n",
       "8  47.14201                                        \n",
       "9  47.20706                                        \n",
       "10 47.14201                                        \n",
       "11 46.94135                                        \n",
       "12 49.22065                                        \n",
       "13 46.42447                                        \n",
       "14 46.32897                                        \n",
       "15 46.42447                                        \n",
       "16 46.32897                                        \n",
       "17 49.33869                                        \n",
       "   Male.with.Income...50K.and.US.Nationality.m.10 White.above.50K\n",
       "1  46.63000                                       22.450         \n",
       "2  46.68949                                       22.361         \n",
       "3  46.56033                                       22.469         \n",
       "4  46.51278                                       22.370         \n",
       "5  46.44136                                       22.328         \n",
       "6  46.71321                                       22.284         \n",
       "7  47.12840                                       21.971         \n",
       "8  47.20944                                       22.367         \n",
       "9  47.12840                                       21.971         \n",
       "10 47.20944                                       22.367         \n",
       "11 47.08229                                       22.006         \n",
       "12 49.14590                                       19.440         \n",
       "13 46.45796                                       22.370         \n",
       "14 46.27217                                       22.642         \n",
       "15 46.45796                                       22.370         \n",
       "16 46.27217                                       22.642         \n",
       "17 49.09560                                       19.586         \n",
       "   White.below.50K CIO.Regression.Fits.Raab..2016..m.10\n",
       "1  63.570             NA                               \n",
       "2  63.371          0.840                               \n",
       "3  63.506          0.820                               \n",
       "4  63.563          0.838                               \n",
       "5  63.762          0.810                               \n",
       "6  63.669          0.770                               \n",
       "7  63.809          0.720                               \n",
       "8  64.087          0.748                               \n",
       "9  63.809          0.780                               \n",
       "10 64.087          0.790                               \n",
       "11 63.547          0.770                               \n",
       "12 66.204          0.710                               \n",
       "13 63.186          0.740                               \n",
       "14 63.121          0.730                               \n",
       "15 63.186          0.680                               \n",
       "16 63.121          0.665                               \n",
       "17 65.850          0.675                               \n",
       "   Average.KL.Dv.over.all.variables.and.normalized.using.sample\n",
       "1     NA                                                       \n",
       "2   1.00                                                       \n",
       "3   2.03                                                       \n",
       "4   1.06                                                       \n",
       "5   2.48                                                       \n",
       "6   1.04                                                       \n",
       "7   1.05                                                       \n",
       "8   2.21                                                       \n",
       "9   1.05                                                       \n",
       "10  2.12                                                       \n",
       "11  2.17                                                       \n",
       "12  9.50                                                       \n",
       "13  4.72                                                       \n",
       "14  5.62                                                       \n",
       "15 16.92                                                       \n",
       "16 17.21                                                       \n",
       "17 10.17                                                       \n",
       "   APO.above.90..Raab..2016..m.10 Deviation.from.Original\n",
       "1     NA                             NA                  \n",
       "2  0.510                          0.229                  \n",
       "3  0.405                          0.164                  \n",
       "4  0.512                          0.103                  \n",
       "5  0.405                          0.309                  \n",
       "6  0.270                          0.200                  \n",
       "7  0.240                          0.374                  \n",
       "8  0.250                          0.176                  \n",
       "9  0.310                          0.076                  \n",
       "10 0.330                          0.093                  \n",
       "11 0.283                          0.073                  \n",
       "12 0.290                          0.659                  \n",
       "13 0.315                          1.354                  \n",
       "14 0.280                          1.183                  \n",
       "15 0.260                          1.106                  \n",
       "16 0.225                          1.359                  \n",
       "17 0.225                          0.659                  "
      ]
     },
     "metadata": {},
     "output_type": "display_data"
    }
   ],
   "source": [
    "# For testing without Sample synthesizer results\n",
    "adult_result <- adult_result[-c(18),] \n",
    "adult_result"
   ]
  },
  {
   "cell_type": "code",
   "execution_count": 139,
   "id": "3fdf8f1e",
   "metadata": {},
   "outputs": [
    {
     "data": {
      "text/html": [
       "<table class=\"dataframe\">\n",
       "<caption>A data.frame: 17 × 14</caption>\n",
       "<thead>\n",
       "\t<tr><th></th><th scope=col>Dataset</th><th scope=col>Method</th><th scope=col>Income.Classifcation</th><th scope=col>Male.with.Income...50K.and.US.Nationality.m.1000</th><th scope=col>Male.with.Income...50K.and.US.Nationality.m.10</th><th scope=col>White.above.50K</th><th scope=col>White.below.50K</th><th scope=col>CIO.Regression.Fits.Raab..2016..m.10</th><th scope=col>Average.KL.Dv.over.all.variables.and.normalized.using.sample</th><th scope=col>APO.above.90..Raab..2016..m.10</th><th scope=col>Deviation.from.Original</th><th scope=col>Dev_Org_MLT50KUS</th><th scope=col>Dev_Org_White_above_50K</th><th scope=col>Dev_Org_White_below_50K</th></tr>\n",
       "\t<tr><th></th><th scope=col>&lt;chr&gt;</th><th scope=col>&lt;chr&gt;</th><th scope=col>&lt;dbl&gt;</th><th scope=col>&lt;dbl&gt;</th><th scope=col>&lt;dbl&gt;</th><th scope=col>&lt;dbl&gt;</th><th scope=col>&lt;dbl&gt;</th><th scope=col>&lt;dbl&gt;</th><th scope=col>&lt;dbl&gt;</th><th scope=col>&lt;dbl&gt;</th><th scope=col>&lt;dbl&gt;</th><th scope=col>&lt;dbl&gt;</th><th scope=col>&lt;dbl&gt;</th><th scope=col>&lt;dbl&gt;</th></tr>\n",
       "</thead>\n",
       "<tbody>\n",
       "\t<tr><th scope=row>1</th><td>Adult</td><td>Original      </td><td>79.500</td><td>46.63000</td><td>46.63000</td><td>22.450</td><td>63.570</td><td>   NA</td><td>   NA</td><td>   NA</td><td>   NA</td><td>0.00000000</td><td>0.000</td><td>0.000</td></tr>\n",
       "\t<tr><th scope=row>2</th><td>     </td><td>sdsAdultCatMC </td><td>79.729</td><td>46.63585</td><td>46.68949</td><td>22.361</td><td>63.371</td><td>0.840</td><td> 1.00</td><td>0.510</td><td>0.229</td><td>0.05948798</td><td>0.089</td><td>0.199</td></tr>\n",
       "\t<tr><th scope=row>3</th><td>     </td><td>sdsAdultCatMCT</td><td>79.664</td><td>46.61136</td><td>46.56033</td><td>22.469</td><td>63.506</td><td>0.820</td><td> 2.03</td><td>0.405</td><td>0.164</td><td>0.06967494</td><td>0.019</td><td>0.064</td></tr>\n",
       "\t<tr><th scope=row>4</th><td>     </td><td>sdsAdultCatMP </td><td>79.397</td><td>46.62162</td><td>46.51278</td><td>22.370</td><td>63.563</td><td>0.838</td><td> 1.06</td><td>0.512</td><td>0.103</td><td>0.11721695</td><td>0.080</td><td>0.007</td></tr>\n",
       "\t<tr><th scope=row>5</th><td>     </td><td>sdsAdultCatMPT</td><td>79.191</td><td>46.59021</td><td>46.44136</td><td>22.328</td><td>63.762</td><td>0.810</td><td> 2.48</td><td>0.405</td><td>0.309</td><td>0.18863653</td><td>0.122</td><td>0.192</td></tr>\n",
       "\t<tr><th scope=row>6</th><td>     </td><td>sdsAdultDecM  </td><td>79.300</td><td>46.96512</td><td>46.71321</td><td>22.284</td><td>63.669</td><td>0.770</td><td> 1.04</td><td>0.270</td><td>0.200</td><td>0.08320777</td><td>0.166</td><td>0.099</td></tr>\n",
       "\t<tr><th scope=row>7</th><td>     </td><td>sdsAdultDecMH </td><td>79.874</td><td>47.20706</td><td>47.12840</td><td>21.971</td><td>63.809</td><td>0.720</td><td> 1.05</td><td>0.240</td><td>0.374</td><td>0.49840486</td><td>0.479</td><td>0.239</td></tr>\n",
       "\t<tr><th scope=row>8</th><td>     </td><td>sdsAdultDecMHT</td><td>79.324</td><td>47.14201</td><td>47.20944</td><td>22.367</td><td>64.087</td><td>0.748</td><td> 2.21</td><td>0.250</td><td>0.176</td><td>0.57944397</td><td>0.083</td><td>0.517</td></tr>\n",
       "\t<tr><th scope=row>9</th><td>     </td><td>sdsAdultDecML </td><td>79.576</td><td>47.20706</td><td>47.12840</td><td>21.971</td><td>63.809</td><td>0.780</td><td> 1.05</td><td>0.310</td><td>0.076</td><td>0.49840486</td><td>0.479</td><td>0.239</td></tr>\n",
       "\t<tr><th scope=row>10</th><td>     </td><td>sdsAdultDecMLT</td><td>79.593</td><td>47.14201</td><td>47.20944</td><td>22.367</td><td>64.087</td><td>0.790</td><td> 2.12</td><td>0.330</td><td>0.093</td><td>0.57944397</td><td>0.083</td><td>0.517</td></tr>\n",
       "\t<tr><th scope=row>11</th><td>     </td><td>sdsAdultDecMT </td><td>79.573</td><td>46.94135</td><td>47.08229</td><td>22.006</td><td>63.547</td><td>0.770</td><td> 2.17</td><td>0.283</td><td>0.073</td><td>0.45228934</td><td>0.444</td><td>0.023</td></tr>\n",
       "\t<tr><th scope=row>12</th><td>     </td><td>sdsAdultParM  </td><td>78.841</td><td>49.22065</td><td>49.14590</td><td>19.440</td><td>66.204</td><td>0.710</td><td> 9.50</td><td>0.290</td><td>0.659</td><td>2.51589747</td><td>3.010</td><td>2.634</td></tr>\n",
       "\t<tr><th scope=row>13</th><td>     </td><td>sdsAdultParMH </td><td>78.146</td><td>46.42447</td><td>46.45796</td><td>22.370</td><td>63.186</td><td>0.740</td><td> 4.72</td><td>0.315</td><td>1.354</td><td>0.17204037</td><td>0.080</td><td>0.384</td></tr>\n",
       "\t<tr><th scope=row>14</th><td>     </td><td>sdsAdultParMHT</td><td>78.317</td><td>46.32897</td><td>46.27217</td><td>22.642</td><td>63.121</td><td>0.730</td><td> 5.62</td><td>0.280</td><td>1.183</td><td>0.35782659</td><td>0.192</td><td>0.449</td></tr>\n",
       "\t<tr><th scope=row>15</th><td>     </td><td>sdsAdultParML </td><td>78.394</td><td>46.42447</td><td>46.45796</td><td>22.370</td><td>63.186</td><td>0.680</td><td>16.92</td><td>0.260</td><td>1.106</td><td>0.17204037</td><td>0.080</td><td>0.384</td></tr>\n",
       "\t<tr><th scope=row>16</th><td>     </td><td>sdsAdultParMLT</td><td>78.141</td><td>46.32897</td><td>46.27217</td><td>22.642</td><td>63.121</td><td>0.665</td><td>17.21</td><td>0.225</td><td>1.359</td><td>0.35782659</td><td>0.192</td><td>0.449</td></tr>\n",
       "\t<tr><th scope=row>17</th><td>     </td><td>sdsAdultParMT </td><td>78.841</td><td>49.33869</td><td>49.09560</td><td>19.586</td><td>65.850</td><td>0.675</td><td>10.17</td><td>0.225</td><td>0.659</td><td>2.46559844</td><td>2.864</td><td>2.280</td></tr>\n",
       "</tbody>\n",
       "</table>\n"
      ],
      "text/latex": [
       "A data.frame: 17 × 14\n",
       "\\begin{tabular}{r|llllllllllllll}\n",
       "  & Dataset & Method & Income.Classifcation & Male.with.Income...50K.and.US.Nationality.m.1000 & Male.with.Income...50K.and.US.Nationality.m.10 & White.above.50K & White.below.50K & CIO.Regression.Fits.Raab..2016..m.10 & Average.KL.Dv.over.all.variables.and.normalized.using.sample & APO.above.90..Raab..2016..m.10 & Deviation.from.Original & Dev\\_Org\\_MLT50KUS & Dev\\_Org\\_White\\_above\\_50K & Dev\\_Org\\_White\\_below\\_50K\\\\\n",
       "  & <chr> & <chr> & <dbl> & <dbl> & <dbl> & <dbl> & <dbl> & <dbl> & <dbl> & <dbl> & <dbl> & <dbl> & <dbl> & <dbl>\\\\\n",
       "\\hline\n",
       "\t1 & Adult & Original       & 79.500 & 46.63000 & 46.63000 & 22.450 & 63.570 &    NA &    NA &    NA &    NA & 0.00000000 & 0.000 & 0.000\\\\\n",
       "\t2 &       & sdsAdultCatMC  & 79.729 & 46.63585 & 46.68949 & 22.361 & 63.371 & 0.840 &  1.00 & 0.510 & 0.229 & 0.05948798 & 0.089 & 0.199\\\\\n",
       "\t3 &       & sdsAdultCatMCT & 79.664 & 46.61136 & 46.56033 & 22.469 & 63.506 & 0.820 &  2.03 & 0.405 & 0.164 & 0.06967494 & 0.019 & 0.064\\\\\n",
       "\t4 &       & sdsAdultCatMP  & 79.397 & 46.62162 & 46.51278 & 22.370 & 63.563 & 0.838 &  1.06 & 0.512 & 0.103 & 0.11721695 & 0.080 & 0.007\\\\\n",
       "\t5 &       & sdsAdultCatMPT & 79.191 & 46.59021 & 46.44136 & 22.328 & 63.762 & 0.810 &  2.48 & 0.405 & 0.309 & 0.18863653 & 0.122 & 0.192\\\\\n",
       "\t6 &       & sdsAdultDecM   & 79.300 & 46.96512 & 46.71321 & 22.284 & 63.669 & 0.770 &  1.04 & 0.270 & 0.200 & 0.08320777 & 0.166 & 0.099\\\\\n",
       "\t7 &       & sdsAdultDecMH  & 79.874 & 47.20706 & 47.12840 & 21.971 & 63.809 & 0.720 &  1.05 & 0.240 & 0.374 & 0.49840486 & 0.479 & 0.239\\\\\n",
       "\t8 &       & sdsAdultDecMHT & 79.324 & 47.14201 & 47.20944 & 22.367 & 64.087 & 0.748 &  2.21 & 0.250 & 0.176 & 0.57944397 & 0.083 & 0.517\\\\\n",
       "\t9 &       & sdsAdultDecML  & 79.576 & 47.20706 & 47.12840 & 21.971 & 63.809 & 0.780 &  1.05 & 0.310 & 0.076 & 0.49840486 & 0.479 & 0.239\\\\\n",
       "\t10 &       & sdsAdultDecMLT & 79.593 & 47.14201 & 47.20944 & 22.367 & 64.087 & 0.790 &  2.12 & 0.330 & 0.093 & 0.57944397 & 0.083 & 0.517\\\\\n",
       "\t11 &       & sdsAdultDecMT  & 79.573 & 46.94135 & 47.08229 & 22.006 & 63.547 & 0.770 &  2.17 & 0.283 & 0.073 & 0.45228934 & 0.444 & 0.023\\\\\n",
       "\t12 &       & sdsAdultParM   & 78.841 & 49.22065 & 49.14590 & 19.440 & 66.204 & 0.710 &  9.50 & 0.290 & 0.659 & 2.51589747 & 3.010 & 2.634\\\\\n",
       "\t13 &       & sdsAdultParMH  & 78.146 & 46.42447 & 46.45796 & 22.370 & 63.186 & 0.740 &  4.72 & 0.315 & 1.354 & 0.17204037 & 0.080 & 0.384\\\\\n",
       "\t14 &       & sdsAdultParMHT & 78.317 & 46.32897 & 46.27217 & 22.642 & 63.121 & 0.730 &  5.62 & 0.280 & 1.183 & 0.35782659 & 0.192 & 0.449\\\\\n",
       "\t15 &       & sdsAdultParML  & 78.394 & 46.42447 & 46.45796 & 22.370 & 63.186 & 0.680 & 16.92 & 0.260 & 1.106 & 0.17204037 & 0.080 & 0.384\\\\\n",
       "\t16 &       & sdsAdultParMLT & 78.141 & 46.32897 & 46.27217 & 22.642 & 63.121 & 0.665 & 17.21 & 0.225 & 1.359 & 0.35782659 & 0.192 & 0.449\\\\\n",
       "\t17 &       & sdsAdultParMT  & 78.841 & 49.33869 & 49.09560 & 19.586 & 65.850 & 0.675 & 10.17 & 0.225 & 0.659 & 2.46559844 & 2.864 & 2.280\\\\\n",
       "\\end{tabular}\n"
      ],
      "text/markdown": [
       "\n",
       "A data.frame: 17 × 14\n",
       "\n",
       "| <!--/--> | Dataset &lt;chr&gt; | Method &lt;chr&gt; | Income.Classifcation &lt;dbl&gt; | Male.with.Income...50K.and.US.Nationality.m.1000 &lt;dbl&gt; | Male.with.Income...50K.and.US.Nationality.m.10 &lt;dbl&gt; | White.above.50K &lt;dbl&gt; | White.below.50K &lt;dbl&gt; | CIO.Regression.Fits.Raab..2016..m.10 &lt;dbl&gt; | Average.KL.Dv.over.all.variables.and.normalized.using.sample &lt;dbl&gt; | APO.above.90..Raab..2016..m.10 &lt;dbl&gt; | Deviation.from.Original &lt;dbl&gt; | Dev_Org_MLT50KUS &lt;dbl&gt; | Dev_Org_White_above_50K &lt;dbl&gt; | Dev_Org_White_below_50K &lt;dbl&gt; |\n",
       "|---|---|---|---|---|---|---|---|---|---|---|---|---|---|---|\n",
       "| 1 | Adult | Original       | 79.500 | 46.63000 | 46.63000 | 22.450 | 63.570 |    NA |    NA |    NA |    NA | 0.00000000 | 0.000 | 0.000 |\n",
       "| 2 | <!----> | sdsAdultCatMC  | 79.729 | 46.63585 | 46.68949 | 22.361 | 63.371 | 0.840 |  1.00 | 0.510 | 0.229 | 0.05948798 | 0.089 | 0.199 |\n",
       "| 3 | <!----> | sdsAdultCatMCT | 79.664 | 46.61136 | 46.56033 | 22.469 | 63.506 | 0.820 |  2.03 | 0.405 | 0.164 | 0.06967494 | 0.019 | 0.064 |\n",
       "| 4 | <!----> | sdsAdultCatMP  | 79.397 | 46.62162 | 46.51278 | 22.370 | 63.563 | 0.838 |  1.06 | 0.512 | 0.103 | 0.11721695 | 0.080 | 0.007 |\n",
       "| 5 | <!----> | sdsAdultCatMPT | 79.191 | 46.59021 | 46.44136 | 22.328 | 63.762 | 0.810 |  2.48 | 0.405 | 0.309 | 0.18863653 | 0.122 | 0.192 |\n",
       "| 6 | <!----> | sdsAdultDecM   | 79.300 | 46.96512 | 46.71321 | 22.284 | 63.669 | 0.770 |  1.04 | 0.270 | 0.200 | 0.08320777 | 0.166 | 0.099 |\n",
       "| 7 | <!----> | sdsAdultDecMH  | 79.874 | 47.20706 | 47.12840 | 21.971 | 63.809 | 0.720 |  1.05 | 0.240 | 0.374 | 0.49840486 | 0.479 | 0.239 |\n",
       "| 8 | <!----> | sdsAdultDecMHT | 79.324 | 47.14201 | 47.20944 | 22.367 | 64.087 | 0.748 |  2.21 | 0.250 | 0.176 | 0.57944397 | 0.083 | 0.517 |\n",
       "| 9 | <!----> | sdsAdultDecML  | 79.576 | 47.20706 | 47.12840 | 21.971 | 63.809 | 0.780 |  1.05 | 0.310 | 0.076 | 0.49840486 | 0.479 | 0.239 |\n",
       "| 10 | <!----> | sdsAdultDecMLT | 79.593 | 47.14201 | 47.20944 | 22.367 | 64.087 | 0.790 |  2.12 | 0.330 | 0.093 | 0.57944397 | 0.083 | 0.517 |\n",
       "| 11 | <!----> | sdsAdultDecMT  | 79.573 | 46.94135 | 47.08229 | 22.006 | 63.547 | 0.770 |  2.17 | 0.283 | 0.073 | 0.45228934 | 0.444 | 0.023 |\n",
       "| 12 | <!----> | sdsAdultParM   | 78.841 | 49.22065 | 49.14590 | 19.440 | 66.204 | 0.710 |  9.50 | 0.290 | 0.659 | 2.51589747 | 3.010 | 2.634 |\n",
       "| 13 | <!----> | sdsAdultParMH  | 78.146 | 46.42447 | 46.45796 | 22.370 | 63.186 | 0.740 |  4.72 | 0.315 | 1.354 | 0.17204037 | 0.080 | 0.384 |\n",
       "| 14 | <!----> | sdsAdultParMHT | 78.317 | 46.32897 | 46.27217 | 22.642 | 63.121 | 0.730 |  5.62 | 0.280 | 1.183 | 0.35782659 | 0.192 | 0.449 |\n",
       "| 15 | <!----> | sdsAdultParML  | 78.394 | 46.42447 | 46.45796 | 22.370 | 63.186 | 0.680 | 16.92 | 0.260 | 1.106 | 0.17204037 | 0.080 | 0.384 |\n",
       "| 16 | <!----> | sdsAdultParMLT | 78.141 | 46.32897 | 46.27217 | 22.642 | 63.121 | 0.665 | 17.21 | 0.225 | 1.359 | 0.35782659 | 0.192 | 0.449 |\n",
       "| 17 | <!----> | sdsAdultParMT  | 78.841 | 49.33869 | 49.09560 | 19.586 | 65.850 | 0.675 | 10.17 | 0.225 | 0.659 | 2.46559844 | 2.864 | 2.280 |\n",
       "\n"
      ],
      "text/plain": [
       "   Dataset Method         Income.Classifcation\n",
       "1  Adult   Original       79.500              \n",
       "2          sdsAdultCatMC  79.729              \n",
       "3          sdsAdultCatMCT 79.664              \n",
       "4          sdsAdultCatMP  79.397              \n",
       "5          sdsAdultCatMPT 79.191              \n",
       "6          sdsAdultDecM   79.300              \n",
       "7          sdsAdultDecMH  79.874              \n",
       "8          sdsAdultDecMHT 79.324              \n",
       "9          sdsAdultDecML  79.576              \n",
       "10         sdsAdultDecMLT 79.593              \n",
       "11         sdsAdultDecMT  79.573              \n",
       "12         sdsAdultParM   78.841              \n",
       "13         sdsAdultParMH  78.146              \n",
       "14         sdsAdultParMHT 78.317              \n",
       "15         sdsAdultParML  78.394              \n",
       "16         sdsAdultParMLT 78.141              \n",
       "17         sdsAdultParMT  78.841              \n",
       "   Male.with.Income...50K.and.US.Nationality.m.1000\n",
       "1  46.63000                                        \n",
       "2  46.63585                                        \n",
       "3  46.61136                                        \n",
       "4  46.62162                                        \n",
       "5  46.59021                                        \n",
       "6  46.96512                                        \n",
       "7  47.20706                                        \n",
       "8  47.14201                                        \n",
       "9  47.20706                                        \n",
       "10 47.14201                                        \n",
       "11 46.94135                                        \n",
       "12 49.22065                                        \n",
       "13 46.42447                                        \n",
       "14 46.32897                                        \n",
       "15 46.42447                                        \n",
       "16 46.32897                                        \n",
       "17 49.33869                                        \n",
       "   Male.with.Income...50K.and.US.Nationality.m.10 White.above.50K\n",
       "1  46.63000                                       22.450         \n",
       "2  46.68949                                       22.361         \n",
       "3  46.56033                                       22.469         \n",
       "4  46.51278                                       22.370         \n",
       "5  46.44136                                       22.328         \n",
       "6  46.71321                                       22.284         \n",
       "7  47.12840                                       21.971         \n",
       "8  47.20944                                       22.367         \n",
       "9  47.12840                                       21.971         \n",
       "10 47.20944                                       22.367         \n",
       "11 47.08229                                       22.006         \n",
       "12 49.14590                                       19.440         \n",
       "13 46.45796                                       22.370         \n",
       "14 46.27217                                       22.642         \n",
       "15 46.45796                                       22.370         \n",
       "16 46.27217                                       22.642         \n",
       "17 49.09560                                       19.586         \n",
       "   White.below.50K CIO.Regression.Fits.Raab..2016..m.10\n",
       "1  63.570             NA                               \n",
       "2  63.371          0.840                               \n",
       "3  63.506          0.820                               \n",
       "4  63.563          0.838                               \n",
       "5  63.762          0.810                               \n",
       "6  63.669          0.770                               \n",
       "7  63.809          0.720                               \n",
       "8  64.087          0.748                               \n",
       "9  63.809          0.780                               \n",
       "10 64.087          0.790                               \n",
       "11 63.547          0.770                               \n",
       "12 66.204          0.710                               \n",
       "13 63.186          0.740                               \n",
       "14 63.121          0.730                               \n",
       "15 63.186          0.680                               \n",
       "16 63.121          0.665                               \n",
       "17 65.850          0.675                               \n",
       "   Average.KL.Dv.over.all.variables.and.normalized.using.sample\n",
       "1     NA                                                       \n",
       "2   1.00                                                       \n",
       "3   2.03                                                       \n",
       "4   1.06                                                       \n",
       "5   2.48                                                       \n",
       "6   1.04                                                       \n",
       "7   1.05                                                       \n",
       "8   2.21                                                       \n",
       "9   1.05                                                       \n",
       "10  2.12                                                       \n",
       "11  2.17                                                       \n",
       "12  9.50                                                       \n",
       "13  4.72                                                       \n",
       "14  5.62                                                       \n",
       "15 16.92                                                       \n",
       "16 17.21                                                       \n",
       "17 10.17                                                       \n",
       "   APO.above.90..Raab..2016..m.10 Deviation.from.Original Dev_Org_MLT50KUS\n",
       "1     NA                             NA                   0.00000000      \n",
       "2  0.510                          0.229                   0.05948798      \n",
       "3  0.405                          0.164                   0.06967494      \n",
       "4  0.512                          0.103                   0.11721695      \n",
       "5  0.405                          0.309                   0.18863653      \n",
       "6  0.270                          0.200                   0.08320777      \n",
       "7  0.240                          0.374                   0.49840486      \n",
       "8  0.250                          0.176                   0.57944397      \n",
       "9  0.310                          0.076                   0.49840486      \n",
       "10 0.330                          0.093                   0.57944397      \n",
       "11 0.283                          0.073                   0.45228934      \n",
       "12 0.290                          0.659                   2.51589747      \n",
       "13 0.315                          1.354                   0.17204037      \n",
       "14 0.280                          1.183                   0.35782659      \n",
       "15 0.260                          1.106                   0.17204037      \n",
       "16 0.225                          1.359                   0.35782659      \n",
       "17 0.225                          0.659                   2.46559844      \n",
       "   Dev_Org_White_above_50K Dev_Org_White_below_50K\n",
       "1  0.000                   0.000                  \n",
       "2  0.089                   0.199                  \n",
       "3  0.019                   0.064                  \n",
       "4  0.080                   0.007                  \n",
       "5  0.122                   0.192                  \n",
       "6  0.166                   0.099                  \n",
       "7  0.479                   0.239                  \n",
       "8  0.083                   0.517                  \n",
       "9  0.479                   0.239                  \n",
       "10 0.083                   0.517                  \n",
       "11 0.444                   0.023                  \n",
       "12 3.010                   2.634                  \n",
       "13 0.080                   0.384                  \n",
       "14 0.192                   0.449                  \n",
       "15 0.080                   0.384                  \n",
       "16 0.192                   0.449                  \n",
       "17 2.864                   2.280                  "
      ]
     },
     "metadata": {},
     "output_type": "display_data"
    }
   ],
   "source": [
    "# Calculate deviance from oriignal\n",
    "library(tidyverse)\n",
    "\n",
    "adult_result <- adult_result %>% mutate(Dev_Org_MLT50KUS = abs(Male.with.Income...50K.and.US.Nationality.m.10 - Male.with.Income...50K.and.US.Nationality.m.10[Method == \"Original\"]))\n",
    "adult_result <- adult_result %>% mutate(Dev_Org_White_above_50K = abs(White.above.50K - White.above.50K\t[Method == \"Original\"]))\n",
    "adult_result <- adult_result %>% mutate(Dev_Org_White_below_50K = abs(White.below.50K - White.below.50K[Method == \"Original\"]))\n",
    "\n",
    "#adult_result <-within(adult_result, rm(X))\n",
    "adult_result"
   ]
  },
  {
   "cell_type": "code",
   "execution_count": 116,
   "id": "5b4c715d",
   "metadata": {},
   "outputs": [
    {
     "data": {
      "text/plain": [
       "\n",
       "\tPearson's product-moment correlation\n",
       "\n",
       "data:  adult_result$Deviation.from.Original and adult_result$CIO.Regression.Fits.Raab..2016..m.10\n",
       "t = -5.3924, df = 15, p-value = 7.476e-05\n",
       "alternative hypothesis: true correlation is not equal to 0\n",
       "95 percent confidence interval:\n",
       " -0.9298555 -0.5438996\n",
       "sample estimates:\n",
       "       cor \n",
       "-0.8122135 \n"
      ]
     },
     "metadata": {},
     "output_type": "display_data"
    }
   ],
   "source": [
    "# Correlation income & CIO\n",
    "income_cio <- cor.test(adult_result$Deviation.from.Original, adult_result$CIO.Regression.Fits.Raab..2016..m.10, \n",
    "                    method = \"pearson\")\n",
    "income_cio"
   ]
  },
  {
   "cell_type": "code",
   "execution_count": 34,
   "id": "d9ee5f89",
   "metadata": {},
   "outputs": [
    {
     "data": {
      "text/plain": [
       "\n",
       "\tPearson's product-moment correlation\n",
       "\n",
       "data:  adult_result$Deviation.from.Original and adult_result$APO.above.90..Raab..2016..m.10\n",
       "t = -2.5665, df = 15, p-value = 0.02148\n",
       "alternative hypothesis: true correlation is not equal to 0\n",
       "95 percent confidence interval:\n",
       " -0.81630487 -0.09768367\n",
       "sample estimates:\n",
       "      cor \n",
       "-0.552393 \n"
      ]
     },
     "metadata": {},
     "output_type": "display_data"
    }
   ],
   "source": [
    "# Correlation income & APO\n",
    "income_apo <- cor.test(adult_result$Deviation.from.Original, adult_result$APO.above.90..Raab..2016..m.10, \n",
    "                    method = \"pearson\")\n",
    "income_apo"
   ]
  },
  {
   "cell_type": "code",
   "execution_count": 140,
   "id": "7e558358",
   "metadata": {},
   "outputs": [
    {
     "data": {
      "text/plain": [
       "\n",
       "\tPearson's product-moment correlation\n",
       "\n",
       "data:  adult_result$Deviation.from.Original and adult_result$Average.KL.Dv.over.all.variables.and.normalized.using.sample\n",
       "t = 4.3633, df = 14, p-value = 0.0006492\n",
       "alternative hypothesis: true correlation is not equal to 0\n",
       "95 percent confidence interval:\n",
       " 0.4223186 0.9117336\n",
       "sample estimates:\n",
       "     cor \n",
       "0.759108 \n"
      ]
     },
     "metadata": {},
     "output_type": "display_data"
    }
   ],
   "source": [
    "# Correlation income & KL-divegence\n",
    "income_kl <- cor.test(adult_result$Deviation.from.Original, adult_result$Average.KL.Dv.over.all.variables.and.normalized.using.sample, \n",
    "                    method = \"pearson\")\n",
    "income_kl"
   ]
  },
  {
   "cell_type": "code",
   "execution_count": 119,
   "id": "2cad0bb3",
   "metadata": {},
   "outputs": [
    {
     "data": {
      "text/plain": [
       "\n",
       "\tPearson's product-moment correlation\n",
       "\n",
       "data:  adult_result$CIO.Regression.Fits.Raab..2016..m.10 and adult_result$APO.above.90..Raab..2016..m.10\n",
       "t = 6.8467, df = 15, p-value = 5.537e-06\n",
       "alternative hypothesis: true correlation is not equal to 0\n",
       "95 percent confidence interval:\n",
       " 0.6700745 0.9525422\n",
       "sample estimates:\n",
       "      cor \n",
       "0.8703936 \n"
      ]
     },
     "metadata": {},
     "output_type": "display_data"
    }
   ],
   "source": [
    "# Correlation CIO & APO\n",
    "cio_apo <- cor.test(adult_result$CIO.Regression.Fits.Raab..2016..m.10, adult_result$APO.above.90..Raab..2016..m.10, \n",
    "                    method = \"pearson\")\n",
    "cio_apo"
   ]
  },
  {
   "cell_type": "code",
   "execution_count": 141,
   "id": "4bd29a3d",
   "metadata": {},
   "outputs": [
    {
     "data": {
      "text/plain": [
       "\n",
       "\tPearson's product-moment correlation\n",
       "\n",
       "data:  adult_result$CIO.Regression.Fits.Raab..2016..m.10 and adult_result$Average.KL.Dv.over.all.variables.and.normalized.using.sample\n",
       "t = -5.0691, df = 14, p-value = 0.0001712\n",
       "alternative hypothesis: true correlation is not equal to 0\n",
       "95 percent confidence interval:\n",
       " -0.9295422 -0.5137562\n",
       "sample estimates:\n",
       "       cor \n",
       "-0.8045623 \n"
      ]
     },
     "metadata": {},
     "output_type": "display_data"
    }
   ],
   "source": [
    "# Correlation CIO & KL-divergence\n",
    "cio_kl <- cor.test(adult_result$CIO.Regression.Fits.Raab..2016..m.10, adult_result$Average.KL.Dv.over.all.variables.and.normalized.using.sample, \n",
    "                    method = \"pearson\")\n",
    "cio_kl"
   ]
  },
  {
   "cell_type": "code",
   "execution_count": 142,
   "id": "aeafacd5",
   "metadata": {},
   "outputs": [
    {
     "data": {
      "text/plain": [
       "\n",
       "\tPearson's product-moment correlation\n",
       "\n",
       "data:  adult_result$Average.KL.Dv.over.all.variables.and.normalized.using.sample and adult_result$APO.above.90..Raab..2016..m.10\n",
       "t = -2.069, df = 14, p-value = 0.05754\n",
       "alternative hypothesis: true correlation is not equal to 0\n",
       "95 percent confidence interval:\n",
       " -0.79008735  0.01552706\n",
       "sample estimates:\n",
       "       cor \n",
       "-0.4839028 \n"
      ]
     },
     "metadata": {},
     "output_type": "display_data"
    }
   ],
   "source": [
    "# Correlation APO & KL-divergence\n",
    "kl_apo <- cor.test(adult_result$Average.KL.Dv.over.all.variables.and.normalized.using.sample, adult_result$APO.above.90..Raab..2016..m.10, \n",
    "                    method = \"pearson\")\n",
    "kl_apo"
   ]
  },
  {
   "cell_type": "code",
   "execution_count": 122,
   "id": "023e9f30",
   "metadata": {},
   "outputs": [
    {
     "data": {
      "text/plain": [
       "\n",
       "\tPearson's product-moment correlation\n",
       "\n",
       "data:  adult_result$CIO.Regression.Fits.Raab..2016..m.10 and adult_result$Dev_Org_MLT50KUS\n",
       "t = -5.1794, df = 15, p-value = 0.0001121\n",
       "alternative hypothesis: true correlation is not equal to 0\n",
       "95 percent confidence interval:\n",
       " -0.9253200 -0.5206074\n",
       "sample estimates:\n",
       "       cor \n",
       "-0.8008562 \n"
      ]
     },
     "metadata": {},
     "output_type": "display_data"
    }
   ],
   "source": [
    "# Correlation CIO & Male <50K US\n",
    "cio_dev_MLT50KUS <- cor.test(adult_result$CIO.Regression.Fits.Raab..2016..m.10, adult_result$Dev_Org_MLT50KUS, \n",
    "                    method = \"pearson\")\n",
    "cio_dev_MLT50KUS"
   ]
  },
  {
   "cell_type": "code",
   "execution_count": 123,
   "id": "2cf1075a",
   "metadata": {},
   "outputs": [
    {
     "data": {
      "text/plain": [
       "\n",
       "\tPearson's product-moment correlation\n",
       "\n",
       "data:  adult_result$APO.above.90..Raab..2016..m.10 and adult_result$Dev_Org_MLT50KUS\n",
       "t = -3.031, df = 15, p-value = 0.008424\n",
       "alternative hypothesis: true correlation is not equal to 0\n",
       "95 percent confidence interval:\n",
       " -0.8462655 -0.1927597\n",
       "sample estimates:\n",
       "       cor \n",
       "-0.6163045 \n"
      ]
     },
     "metadata": {},
     "output_type": "display_data"
    }
   ],
   "source": [
    "# Correlation APO & Male <50K US\n",
    "apo_dev_MLT50KUS <- cor.test(adult_result$APO.above.90..Raab..2016..m.10, adult_result$Dev_Org_MLT50KUS, \n",
    "                    method = \"pearson\")\n",
    "apo_dev_MLT50KUS"
   ]
  },
  {
   "cell_type": "code",
   "execution_count": 143,
   "id": "54197510",
   "metadata": {},
   "outputs": [
    {
     "data": {
      "text/plain": [
       "\n",
       "\tPearson's product-moment correlation\n",
       "\n",
       "data:  adult_result$Average.KL.Dv.over.all.variables.and.normalized.using.sample and adult_result$Dev_Org_MLT50KUS\n",
       "t = 1.2531, df = 14, p-value = 0.2307\n",
       "alternative hypothesis: true correlation is not equal to 0\n",
       "95 percent confidence interval:\n",
       " -0.2114200  0.7026599\n",
       "sample estimates:\n",
       "     cor \n",
       "0.317567 \n"
      ]
     },
     "metadata": {},
     "output_type": "display_data"
    }
   ],
   "source": [
    "# Correlation KL-divergence & Male <50K US\n",
    "kl_dev_MLT50KUS <- cor.test(adult_result$Average.KL.Dv.over.all.variables.and.normalized.using.sample, adult_result$Dev_Org_MLT50KUS, \n",
    "                    method = \"pearson\")\n",
    "kl_dev_MLT50KUS"
   ]
  },
  {
   "cell_type": "code",
   "execution_count": 125,
   "id": "634c36b0",
   "metadata": {},
   "outputs": [
    {
     "data": {
      "text/plain": [
       "\n",
       "\tPearson's product-moment correlation\n",
       "\n",
       "data:  adult_result$CIO.Regression.Fits.Raab..2016..m.10 and adult_result$Dev_Org_White_above_50K\n",
       "t = -1.8469, df = 15, p-value = 0.08458\n",
       "alternative hypothesis: true correlation is not equal to 0\n",
       "95 percent confidence interval:\n",
       " -0.75490131  0.06330656\n",
       "sample estimates:\n",
       "       cor \n",
       "-0.4304355 \n"
      ]
     },
     "metadata": {},
     "output_type": "display_data"
    }
   ],
   "source": [
    "# Correlation CIO & White >50K\n",
    "cio_dev_white_above_50 <- cor.test(adult_result$CIO.Regression.Fits.Raab..2016..m.10, adult_result$Dev_Org_White_above_50K, \n",
    "                    method = \"pearson\")\n",
    "cio_dev_white_above_50"
   ]
  },
  {
   "cell_type": "code",
   "execution_count": 126,
   "id": "227b5e39",
   "metadata": {},
   "outputs": [
    {
     "data": {
      "text/plain": [
       "\n",
       "\tPearson's product-moment correlation\n",
       "\n",
       "data:  adult_result$APO.above.90..Raab..2016..m.10 and adult_result$Dev_Org_White_above_50K\n",
       "t = -1.5289, df = 15, p-value = 0.1471\n",
       "alternative hypothesis: true correlation is not equal to 0\n",
       "95 percent confidence interval:\n",
       " -0.7206499  0.1377675\n",
       "sample estimates:\n",
       "       cor \n",
       "-0.3671917 \n"
      ]
     },
     "metadata": {},
     "output_type": "display_data"
    }
   ],
   "source": [
    "# Correlation APO & White >50K\n",
    "apo_dev_white_above_50 <- cor.test(adult_result$APO.above.90..Raab..2016..m.10, adult_result$Dev_Org_White_above_50K, \n",
    "                    method = \"pearson\")\n",
    "apo_dev_white_above_50"
   ]
  },
  {
   "cell_type": "code",
   "execution_count": 144,
   "id": "0b826d25",
   "metadata": {},
   "outputs": [
    {
     "data": {
      "text/plain": [
       "\n",
       "\tPearson's product-moment correlation\n",
       "\n",
       "data:  adult_result$Average.KL.Dv.over.all.variables.and.normalized.using.sample and adult_result$Dev_Org_White_above_50K\n",
       "t = 1.2165, df = 14, p-value = 0.2439\n",
       "alternative hypothesis: true correlation is not equal to 0\n",
       "95 percent confidence interval:\n",
       " -0.2202637  0.6979331\n",
       "sample estimates:\n",
       "      cor \n",
       "0.3092022 \n"
      ]
     },
     "metadata": {},
     "output_type": "display_data"
    }
   ],
   "source": [
    "# Correlation KL-divergence & White >50K\n",
    "kl_dev_white_above_50 <- cor.test(adult_result$Average.KL.Dv.over.all.variables.and.normalized.using.sample, adult_result$Dev_Org_White_above_50K, \n",
    "                    method = \"pearson\")\n",
    "kl_dev_white_above_50"
   ]
  },
  {
   "cell_type": "code",
   "execution_count": 128,
   "id": "9430b82a",
   "metadata": {},
   "outputs": [
    {
     "data": {
      "text/plain": [
       "\n",
       "\tPearson's product-moment correlation\n",
       "\n",
       "data:  adult_result$CIO.Regression.Fits.Raab..2016..m.10 and adult_result$Dev_Org_White_below_50K\n",
       "t = -2.4937, df = 15, p-value = 0.02481\n",
       "alternative hypothesis: true correlation is not equal to 0\n",
       "95 percent confidence interval:\n",
       " -0.81098773 -0.08207799\n",
       "sample estimates:\n",
       "       cor \n",
       "-0.5413657 \n"
      ]
     },
     "metadata": {},
     "output_type": "display_data"
    }
   ],
   "source": [
    "# Correlation CIO & White <50K\n",
    "cio_dev_white_below_50 <- cor.test(adult_result$CIO.Regression.Fits.Raab..2016..m.10, adult_result$Dev_Org_White_below_50K, \n",
    "                    method = \"pearson\")\n",
    "cio_dev_white_below_50"
   ]
  },
  {
   "cell_type": "code",
   "execution_count": 129,
   "id": "c6a3bd24",
   "metadata": {},
   "outputs": [
    {
     "data": {
      "text/plain": [
       "\n",
       "\tPearson's product-moment correlation\n",
       "\n",
       "data:  adult_result$APO.above.90..Raab..2016..m.10 and adult_result$Dev_Org_White_below_50K\n",
       "t = -1.8945, df = 15, p-value = 0.0776\n",
       "alternative hypothesis: true correlation is not equal to 0\n",
       "95 percent confidence interval:\n",
       " -0.75962083  0.05227907\n",
       "sample estimates:\n",
       "      cor \n",
       "-0.439407 \n"
      ]
     },
     "metadata": {},
     "output_type": "display_data"
    }
   ],
   "source": [
    "# Correlation APO & White <50K\n",
    "apo_dev_white_below_50 <- cor.test(adult_result$APO.above.90..Raab..2016..m.10, adult_result$Dev_Org_White_below_50K, \n",
    "                    method = \"pearson\")\n",
    "apo_dev_white_below_50"
   ]
  },
  {
   "cell_type": "code",
   "execution_count": 145,
   "id": "f9ed0422",
   "metadata": {
    "scrolled": true
   },
   "outputs": [
    {
     "data": {
      "text/plain": [
       "\n",
       "\tPearson's product-moment correlation\n",
       "\n",
       "data:  adult_result$Average.KL.Dv.over.all.variables.and.normalized.using.sample and adult_result$Dev_Org_White_below_50K\n",
       "t = 1.7465, df = 14, p-value = 0.1026\n",
       "alternative hypothesis: true correlation is not equal to 0\n",
       "95 percent confidence interval:\n",
       " -0.09204155  0.75943956\n",
       "sample estimates:\n",
       "      cor \n",
       "0.4229616 \n"
      ]
     },
     "metadata": {},
     "output_type": "display_data"
    }
   ],
   "source": [
    "# Correlation KL-divergence & White <50K\n",
    "kl_dev_white_below_50 <- cor.test(adult_result$Average.KL.Dv.over.all.variables.and.normalized.using.sample, adult_result$Dev_Org_White_below_50K, \n",
    "                    method = \"pearson\")\n",
    "kl_dev_white_below_50"
   ]
  },
  {
   "cell_type": "code",
   "execution_count": 146,
   "id": "7df3cc04",
   "metadata": {},
   "outputs": [],
   "source": [
    "# Read units results\n",
    "adult_units_result <- read.csv('../data/results_csv_files/adult_income_units_counts.csv')"
   ]
  },
  {
   "cell_type": "code",
   "execution_count": 147,
   "id": "21ec4627",
   "metadata": {},
   "outputs": [
    {
     "data": {
      "text/html": [
       "<table class=\"dataframe\">\n",
       "<caption>A data.frame: 17 × 8</caption>\n",
       "<thead>\n",
       "\t<tr><th></th><th scope=col>Dataset</th><th scope=col>Method</th><th scope=col>Income.lte.50K.m.10</th><th scope=col>Income.gt.50K.m.10</th><th scope=col>Income.lte.50K.m.1000</th><th scope=col>Income.gt.50K.m.1000</th><th scope=col>CIO.Regression.Fits.Raab..2016..m.10</th><th scope=col>Deviation.From.Original.Income...50K</th></tr>\n",
       "\t<tr><th></th><th scope=col>&lt;chr&gt;</th><th scope=col>&lt;chr&gt;</th><th scope=col>&lt;int&gt;</th><th scope=col>&lt;int&gt;</th><th scope=col>&lt;int&gt;</th><th scope=col>&lt;int&gt;</th><th scope=col>&lt;dbl&gt;</th><th scope=col>&lt;dbl&gt;</th></tr>\n",
       "</thead>\n",
       "<tbody>\n",
       "\t<tr><th scope=row>1</th><td>Adult</td><td>Original      </td><td>7550</td><td>2450</td><td>7550</td><td>2450</td><td>   NA</td><td>   NA</td></tr>\n",
       "\t<tr><th scope=row>2</th><td>     </td><td>sdsAdultCatMC </td><td>7567</td><td>2433</td><td>7547</td><td>2453</td><td>0.840</td><td> 16.9</td></tr>\n",
       "\t<tr><th scope=row>3</th><td>     </td><td>sdsAdultCatMCT</td><td>7542</td><td>2459</td><td>7547</td><td>2453</td><td>0.820</td><td>  8.5</td></tr>\n",
       "\t<tr><th scope=row>4</th><td>     </td><td>sdsAdultCatMP </td><td>7548</td><td>2452</td><td>7550</td><td>2450</td><td>0.838</td><td>  2.2</td></tr>\n",
       "\t<tr><th scope=row>5</th><td>     </td><td>sdsAdultCatMPT</td><td>7545</td><td>2455</td><td>7549</td><td>2451</td><td>0.810</td><td>  4.9</td></tr>\n",
       "\t<tr><th scope=row>6</th><td>     </td><td>sdsAdultDecM  </td><td>7552</td><td>2448</td><td>7537</td><td>2463</td><td>0.770</td><td>  1.7</td></tr>\n",
       "\t<tr><th scope=row>7</th><td>     </td><td>sdsAdultDecMH </td><td>7565</td><td>2435</td><td>7554</td><td>2446</td><td>0.720</td><td> 15.4</td></tr>\n",
       "\t<tr><th scope=row>8</th><td>     </td><td>sdsAdultDecMHT</td><td>7587</td><td>2413</td><td>7575</td><td>2425</td><td>0.748</td><td> 36.9</td></tr>\n",
       "\t<tr><th scope=row>9</th><td>     </td><td>sdsAdultDecML </td><td>7565</td><td>2435</td><td>7554</td><td>2446</td><td>0.780</td><td> 15.4</td></tr>\n",
       "\t<tr><th scope=row>10</th><td>     </td><td>sdsAdultDecMLT</td><td>7587</td><td>2413</td><td>7575</td><td>2425</td><td>0.790</td><td> 36.9</td></tr>\n",
       "\t<tr><th scope=row>11</th><td>     </td><td>sdsAdultDecMT </td><td>7585</td><td>2415</td><td>7532</td><td>2468</td><td>0.770</td><td> 34.7</td></tr>\n",
       "\t<tr><th scope=row>12</th><td>     </td><td>sdsAdultParM  </td><td>7870</td><td>2130</td><td>7876</td><td>2124</td><td>0.710</td><td>320.4</td></tr>\n",
       "\t<tr><th scope=row>13</th><td>     </td><td>sdsAdultParMH </td><td>7524</td><td>2476</td><td>7545</td><td>2455</td><td>0.740</td><td> 25.8</td></tr>\n",
       "\t<tr><th scope=row>14</th><td>     </td><td>sdsAdultParMHT</td><td>7523</td><td>2477</td><td>7524</td><td>2476</td><td>0.730</td><td> 26.9</td></tr>\n",
       "\t<tr><th scope=row>15</th><td>     </td><td>sdsAdultParML </td><td>7524</td><td>2476</td><td>7545</td><td>2455</td><td>0.680</td><td> 25.8</td></tr>\n",
       "\t<tr><th scope=row>16</th><td>     </td><td>sdsAdultParMLT</td><td>7523</td><td>2477</td><td>7524</td><td>2476</td><td>0.665</td><td> 26.9</td></tr>\n",
       "\t<tr><th scope=row>17</th><td>     </td><td>sdsAdultParMT </td><td>7852</td><td>2148</td><td>7861</td><td>2139</td><td>0.675</td><td>302.2</td></tr>\n",
       "</tbody>\n",
       "</table>\n"
      ],
      "text/latex": [
       "A data.frame: 17 × 8\n",
       "\\begin{tabular}{r|llllllll}\n",
       "  & Dataset & Method & Income.lte.50K.m.10 & Income.gt.50K.m.10 & Income.lte.50K.m.1000 & Income.gt.50K.m.1000 & CIO.Regression.Fits.Raab..2016..m.10 & Deviation.From.Original.Income...50K\\\\\n",
       "  & <chr> & <chr> & <int> & <int> & <int> & <int> & <dbl> & <dbl>\\\\\n",
       "\\hline\n",
       "\t1 & Adult & Original       & 7550 & 2450 & 7550 & 2450 &    NA &    NA\\\\\n",
       "\t2 &       & sdsAdultCatMC  & 7567 & 2433 & 7547 & 2453 & 0.840 &  16.9\\\\\n",
       "\t3 &       & sdsAdultCatMCT & 7542 & 2459 & 7547 & 2453 & 0.820 &   8.5\\\\\n",
       "\t4 &       & sdsAdultCatMP  & 7548 & 2452 & 7550 & 2450 & 0.838 &   2.2\\\\\n",
       "\t5 &       & sdsAdultCatMPT & 7545 & 2455 & 7549 & 2451 & 0.810 &   4.9\\\\\n",
       "\t6 &       & sdsAdultDecM   & 7552 & 2448 & 7537 & 2463 & 0.770 &   1.7\\\\\n",
       "\t7 &       & sdsAdultDecMH  & 7565 & 2435 & 7554 & 2446 & 0.720 &  15.4\\\\\n",
       "\t8 &       & sdsAdultDecMHT & 7587 & 2413 & 7575 & 2425 & 0.748 &  36.9\\\\\n",
       "\t9 &       & sdsAdultDecML  & 7565 & 2435 & 7554 & 2446 & 0.780 &  15.4\\\\\n",
       "\t10 &       & sdsAdultDecMLT & 7587 & 2413 & 7575 & 2425 & 0.790 &  36.9\\\\\n",
       "\t11 &       & sdsAdultDecMT  & 7585 & 2415 & 7532 & 2468 & 0.770 &  34.7\\\\\n",
       "\t12 &       & sdsAdultParM   & 7870 & 2130 & 7876 & 2124 & 0.710 & 320.4\\\\\n",
       "\t13 &       & sdsAdultParMH  & 7524 & 2476 & 7545 & 2455 & 0.740 &  25.8\\\\\n",
       "\t14 &       & sdsAdultParMHT & 7523 & 2477 & 7524 & 2476 & 0.730 &  26.9\\\\\n",
       "\t15 &       & sdsAdultParML  & 7524 & 2476 & 7545 & 2455 & 0.680 &  25.8\\\\\n",
       "\t16 &       & sdsAdultParMLT & 7523 & 2477 & 7524 & 2476 & 0.665 &  26.9\\\\\n",
       "\t17 &       & sdsAdultParMT  & 7852 & 2148 & 7861 & 2139 & 0.675 & 302.2\\\\\n",
       "\\end{tabular}\n"
      ],
      "text/markdown": [
       "\n",
       "A data.frame: 17 × 8\n",
       "\n",
       "| <!--/--> | Dataset &lt;chr&gt; | Method &lt;chr&gt; | Income.lte.50K.m.10 &lt;int&gt; | Income.gt.50K.m.10 &lt;int&gt; | Income.lte.50K.m.1000 &lt;int&gt; | Income.gt.50K.m.1000 &lt;int&gt; | CIO.Regression.Fits.Raab..2016..m.10 &lt;dbl&gt; | Deviation.From.Original.Income...50K &lt;dbl&gt; |\n",
       "|---|---|---|---|---|---|---|---|---|\n",
       "| 1 | Adult | Original       | 7550 | 2450 | 7550 | 2450 |    NA |    NA |\n",
       "| 2 | <!----> | sdsAdultCatMC  | 7567 | 2433 | 7547 | 2453 | 0.840 |  16.9 |\n",
       "| 3 | <!----> | sdsAdultCatMCT | 7542 | 2459 | 7547 | 2453 | 0.820 |   8.5 |\n",
       "| 4 | <!----> | sdsAdultCatMP  | 7548 | 2452 | 7550 | 2450 | 0.838 |   2.2 |\n",
       "| 5 | <!----> | sdsAdultCatMPT | 7545 | 2455 | 7549 | 2451 | 0.810 |   4.9 |\n",
       "| 6 | <!----> | sdsAdultDecM   | 7552 | 2448 | 7537 | 2463 | 0.770 |   1.7 |\n",
       "| 7 | <!----> | sdsAdultDecMH  | 7565 | 2435 | 7554 | 2446 | 0.720 |  15.4 |\n",
       "| 8 | <!----> | sdsAdultDecMHT | 7587 | 2413 | 7575 | 2425 | 0.748 |  36.9 |\n",
       "| 9 | <!----> | sdsAdultDecML  | 7565 | 2435 | 7554 | 2446 | 0.780 |  15.4 |\n",
       "| 10 | <!----> | sdsAdultDecMLT | 7587 | 2413 | 7575 | 2425 | 0.790 |  36.9 |\n",
       "| 11 | <!----> | sdsAdultDecMT  | 7585 | 2415 | 7532 | 2468 | 0.770 |  34.7 |\n",
       "| 12 | <!----> | sdsAdultParM   | 7870 | 2130 | 7876 | 2124 | 0.710 | 320.4 |\n",
       "| 13 | <!----> | sdsAdultParMH  | 7524 | 2476 | 7545 | 2455 | 0.740 |  25.8 |\n",
       "| 14 | <!----> | sdsAdultParMHT | 7523 | 2477 | 7524 | 2476 | 0.730 |  26.9 |\n",
       "| 15 | <!----> | sdsAdultParML  | 7524 | 2476 | 7545 | 2455 | 0.680 |  25.8 |\n",
       "| 16 | <!----> | sdsAdultParMLT | 7523 | 2477 | 7524 | 2476 | 0.665 |  26.9 |\n",
       "| 17 | <!----> | sdsAdultParMT  | 7852 | 2148 | 7861 | 2139 | 0.675 | 302.2 |\n",
       "\n"
      ],
      "text/plain": [
       "   Dataset Method         Income.lte.50K.m.10 Income.gt.50K.m.10\n",
       "1  Adult   Original       7550                2450              \n",
       "2          sdsAdultCatMC  7567                2433              \n",
       "3          sdsAdultCatMCT 7542                2459              \n",
       "4          sdsAdultCatMP  7548                2452              \n",
       "5          sdsAdultCatMPT 7545                2455              \n",
       "6          sdsAdultDecM   7552                2448              \n",
       "7          sdsAdultDecMH  7565                2435              \n",
       "8          sdsAdultDecMHT 7587                2413              \n",
       "9          sdsAdultDecML  7565                2435              \n",
       "10         sdsAdultDecMLT 7587                2413              \n",
       "11         sdsAdultDecMT  7585                2415              \n",
       "12         sdsAdultParM   7870                2130              \n",
       "13         sdsAdultParMH  7524                2476              \n",
       "14         sdsAdultParMHT 7523                2477              \n",
       "15         sdsAdultParML  7524                2476              \n",
       "16         sdsAdultParMLT 7523                2477              \n",
       "17         sdsAdultParMT  7852                2148              \n",
       "   Income.lte.50K.m.1000 Income.gt.50K.m.1000\n",
       "1  7550                  2450                \n",
       "2  7547                  2453                \n",
       "3  7547                  2453                \n",
       "4  7550                  2450                \n",
       "5  7549                  2451                \n",
       "6  7537                  2463                \n",
       "7  7554                  2446                \n",
       "8  7575                  2425                \n",
       "9  7554                  2446                \n",
       "10 7575                  2425                \n",
       "11 7532                  2468                \n",
       "12 7876                  2124                \n",
       "13 7545                  2455                \n",
       "14 7524                  2476                \n",
       "15 7545                  2455                \n",
       "16 7524                  2476                \n",
       "17 7861                  2139                \n",
       "   CIO.Regression.Fits.Raab..2016..m.10 Deviation.From.Original.Income...50K\n",
       "1     NA                                   NA                               \n",
       "2  0.840                                 16.9                               \n",
       "3  0.820                                  8.5                               \n",
       "4  0.838                                  2.2                               \n",
       "5  0.810                                  4.9                               \n",
       "6  0.770                                  1.7                               \n",
       "7  0.720                                 15.4                               \n",
       "8  0.748                                 36.9                               \n",
       "9  0.780                                 15.4                               \n",
       "10 0.790                                 36.9                               \n",
       "11 0.770                                 34.7                               \n",
       "12 0.710                                320.4                               \n",
       "13 0.740                                 25.8                               \n",
       "14 0.730                                 26.9                               \n",
       "15 0.680                                 25.8                               \n",
       "16 0.665                                 26.9                               \n",
       "17 0.675                                302.2                               "
      ]
     },
     "metadata": {},
     "output_type": "display_data"
    }
   ],
   "source": [
    "# For testing without Sample synthesizer results\n",
    "adult_units_result <- adult_units_result[-c(18),] \n",
    "adult_units_result"
   ]
  },
  {
   "cell_type": "code",
   "execution_count": 148,
   "id": "4e6d58e9",
   "metadata": {},
   "outputs": [
    {
     "data": {
      "text/html": [
       "<table class=\"dataframe\">\n",
       "<caption>A data.frame: 17 × 11</caption>\n",
       "<thead>\n",
       "\t<tr><th></th><th scope=col>Dataset</th><th scope=col>Method</th><th scope=col>Income.lte.50K.m.10</th><th scope=col>Income.gt.50K.m.10</th><th scope=col>Income.lte.50K.m.1000</th><th scope=col>Income.gt.50K.m.1000</th><th scope=col>CIO.Regression.Fits.Raab..2016..m.10</th><th scope=col>Deviation.From.Original.Income...50K</th><th scope=col>Dev_Org_lte50K</th><th scope=col>Dev_Org_lte50K_1000</th><th scope=col>Dev_Org_gt50K</th></tr>\n",
       "\t<tr><th></th><th scope=col>&lt;chr&gt;</th><th scope=col>&lt;chr&gt;</th><th scope=col>&lt;int&gt;</th><th scope=col>&lt;int&gt;</th><th scope=col>&lt;int&gt;</th><th scope=col>&lt;int&gt;</th><th scope=col>&lt;dbl&gt;</th><th scope=col>&lt;dbl&gt;</th><th scope=col>&lt;int&gt;</th><th scope=col>&lt;int&gt;</th><th scope=col>&lt;int&gt;</th></tr>\n",
       "</thead>\n",
       "<tbody>\n",
       "\t<tr><th scope=row>1</th><td>Adult</td><td>Original      </td><td>7550</td><td>2450</td><td>7550</td><td>2450</td><td>   NA</td><td>   NA</td><td>  0</td><td>  0</td><td>  0</td></tr>\n",
       "\t<tr><th scope=row>2</th><td>     </td><td>sdsAdultCatMC </td><td>7567</td><td>2433</td><td>7547</td><td>2453</td><td>0.840</td><td> 16.9</td><td> 17</td><td>  3</td><td> 17</td></tr>\n",
       "\t<tr><th scope=row>3</th><td>     </td><td>sdsAdultCatMCT</td><td>7542</td><td>2459</td><td>7547</td><td>2453</td><td>0.820</td><td>  8.5</td><td>  8</td><td>  3</td><td>  9</td></tr>\n",
       "\t<tr><th scope=row>4</th><td>     </td><td>sdsAdultCatMP </td><td>7548</td><td>2452</td><td>7550</td><td>2450</td><td>0.838</td><td>  2.2</td><td>  2</td><td>  0</td><td>  2</td></tr>\n",
       "\t<tr><th scope=row>5</th><td>     </td><td>sdsAdultCatMPT</td><td>7545</td><td>2455</td><td>7549</td><td>2451</td><td>0.810</td><td>  4.9</td><td>  5</td><td>  1</td><td>  5</td></tr>\n",
       "\t<tr><th scope=row>6</th><td>     </td><td>sdsAdultDecM  </td><td>7552</td><td>2448</td><td>7537</td><td>2463</td><td>0.770</td><td>  1.7</td><td>  2</td><td> 13</td><td>  2</td></tr>\n",
       "\t<tr><th scope=row>7</th><td>     </td><td>sdsAdultDecMH </td><td>7565</td><td>2435</td><td>7554</td><td>2446</td><td>0.720</td><td> 15.4</td><td> 15</td><td>  4</td><td> 15</td></tr>\n",
       "\t<tr><th scope=row>8</th><td>     </td><td>sdsAdultDecMHT</td><td>7587</td><td>2413</td><td>7575</td><td>2425</td><td>0.748</td><td> 36.9</td><td> 37</td><td> 25</td><td> 37</td></tr>\n",
       "\t<tr><th scope=row>9</th><td>     </td><td>sdsAdultDecML </td><td>7565</td><td>2435</td><td>7554</td><td>2446</td><td>0.780</td><td> 15.4</td><td> 15</td><td>  4</td><td> 15</td></tr>\n",
       "\t<tr><th scope=row>10</th><td>     </td><td>sdsAdultDecMLT</td><td>7587</td><td>2413</td><td>7575</td><td>2425</td><td>0.790</td><td> 36.9</td><td> 37</td><td> 25</td><td> 37</td></tr>\n",
       "\t<tr><th scope=row>11</th><td>     </td><td>sdsAdultDecMT </td><td>7585</td><td>2415</td><td>7532</td><td>2468</td><td>0.770</td><td> 34.7</td><td> 35</td><td> 18</td><td> 35</td></tr>\n",
       "\t<tr><th scope=row>12</th><td>     </td><td>sdsAdultParM  </td><td>7870</td><td>2130</td><td>7876</td><td>2124</td><td>0.710</td><td>320.4</td><td>320</td><td>326</td><td>320</td></tr>\n",
       "\t<tr><th scope=row>13</th><td>     </td><td>sdsAdultParMH </td><td>7524</td><td>2476</td><td>7545</td><td>2455</td><td>0.740</td><td> 25.8</td><td> 26</td><td>  5</td><td> 26</td></tr>\n",
       "\t<tr><th scope=row>14</th><td>     </td><td>sdsAdultParMHT</td><td>7523</td><td>2477</td><td>7524</td><td>2476</td><td>0.730</td><td> 26.9</td><td> 27</td><td> 26</td><td> 27</td></tr>\n",
       "\t<tr><th scope=row>15</th><td>     </td><td>sdsAdultParML </td><td>7524</td><td>2476</td><td>7545</td><td>2455</td><td>0.680</td><td> 25.8</td><td> 26</td><td>  5</td><td> 26</td></tr>\n",
       "\t<tr><th scope=row>16</th><td>     </td><td>sdsAdultParMLT</td><td>7523</td><td>2477</td><td>7524</td><td>2476</td><td>0.665</td><td> 26.9</td><td> 27</td><td> 26</td><td> 27</td></tr>\n",
       "\t<tr><th scope=row>17</th><td>     </td><td>sdsAdultParMT </td><td>7852</td><td>2148</td><td>7861</td><td>2139</td><td>0.675</td><td>302.2</td><td>302</td><td>311</td><td>302</td></tr>\n",
       "</tbody>\n",
       "</table>\n"
      ],
      "text/latex": [
       "A data.frame: 17 × 11\n",
       "\\begin{tabular}{r|lllllllllll}\n",
       "  & Dataset & Method & Income.lte.50K.m.10 & Income.gt.50K.m.10 & Income.lte.50K.m.1000 & Income.gt.50K.m.1000 & CIO.Regression.Fits.Raab..2016..m.10 & Deviation.From.Original.Income...50K & Dev\\_Org\\_lte50K & Dev\\_Org\\_lte50K\\_1000 & Dev\\_Org\\_gt50K\\\\\n",
       "  & <chr> & <chr> & <int> & <int> & <int> & <int> & <dbl> & <dbl> & <int> & <int> & <int>\\\\\n",
       "\\hline\n",
       "\t1 & Adult & Original       & 7550 & 2450 & 7550 & 2450 &    NA &    NA &   0 &   0 &   0\\\\\n",
       "\t2 &       & sdsAdultCatMC  & 7567 & 2433 & 7547 & 2453 & 0.840 &  16.9 &  17 &   3 &  17\\\\\n",
       "\t3 &       & sdsAdultCatMCT & 7542 & 2459 & 7547 & 2453 & 0.820 &   8.5 &   8 &   3 &   9\\\\\n",
       "\t4 &       & sdsAdultCatMP  & 7548 & 2452 & 7550 & 2450 & 0.838 &   2.2 &   2 &   0 &   2\\\\\n",
       "\t5 &       & sdsAdultCatMPT & 7545 & 2455 & 7549 & 2451 & 0.810 &   4.9 &   5 &   1 &   5\\\\\n",
       "\t6 &       & sdsAdultDecM   & 7552 & 2448 & 7537 & 2463 & 0.770 &   1.7 &   2 &  13 &   2\\\\\n",
       "\t7 &       & sdsAdultDecMH  & 7565 & 2435 & 7554 & 2446 & 0.720 &  15.4 &  15 &   4 &  15\\\\\n",
       "\t8 &       & sdsAdultDecMHT & 7587 & 2413 & 7575 & 2425 & 0.748 &  36.9 &  37 &  25 &  37\\\\\n",
       "\t9 &       & sdsAdultDecML  & 7565 & 2435 & 7554 & 2446 & 0.780 &  15.4 &  15 &   4 &  15\\\\\n",
       "\t10 &       & sdsAdultDecMLT & 7587 & 2413 & 7575 & 2425 & 0.790 &  36.9 &  37 &  25 &  37\\\\\n",
       "\t11 &       & sdsAdultDecMT  & 7585 & 2415 & 7532 & 2468 & 0.770 &  34.7 &  35 &  18 &  35\\\\\n",
       "\t12 &       & sdsAdultParM   & 7870 & 2130 & 7876 & 2124 & 0.710 & 320.4 & 320 & 326 & 320\\\\\n",
       "\t13 &       & sdsAdultParMH  & 7524 & 2476 & 7545 & 2455 & 0.740 &  25.8 &  26 &   5 &  26\\\\\n",
       "\t14 &       & sdsAdultParMHT & 7523 & 2477 & 7524 & 2476 & 0.730 &  26.9 &  27 &  26 &  27\\\\\n",
       "\t15 &       & sdsAdultParML  & 7524 & 2476 & 7545 & 2455 & 0.680 &  25.8 &  26 &   5 &  26\\\\\n",
       "\t16 &       & sdsAdultParMLT & 7523 & 2477 & 7524 & 2476 & 0.665 &  26.9 &  27 &  26 &  27\\\\\n",
       "\t17 &       & sdsAdultParMT  & 7852 & 2148 & 7861 & 2139 & 0.675 & 302.2 & 302 & 311 & 302\\\\\n",
       "\\end{tabular}\n"
      ],
      "text/markdown": [
       "\n",
       "A data.frame: 17 × 11\n",
       "\n",
       "| <!--/--> | Dataset &lt;chr&gt; | Method &lt;chr&gt; | Income.lte.50K.m.10 &lt;int&gt; | Income.gt.50K.m.10 &lt;int&gt; | Income.lte.50K.m.1000 &lt;int&gt; | Income.gt.50K.m.1000 &lt;int&gt; | CIO.Regression.Fits.Raab..2016..m.10 &lt;dbl&gt; | Deviation.From.Original.Income...50K &lt;dbl&gt; | Dev_Org_lte50K &lt;int&gt; | Dev_Org_lte50K_1000 &lt;int&gt; | Dev_Org_gt50K &lt;int&gt; |\n",
       "|---|---|---|---|---|---|---|---|---|---|---|---|\n",
       "| 1 | Adult | Original       | 7550 | 2450 | 7550 | 2450 |    NA |    NA |   0 |   0 |   0 |\n",
       "| 2 | <!----> | sdsAdultCatMC  | 7567 | 2433 | 7547 | 2453 | 0.840 |  16.9 |  17 |   3 |  17 |\n",
       "| 3 | <!----> | sdsAdultCatMCT | 7542 | 2459 | 7547 | 2453 | 0.820 |   8.5 |   8 |   3 |   9 |\n",
       "| 4 | <!----> | sdsAdultCatMP  | 7548 | 2452 | 7550 | 2450 | 0.838 |   2.2 |   2 |   0 |   2 |\n",
       "| 5 | <!----> | sdsAdultCatMPT | 7545 | 2455 | 7549 | 2451 | 0.810 |   4.9 |   5 |   1 |   5 |\n",
       "| 6 | <!----> | sdsAdultDecM   | 7552 | 2448 | 7537 | 2463 | 0.770 |   1.7 |   2 |  13 |   2 |\n",
       "| 7 | <!----> | sdsAdultDecMH  | 7565 | 2435 | 7554 | 2446 | 0.720 |  15.4 |  15 |   4 |  15 |\n",
       "| 8 | <!----> | sdsAdultDecMHT | 7587 | 2413 | 7575 | 2425 | 0.748 |  36.9 |  37 |  25 |  37 |\n",
       "| 9 | <!----> | sdsAdultDecML  | 7565 | 2435 | 7554 | 2446 | 0.780 |  15.4 |  15 |   4 |  15 |\n",
       "| 10 | <!----> | sdsAdultDecMLT | 7587 | 2413 | 7575 | 2425 | 0.790 |  36.9 |  37 |  25 |  37 |\n",
       "| 11 | <!----> | sdsAdultDecMT  | 7585 | 2415 | 7532 | 2468 | 0.770 |  34.7 |  35 |  18 |  35 |\n",
       "| 12 | <!----> | sdsAdultParM   | 7870 | 2130 | 7876 | 2124 | 0.710 | 320.4 | 320 | 326 | 320 |\n",
       "| 13 | <!----> | sdsAdultParMH  | 7524 | 2476 | 7545 | 2455 | 0.740 |  25.8 |  26 |   5 |  26 |\n",
       "| 14 | <!----> | sdsAdultParMHT | 7523 | 2477 | 7524 | 2476 | 0.730 |  26.9 |  27 |  26 |  27 |\n",
       "| 15 | <!----> | sdsAdultParML  | 7524 | 2476 | 7545 | 2455 | 0.680 |  25.8 |  26 |   5 |  26 |\n",
       "| 16 | <!----> | sdsAdultParMLT | 7523 | 2477 | 7524 | 2476 | 0.665 |  26.9 |  27 |  26 |  27 |\n",
       "| 17 | <!----> | sdsAdultParMT  | 7852 | 2148 | 7861 | 2139 | 0.675 | 302.2 | 302 | 311 | 302 |\n",
       "\n"
      ],
      "text/plain": [
       "   Dataset Method         Income.lte.50K.m.10 Income.gt.50K.m.10\n",
       "1  Adult   Original       7550                2450              \n",
       "2          sdsAdultCatMC  7567                2433              \n",
       "3          sdsAdultCatMCT 7542                2459              \n",
       "4          sdsAdultCatMP  7548                2452              \n",
       "5          sdsAdultCatMPT 7545                2455              \n",
       "6          sdsAdultDecM   7552                2448              \n",
       "7          sdsAdultDecMH  7565                2435              \n",
       "8          sdsAdultDecMHT 7587                2413              \n",
       "9          sdsAdultDecML  7565                2435              \n",
       "10         sdsAdultDecMLT 7587                2413              \n",
       "11         sdsAdultDecMT  7585                2415              \n",
       "12         sdsAdultParM   7870                2130              \n",
       "13         sdsAdultParMH  7524                2476              \n",
       "14         sdsAdultParMHT 7523                2477              \n",
       "15         sdsAdultParML  7524                2476              \n",
       "16         sdsAdultParMLT 7523                2477              \n",
       "17         sdsAdultParMT  7852                2148              \n",
       "   Income.lte.50K.m.1000 Income.gt.50K.m.1000\n",
       "1  7550                  2450                \n",
       "2  7547                  2453                \n",
       "3  7547                  2453                \n",
       "4  7550                  2450                \n",
       "5  7549                  2451                \n",
       "6  7537                  2463                \n",
       "7  7554                  2446                \n",
       "8  7575                  2425                \n",
       "9  7554                  2446                \n",
       "10 7575                  2425                \n",
       "11 7532                  2468                \n",
       "12 7876                  2124                \n",
       "13 7545                  2455                \n",
       "14 7524                  2476                \n",
       "15 7545                  2455                \n",
       "16 7524                  2476                \n",
       "17 7861                  2139                \n",
       "   CIO.Regression.Fits.Raab..2016..m.10 Deviation.From.Original.Income...50K\n",
       "1     NA                                   NA                               \n",
       "2  0.840                                 16.9                               \n",
       "3  0.820                                  8.5                               \n",
       "4  0.838                                  2.2                               \n",
       "5  0.810                                  4.9                               \n",
       "6  0.770                                  1.7                               \n",
       "7  0.720                                 15.4                               \n",
       "8  0.748                                 36.9                               \n",
       "9  0.780                                 15.4                               \n",
       "10 0.790                                 36.9                               \n",
       "11 0.770                                 34.7                               \n",
       "12 0.710                                320.4                               \n",
       "13 0.740                                 25.8                               \n",
       "14 0.730                                 26.9                               \n",
       "15 0.680                                 25.8                               \n",
       "16 0.665                                 26.9                               \n",
       "17 0.675                                302.2                               \n",
       "   Dev_Org_lte50K Dev_Org_lte50K_1000 Dev_Org_gt50K\n",
       "1    0              0                   0          \n",
       "2   17              3                  17          \n",
       "3    8              3                   9          \n",
       "4    2              0                   2          \n",
       "5    5              1                   5          \n",
       "6    2             13                   2          \n",
       "7   15              4                  15          \n",
       "8   37             25                  37          \n",
       "9   15              4                  15          \n",
       "10  37             25                  37          \n",
       "11  35             18                  35          \n",
       "12 320            326                 320          \n",
       "13  26              5                  26          \n",
       "14  27             26                  27          \n",
       "15  26              5                  26          \n",
       "16  27             26                  27          \n",
       "17 302            311                 302          "
      ]
     },
     "metadata": {},
     "output_type": "display_data"
    }
   ],
   "source": [
    "# Calculate devitain from original\n",
    "adult_units_result <- adult_units_result %>% mutate(Dev_Org_lte50K = abs(Income.lte.50K.m.10 - Income.lte.50K.m.10[Method == \"Original\"]))\n",
    "adult_units_result <- adult_units_result %>% mutate(Dev_Org_lte50K_1000 = abs(Income.gt.50K.m.1000 - Income.gt.50K.m.1000[Method == \"Original\"]))\n",
    "adult_units_result <- adult_units_result %>% mutate(Dev_Org_gt50K = abs(Income.gt.50K.m.10 - Income.gt.50K.m.10[Method == \"Original\"]))\n",
    "adult_units_result"
   ]
  },
  {
   "cell_type": "code",
   "execution_count": 133,
   "id": "f92ab29c",
   "metadata": {},
   "outputs": [
    {
     "data": {
      "text/plain": [
       "\n",
       "\tPearson's product-moment correlation\n",
       "\n",
       "data:  adult_units_result$Dev_Org_lte50K and adult_result$CIO.Regression.Fits.Raab..2016..m.10\n",
       "t = -0.76394, df = 15, p-value = 0.4568\n",
       "alternative hypothesis: true correlation is not equal to 0\n",
       "95 percent confidence interval:\n",
       " -0.6167943  0.3165699\n",
       "sample estimates:\n",
       "       cor \n",
       "-0.1935205 \n"
      ]
     },
     "metadata": {},
     "output_type": "display_data"
    }
   ],
   "source": [
    "# Correlation CIO & Units Income <50K\n",
    "units_income_lte50k_cio <- cor.test(adult_units_result$Dev_Org_lte50K, adult_result$CIO.Regression.Fits.Raab..2016..m.10, \n",
    "                    method = \"pearson\")\n",
    "units_income_lte50k_cio"
   ]
  },
  {
   "cell_type": "code",
   "execution_count": 134,
   "id": "4988a575",
   "metadata": {},
   "outputs": [
    {
     "data": {
      "text/plain": [
       "\n",
       "\tPearson's product-moment correlation\n",
       "\n",
       "data:  adult_units_result$Dev_Org_lte50K and adult_result$APO.above.90..Raab..2016..m.10\n",
       "t = -0.77485, df = 15, p-value = 0.4505\n",
       "alternative hypothesis: true correlation is not equal to 0\n",
       "95 percent confidence interval:\n",
       " -0.6185031  0.3140819\n",
       "sample estimates:\n",
       "       cor \n",
       "-0.1961783 \n"
      ]
     },
     "metadata": {},
     "output_type": "display_data"
    }
   ],
   "source": [
    "# Correlation APO & Units Income <50K\n",
    "units_income_lte50k_apo <- cor.test(adult_units_result$Dev_Org_lte50K, adult_result$APO.above.90..Raab..2016..m.10, \n",
    "                    method = \"pearson\")\n",
    "units_income_lte50k_apo"
   ]
  },
  {
   "cell_type": "code",
   "execution_count": 149,
   "id": "b0328560",
   "metadata": {},
   "outputs": [
    {
     "data": {
      "text/plain": [
       "\n",
       "\tPearson's product-moment correlation\n",
       "\n",
       "data:  adult_units_result$Dev_Org_lte50K and adult_result$Average.KL.Dv.over.all.variables.and.normalized.using.sample\n",
       "t = 1.5, df = 14, p-value = 0.1558\n",
       "alternative hypothesis: true correlation is not equal to 0\n",
       "95 percent confidence interval:\n",
       " -0.1515670  0.7326612\n",
       "sample estimates:\n",
       "      cor \n",
       "0.3720948 \n"
      ]
     },
     "metadata": {},
     "output_type": "display_data"
    }
   ],
   "source": [
    "# Correlation KL-divergence & Units Income <50K\n",
    "units_income_lte50k_kl <- cor.test(adult_units_result$Dev_Org_lte50K, adult_result$Average.KL.Dv.over.all.variables.and.normalized.using.sample, \n",
    "                    method = \"pearson\")\n",
    "units_income_lte50k_kl"
   ]
  }
 ],
 "metadata": {
  "kernelspec": {
   "display_name": "R",
   "language": "R",
   "name": "ir"
  },
  "language_info": {
   "codemirror_mode": "r",
   "file_extension": ".r",
   "mimetype": "text/x-r-source",
   "name": "R",
   "pygments_lexer": "r",
   "version": "4.0.5"
  }
 },
 "nbformat": 4,
 "nbformat_minor": 5
}
